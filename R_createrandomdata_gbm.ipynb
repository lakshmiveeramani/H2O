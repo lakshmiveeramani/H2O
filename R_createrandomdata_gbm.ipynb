{
 "cells": [
  {
   "cell_type": "code",
   "execution_count": 52,
   "id": "11608fe7",
   "metadata": {},
   "outputs": [],
   "source": [
    "library(h2o)"
   ]
  },
  {
   "cell_type": "code",
   "execution_count": 53,
   "id": "91f73216",
   "metadata": {},
   "outputs": [
    {
     "name": "stdout",
     "output_type": "stream",
     "text": [
      " Connection successful!\n",
      "\n",
      "R is connected to the H2O cluster: \n",
      "    H2O cluster uptime:         1 hours 30 minutes \n",
      "    H2O cluster timezone:       America/New_York \n",
      "    H2O data parsing timezone:  UTC \n",
      "    H2O cluster version:        3.36.0.3 \n",
      "    H2O cluster version age:    9 days  \n",
      "    H2O cluster name:           H2O_started_from_R_laksh_fdd511 \n",
      "    H2O cluster total nodes:    1 \n",
      "    H2O cluster total memory:   0.81 GB \n",
      "    H2O cluster total cores:    4 \n",
      "    H2O cluster allowed cores:  4 \n",
      "    H2O cluster healthy:        TRUE \n",
      "    H2O Connection ip:          localhost \n",
      "    H2O Connection port:        54321 \n",
      "    H2O Connection proxy:       NA \n",
      "    H2O Internal Security:      FALSE \n",
      "    R Version:                  R version 3.6.1 (2019-07-05) \n",
      "\n"
     ]
    }
   ],
   "source": [
    "h2o.init()"
   ]
  },
  {
   "cell_type": "code",
   "execution_count": 54,
   "id": "ab1a1746",
   "metadata": {},
   "outputs": [],
   "source": [
    "set.seed(123)"
   ]
  },
  {
   "cell_type": "code",
   "execution_count": 55,
   "id": "6d9d3e30",
   "metadata": {},
   "outputs": [],
   "source": [
    "N <- 1000"
   ]
  },
  {
   "cell_type": "code",
   "execution_count": 56,
   "id": "71c99e10",
   "metadata": {},
   "outputs": [],
   "source": [
    "bloodTypes <- c('A', 'A', 'A', 'O', 'O', 'O','AB','B')"
   ]
  },
  {
   "cell_type": "code",
   "execution_count": 57,
   "id": "8ecef4aa",
   "metadata": {},
   "outputs": [],
   "source": [
    "d <- data.frame(id = 1:N)"
   ]
  },
  {
   "cell_type": "code",
   "execution_count": 58,
   "id": "7911bed4",
   "metadata": {},
   "outputs": [],
   "source": [
    "d$bloodType <- as.factor(bloodTypes[(d$id %% length(bloodTypes)) + 1])"
   ]
  },
  {
   "cell_type": "code",
   "execution_count": 59,
   "id": "f5040ece",
   "metadata": {},
   "outputs": [],
   "source": [
    "d$age <- runif(N, min=18, max=65)\n"
   ]
  },
  {
   "cell_type": "code",
   "execution_count": 60,
   "id": "96673cb5",
   "metadata": {},
   "outputs": [
    {
     "data": {
      "text/plain": [
       "v\n",
       "  0   1   2   3   4   5   6   7   8   9 \n",
       "  7  36  61 126 148 204 192 127  56  43 "
      ]
     },
     "metadata": {},
     "output_type": "display_data"
    }
   ],
   "source": [
    "v = round(rnorm(N, mean =5, sd=2))\n",
    "v =pmax(v,0)\n",
    "v =pmin(v,9)\n",
    "table(v)\n",
    "d$healthyeating =v"
   ]
  },
  {
   "cell_type": "code",
   "execution_count": 61,
   "id": "75b6137e",
   "metadata": {},
   "outputs": [
    {
     "data": {
      "text/plain": [
       "v\n",
       "  0   1   2   3   4   5   6   7   8   9 \n",
       "  7  29  56  97 172 199 166 128  96  50 "
      ]
     },
     "metadata": {},
     "output_type": "display_data"
    }
   ],
   "source": [
    "v = round(rnorm(N, mean =5, sd = 2))\n",
    "v = v+ifelse(d$age < 30, 1, 0)\n",
    "v =pmax(v,0)\n",
    "v =pmin(v,9)\n",
    "table(v)\n",
    "d$activelifecycle =v"
   ]
  },
  {
   "cell_type": "code",
   "execution_count": 62,
   "id": "9d7ecf47",
   "metadata": {},
   "outputs": [],
   "source": [
    "v = 20000 + ((d$age * 3)^2)#base salary based on age\n",
    "v = v+ (d$healthyeating * 500)\n",
    "v = v -  (d$activelifecycle * 300)\n",
    "v = v+runif(N, 0, 5000)\n",
    "d$income = round(v, -2)#round to nearest 100"
   ]
  },
  {
   "cell_type": "code",
   "execution_count": 72,
   "id": "467b18e6",
   "metadata": {},
   "outputs": [
    {
     "name": "stdout",
     "output_type": "stream",
     "text": [
      "  |======================================================================| 100%\n"
     ]
    },
    {
     "data": {
      "text/plain": [
       "  id bloodType      age healthyeating activelifecycle income\n",
       "1  1         A 31.51614             4               3  31300\n",
       "2  2         A 55.05034             3               4  52500\n",
       "3  3         O 37.22192             7               3  38700\n",
       "4  4         O 59.50182             7               6  56800\n",
       "5  5         O 62.20196             2               7  54900\n",
       "6  6        AB 20.14116             5               9  23900\n",
       "\n",
       "[1000 rows x 6 columns] "
      ]
     },
     "metadata": {},
     "output_type": "display_data"
    }
   ],
   "source": [
    "as.h2o(d, destination_frame = \"people\")"
   ]
  },
  {
   "cell_type": "code",
   "execution_count": 73,
   "id": "ca2945ce",
   "metadata": {},
   "outputs": [],
   "source": [
    "people = h2o.getFrame(\"people\")"
   ]
  },
  {
   "cell_type": "code",
   "execution_count": 74,
   "id": "5c1efbd2",
   "metadata": {},
   "outputs": [
    {
     "name": "stderr",
     "output_type": "stream",
     "text": [
      "Warning message in summary.H2OFrame(people):\n",
      "\"Approximated quantiles computed! If you are interested in exact quantiles, please pass the `exact_quantiles=TRUE` parameter.\""
     ]
    },
    {
     "data": {
      "text/plain": [
       " id               bloodType age             healthyeating   activelifecycle\n",
       " Min.   :   1.0   A :375    Min.   :18.02   Min.   :0.000   Min.   :0.000  \n",
       " 1st Qu.: 250.8   O :375    1st Qu.:29.89   1st Qu.:4.000   1st Qu.:4.000  \n",
       " Median : 500.5   AB:125    Median :41.00   Median :5.000   Median :5.000  \n",
       " Mean   : 500.5   B :125    Mean   :41.37   Mean   :5.024   Mean   :5.225  \n",
       " 3rd Qu.: 750.2             3rd Qu.:53.06   3rd Qu.:6.000   3rd Qu.:7.000  \n",
       " Max.   :1000.0             Max.   :64.97   Max.   :9.000   Max.   :9.000  \n",
       " income         \n",
       " Min.   :22600  \n",
       " 1st Qu.:31378  \n",
       " Median :38980  \n",
       " Mean   :40520  \n",
       " 3rd Qu.:48798  \n",
       " Max.   :64600  "
      ]
     },
     "metadata": {},
     "output_type": "display_data"
    }
   ],
   "source": [
    "summary(people)"
   ]
  },
  {
   "cell_type": "code",
   "execution_count": 75,
   "id": "488a52e1",
   "metadata": {},
   "outputs": [],
   "source": [
    "parts <- h2o.splitFrame(people, c(0.8, 0.1),\n",
    "                        destination_frames = c(\"ptrain\",\"pvalid\",\"ptest\"),\n",
    "                       seed = 123)"
   ]
  },
  {
   "cell_type": "code",
   "execution_count": 76,
   "id": "afe42188",
   "metadata": {},
   "outputs": [
    {
     "data": {
      "text/html": [
       "<ol class=list-inline>\n",
       "\t<li>788</li>\n",
       "\t<li>118</li>\n",
       "\t<li>94</li>\n",
       "</ol>\n"
      ],
      "text/latex": [
       "\\begin{enumerate*}\n",
       "\\item 788\n",
       "\\item 118\n",
       "\\item 94\n",
       "\\end{enumerate*}\n"
      ],
      "text/markdown": [
       "1. 788\n",
       "2. 118\n",
       "3. 94\n",
       "\n",
       "\n"
      ],
      "text/plain": [
       "[1] 788 118  94"
      ]
     },
     "metadata": {},
     "output_type": "display_data"
    }
   ],
   "source": [
    "sapply(parts, nrow)"
   ]
  },
  {
   "cell_type": "code",
   "execution_count": 77,
   "id": "82a3439b",
   "metadata": {},
   "outputs": [],
   "source": [
    "train <- parts[[1]]"
   ]
  },
  {
   "cell_type": "code",
   "execution_count": 78,
   "id": "5e80f4a7",
   "metadata": {},
   "outputs": [
    {
     "data": {
      "text/plain": [
       "  id bloodType      age healthyeating activelifecycle income\n",
       "1  1         A 31.51614             4               3  31300\n",
       "2  2         A 55.05034             3               4  52500\n",
       "3  3         O 37.22192             7               3  38700\n",
       "4  4         O 59.50182             7               6  56800\n",
       "5  5         O 62.20196             2               7  54900\n",
       "6  6        AB 20.14116             5               9  23900\n",
       "\n",
       "[788 rows x 6 columns] "
      ]
     },
     "metadata": {},
     "output_type": "display_data"
    }
   ],
   "source": [
    "train"
   ]
  },
  {
   "cell_type": "code",
   "execution_count": 79,
   "id": "6e2a08c2",
   "metadata": {},
   "outputs": [],
   "source": [
    "valid <- parts[[2]]"
   ]
  },
  {
   "cell_type": "code",
   "execution_count": 80,
   "id": "5f9cfc98",
   "metadata": {},
   "outputs": [],
   "source": [
    "test <-  parts[[3]]"
   ]
  },
  {
   "cell_type": "code",
   "execution_count": 81,
   "id": "6b31731c",
   "metadata": {},
   "outputs": [],
   "source": [
    "train <- h2o.getFrame(\"ptrain\")"
   ]
  },
  {
   "cell_type": "code",
   "execution_count": 82,
   "id": "7cd9f69c",
   "metadata": {},
   "outputs": [
    {
     "data": {
      "text/plain": [
       "  id bloodType      age healthyeating activelifecycle income\n",
       "1  1         A 31.51614             4               3  31300\n",
       "2  2         A 55.05034             3               4  52500\n",
       "3  3         O 37.22192             7               3  38700\n",
       "4  4         O 59.50182             7               6  56800\n",
       "5  5         O 62.20196             2               7  54900\n",
       "6  6        AB 20.14116             5               9  23900\n",
       "\n",
       "[788 rows x 6 columns] "
      ]
     },
     "metadata": {},
     "output_type": "display_data"
    }
   ],
   "source": [
    "train"
   ]
  },
  {
   "cell_type": "code",
   "execution_count": 84,
   "id": "1e309d6e",
   "metadata": {},
   "outputs": [],
   "source": [
    "valid <- h2o.getFrame(\"pvalid\")"
   ]
  },
  {
   "cell_type": "code",
   "execution_count": 85,
   "id": "e1f01ab8",
   "metadata": {},
   "outputs": [],
   "source": [
    "test <- h2o.getFrame(\"ptest\")"
   ]
  },
  {
   "cell_type": "code",
   "execution_count": 86,
   "id": "37768e66",
   "metadata": {},
   "outputs": [],
   "source": [
    "y <- \"income\""
   ]
  },
  {
   "cell_type": "code",
   "execution_count": 87,
   "id": "80c232f7",
   "metadata": {},
   "outputs": [],
   "source": [
    "x <- setdiff(names(train), c(\"id\", y))"
   ]
  },
  {
   "cell_type": "code",
   "execution_count": 88,
   "id": "2060b227",
   "metadata": {},
   "outputs": [
    {
     "data": {
      "text/html": [
       "<ol class=list-inline>\n",
       "\t<li>'bloodType'</li>\n",
       "\t<li>'age'</li>\n",
       "\t<li>'healthyeating'</li>\n",
       "\t<li>'activelifecycle'</li>\n",
       "</ol>\n"
      ],
      "text/latex": [
       "\\begin{enumerate*}\n",
       "\\item 'bloodType'\n",
       "\\item 'age'\n",
       "\\item 'healthyeating'\n",
       "\\item 'activelifecycle'\n",
       "\\end{enumerate*}\n"
      ],
      "text/markdown": [
       "1. 'bloodType'\n",
       "2. 'age'\n",
       "3. 'healthyeating'\n",
       "4. 'activelifecycle'\n",
       "\n",
       "\n"
      ],
      "text/plain": [
       "[1] \"bloodType\"       \"age\"             \"healthyeating\"   \"activelifecycle\""
      ]
     },
     "metadata": {},
     "output_type": "display_data"
    }
   ],
   "source": [
    "x"
   ]
  },
  {
   "cell_type": "code",
   "execution_count": 89,
   "id": "d84e2883",
   "metadata": {},
   "outputs": [
    {
     "data": {
      "text/html": [
       "'income'"
      ],
      "text/latex": [
       "'income'"
      ],
      "text/markdown": [
       "'income'"
      ],
      "text/plain": [
       "[1] \"income\""
      ]
     },
     "metadata": {},
     "output_type": "display_data"
    }
   ],
   "source": [
    "y"
   ]
  },
  {
   "cell_type": "code",
   "execution_count": 90,
   "id": "7a62d4f2",
   "metadata": {},
   "outputs": [
    {
     "name": "stdout",
     "output_type": "stream",
     "text": [
      "  |======================================================================| 100%\n"
     ]
    }
   ],
   "source": [
    "m1 <- h2o.gbm(x, y, train, model_id = \"defaults_r\", validation_frame = valid)"
   ]
  },
  {
   "cell_type": "code",
   "execution_count": 91,
   "id": "0b7ce492",
   "metadata": {},
   "outputs": [
    {
     "data": {
      "text/plain": [
       "H2ORegressionMetrics: gbm\n",
       "** Reported on training data. **\n",
       "\n",
       "MSE:  1153342\n",
       "RMSE:  1073.938\n",
       "MAE:  895.534\n",
       "RMSLE:  0.02987908\n",
       "Mean Residual Deviance :  1153342\n"
      ]
     },
     "metadata": {},
     "output_type": "display_data"
    }
   ],
   "source": [
    "h2o.performance(m1, train = TRUE)"
   ]
  },
  {
   "cell_type": "code",
   "execution_count": 92,
   "id": "1ad3530a",
   "metadata": {},
   "outputs": [
    {
     "data": {
      "text/plain": [
       "H2ORegressionMetrics: gbm\n",
       "** Reported on validation data. **\n",
       "\n",
       "MSE:  2821231\n",
       "RMSE:  1679.652\n",
       "MAE:  1444.85\n",
       "RMSLE:  0.0452246\n",
       "Mean Residual Deviance :  2821231\n"
      ]
     },
     "metadata": {},
     "output_type": "display_data"
    }
   ],
   "source": [
    "h2o.performance(m1, valid = TRUE)"
   ]
  },
  {
   "cell_type": "code",
   "execution_count": 93,
   "id": "d8fedaf0",
   "metadata": {},
   "outputs": [
    {
     "data": {
      "text/plain": [
       "H2ORegressionMetrics: gbm\n",
       "\n",
       "MSE:  2525395\n",
       "RMSE:  1589.149\n",
       "MAE:  1365.796\n",
       "RMSLE:  0.04294726\n",
       "Mean Residual Deviance :  2525395\n"
      ]
     },
     "metadata": {},
     "output_type": "display_data"
    }
   ],
   "source": [
    "h2o.performance(m1, test)"
   ]
  },
  {
   "cell_type": "code",
   "execution_count": null,
   "id": "87b2db4f",
   "metadata": {},
   "outputs": [],
   "source": []
  }
 ],
 "metadata": {
  "kernelspec": {
   "display_name": "R",
   "language": "R",
   "name": "ir"
  },
  "language_info": {
   "codemirror_mode": "r",
   "file_extension": ".r",
   "mimetype": "text/x-r-source",
   "name": "R",
   "pygments_lexer": "r",
   "version": "3.6.1"
  }
 },
 "nbformat": 4,
 "nbformat_minor": 5
}
