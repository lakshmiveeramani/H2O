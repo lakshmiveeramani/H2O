{
 "cells": [
  {
   "cell_type": "code",
   "execution_count": 63,
   "id": "8cb9aa97",
   "metadata": {},
   "outputs": [],
   "source": [
    "library(h2o)"
   ]
  },
  {
   "cell_type": "code",
   "execution_count": 64,
   "id": "6a71db3b",
   "metadata": {},
   "outputs": [
    {
     "name": "stdout",
     "output_type": "stream",
     "text": [
      " Connection successful!\n",
      "\n",
      "R is connected to the H2O cluster: \n",
      "    H2O cluster uptime:         5 hours 26 minutes \n",
      "    H2O cluster timezone:       America/New_York \n",
      "    H2O data parsing timezone:  UTC \n",
      "    H2O cluster version:        3.36.0.3 \n",
      "    H2O cluster version age:    8 days  \n",
      "    H2O cluster name:           H2O_started_from_R_laksh_rlm019 \n",
      "    H2O cluster total nodes:    1 \n",
      "    H2O cluster total memory:   0.78 GB \n",
      "    H2O cluster total cores:    4 \n",
      "    H2O cluster allowed cores:  4 \n",
      "    H2O cluster healthy:        TRUE \n",
      "    H2O Connection ip:          localhost \n",
      "    H2O Connection port:        54321 \n",
      "    H2O Connection proxy:       NA \n",
      "    H2O Internal Security:      FALSE \n",
      "    R Version:                  R version 3.6.1 (2019-07-05) \n",
      "\n"
     ]
    }
   ],
   "source": [
    "h2o.init()"
   ]
  },
  {
   "cell_type": "code",
   "execution_count": 65,
   "id": "9bd0c248",
   "metadata": {},
   "outputs": [],
   "source": [
    "url <- \"http://h2o-public-test-data.s3.amazonaws.com/smalldata/iris/iris_wheader.csv\""
   ]
  },
  {
   "cell_type": "code",
   "execution_count": 66,
   "id": "23914646",
   "metadata": {},
   "outputs": [
    {
     "data": {
      "text/html": [
       "'http://h2o-public-test-data.s3.amazonaws.com/smalldata/iris/iris_wheader.csv'"
      ],
      "text/latex": [
       "'http://h2o-public-test-data.s3.amazonaws.com/smalldata/iris/iris\\_wheader.csv'"
      ],
      "text/markdown": [
       "'http://h2o-public-test-data.s3.amazonaws.com/smalldata/iris/iris_wheader.csv'"
      ],
      "text/plain": [
       "[1] \"http://h2o-public-test-data.s3.amazonaws.com/smalldata/iris/iris_wheader.csv\""
      ]
     },
     "metadata": {},
     "output_type": "display_data"
    }
   ],
   "source": [
    "url"
   ]
  },
  {
   "cell_type": "code",
   "execution_count": 67,
   "id": "6dd7a634",
   "metadata": {},
   "outputs": [
    {
     "name": "stdout",
     "output_type": "stream",
     "text": [
      "  |======================================================================| 100%\n"
     ]
    }
   ],
   "source": [
    "iris <- h2o.importFile(url)"
   ]
  },
  {
   "cell_type": "code",
   "execution_count": 68,
   "id": "6243d447",
   "metadata": {},
   "outputs": [],
   "source": [
    "parts <- h2o.splitFrame(iris, 0.8)"
   ]
  },
  {
   "cell_type": "code",
   "execution_count": 69,
   "id": "e5937427",
   "metadata": {},
   "outputs": [],
   "source": [
    "train <- parts[[1]]"
   ]
  },
  {
   "cell_type": "code",
   "execution_count": 70,
   "id": "12f4f44e",
   "metadata": {},
   "outputs": [],
   "source": [
    "test <- parts[[2]]"
   ]
  },
  {
   "cell_type": "code",
   "execution_count": 71,
   "id": "51f9672d",
   "metadata": {},
   "outputs": [
    {
     "name": "stderr",
     "output_type": "stream",
     "text": [
      "Warning message in summary.H2OFrame(train):\n",
      "\"Approximated quantiles computed! If you are interested in exact quantiles, please pass the `exact_quantiles=TRUE` parameter.\""
     ]
    },
    {
     "data": {
      "text/plain": [
       " sepal_len       sepal_wid       petal_len       petal_wid       \n",
       " Min.   :4.300   Min.   :2.000   Min.   :1.000   Min.   :0.1000  \n",
       " 1st Qu.:5.099   1st Qu.:2.799   1st Qu.:1.496   1st Qu.:0.2992  \n",
       " Median :5.747   Median :2.998   Median :4.198   Median :1.3000  \n",
       " Mean   :5.836   Mean   :3.082   Mean   :3.678   Mean   :1.1658  \n",
       " 3rd Qu.:6.399   3rd Qu.:3.399   3rd Qu.:5.095   3rd Qu.:1.7992  \n",
       " Max.   :7.900   Max.   :4.400   Max.   :6.900   Max.   :2.5000  \n",
       " class              \n",
       " Iris-setosa    :43 \n",
       " Iris-virginica :39 \n",
       " Iris-versicolor:38 \n",
       "                    \n",
       "                    \n",
       "                    "
      ]
     },
     "metadata": {},
     "output_type": "display_data"
    }
   ],
   "source": [
    "summary(train)"
   ]
  },
  {
   "cell_type": "code",
   "execution_count": 72,
   "id": "083400ba",
   "metadata": {},
   "outputs": [
    {
     "data": {
      "text/html": [
       "120"
      ],
      "text/latex": [
       "120"
      ],
      "text/markdown": [
       "120"
      ],
      "text/plain": [
       "[1] 120"
      ]
     },
     "metadata": {},
     "output_type": "display_data"
    }
   ],
   "source": [
    "nrow(train)"
   ]
  },
  {
   "cell_type": "code",
   "execution_count": 73,
   "id": "7febf7a1",
   "metadata": {},
   "outputs": [
    {
     "data": {
      "text/html": [
       "30"
      ],
      "text/latex": [
       "30"
      ],
      "text/markdown": [
       "30"
      ],
      "text/plain": [
       "[1] 30"
      ]
     },
     "metadata": {},
     "output_type": "display_data"
    }
   ],
   "source": [
    "nrow(test)"
   ]
  },
  {
   "cell_type": "code",
   "execution_count": 74,
   "id": "99e23e5e",
   "metadata": {},
   "outputs": [
    {
     "name": "stdout",
     "output_type": "stream",
     "text": [
      "  |======================================================================| 100%\n"
     ]
    }
   ],
   "source": [
    "mGBM <- h2o.gbm(1:4, 5, train)"
   ]
  },
  {
   "cell_type": "code",
   "execution_count": 75,
   "id": "58d48e0b",
   "metadata": {},
   "outputs": [
    {
     "data": {
      "text/plain": [
       "Model Details:\n",
       "==============\n",
       "\n",
       "H2OMultinomialModel: gbm\n",
       "Model ID:  GBM_model_R_1645782701179_8 \n",
       "Model Summary: \n",
       "  number_of_trees number_of_internal_trees model_size_in_bytes min_depth\n",
       "1              50                      150               23061         1\n",
       "  max_depth mean_depth min_leaves max_leaves mean_leaves\n",
       "1         5    4.47333          2         10     7.60667\n",
       "\n",
       "\n",
       "H2OMultinomialMetrics: gbm\n",
       "** Reported on training data. **\n",
       "\n",
       "Training Set Metrics: \n",
       "=====================\n",
       "\n",
       "Extract training frame with `h2o.getFrame(\"RTMP_sid_97f3_187\")`\n",
       "MSE: (Extract with `h2o.mse`) 7.73184e-05\n",
       "RMSE: (Extract with `h2o.rmse`) 0.008793088\n",
       "Logloss: (Extract with `h2o.logloss`) 0.004004687\n",
       "Mean Per-Class Error: 0\n",
       "AUC: (Extract with `h2o.auc`) NaN\n",
       "AUCPR: (Extract with `h2o.aucpr`) NaN\n",
       "R^2: (Extract with `h2o.r2`) 0.9998867\n",
       "Confusion Matrix: Extract with `h2o.confusionMatrix(<model>,train = TRUE)`)\n",
       "=========================================================================\n",
       "Confusion Matrix: Row labels: Actual class; Column labels: Predicted class\n",
       "                Iris-setosa Iris-versicolor Iris-virginica  Error      Rate\n",
       "Iris-setosa              43               0              0 0.0000 =  0 / 43\n",
       "Iris-versicolor           0              38              0 0.0000 =  0 / 38\n",
       "Iris-virginica            0               0             39 0.0000 =  0 / 39\n",
       "Totals                   43              38             39 0.0000 = 0 / 120\n",
       "\n",
       "Hit Ratio Table: Extract with `h2o.hit_ratio_table(<model>,train = TRUE)`\n",
       "=======================================================================\n",
       "Top-3 Hit Ratios: \n",
       "  k hit_ratio\n",
       "1 1  1.000000\n",
       "2 2  1.000000\n",
       "3 3  1.000000\n",
       "\n",
       "\n",
       "\n",
       "\n",
       "\n"
      ]
     },
     "metadata": {},
     "output_type": "display_data"
    }
   ],
   "source": [
    "mGBM"
   ]
  },
  {
   "cell_type": "code",
   "execution_count": 76,
   "id": "1f5a286e",
   "metadata": {},
   "outputs": [
    {
     "name": "stdout",
     "output_type": "stream",
     "text": [
      "  |======================================================================| 100%\n"
     ]
    }
   ],
   "source": [
    "p = h2o.predict(mGBM, test)"
   ]
  },
  {
   "cell_type": "code",
   "execution_count": 77,
   "id": "7951a153",
   "metadata": {},
   "outputs": [
    {
     "data": {
      "text/plain": [
       "H2OMultinomialMetrics: gbm\n",
       "\n",
       "Test Set Metrics: \n",
       "=====================\n",
       "\n",
       "MSE: (Extract with `h2o.mse`) 0.09710582\n",
       "RMSE: (Extract with `h2o.rmse`) 0.3116181\n",
       "Logloss: (Extract with `h2o.logloss`) 0.4034508\n",
       "Mean Per-Class Error: 0.08585859\n",
       "AUC: (Extract with `h2o.auc`) NaN\n",
       "AUCPR: (Extract with `h2o.aucpr`) NaN\n",
       "R^2: (Extract with `h2o.r2`) 0.8332152\n",
       "Confusion Matrix: Extract with `h2o.confusionMatrix(<model>, <data>)`)\n",
       "=========================================================================\n",
       "Confusion Matrix: Row labels: Actual class; Column labels: Predicted class\n",
       "                Iris-setosa Iris-versicolor Iris-virginica  Error     Rate\n",
       "Iris-setosa               7               0              0 0.0000 =  0 / 7\n",
       "Iris-versicolor           0              10              2 0.1667 = 2 / 12\n",
       "Iris-virginica            0               1             10 0.0909 = 1 / 11\n",
       "Totals                    7              11             12 0.1000 = 3 / 30\n",
       "\n",
       "Hit Ratio Table: Extract with `h2o.hit_ratio_table(<model>, <data>)`\n",
       "=======================================================================\n",
       "Top-3 Hit Ratios: \n",
       "  k hit_ratio\n",
       "1 1  0.900000\n",
       "2 2  1.000000\n",
       "3 3  1.000000\n",
       "\n",
       "\n"
      ]
     },
     "metadata": {},
     "output_type": "display_data"
    }
   ],
   "source": [
    "h2o.performance(mGBM, test)"
   ]
  },
  {
   "cell_type": "code",
   "execution_count": 78,
   "id": "86463b74",
   "metadata": {},
   "outputs": [],
   "source": []
  },
  {
   "cell_type": "code",
   "execution_count": null,
   "id": "c7fbceaa",
   "metadata": {},
   "outputs": [],
   "source": []
  }
 ],
 "metadata": {
  "kernelspec": {
   "display_name": "R",
   "language": "R",
   "name": "ir"
  },
  "language_info": {
   "codemirror_mode": "r",
   "file_extension": ".r",
   "mimetype": "text/x-r-source",
   "name": "R",
   "pygments_lexer": "r",
   "version": "3.6.1"
  }
 },
 "nbformat": 4,
 "nbformat_minor": 5
}
