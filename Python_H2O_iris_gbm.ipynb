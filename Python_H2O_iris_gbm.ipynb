{
 "cells": [
  {
   "cell_type": "code",
   "execution_count": 62,
   "id": "ad6923c2",
   "metadata": {},
   "outputs": [],
   "source": [
    "import h2o"
   ]
  },
  {
   "cell_type": "code",
   "execution_count": 63,
   "id": "53bfe427",
   "metadata": {},
   "outputs": [
    {
     "name": "stdout",
     "output_type": "stream",
     "text": [
      "Checking whether there is an H2O instance running at http://localhost:54321 . connected.\n"
     ]
    },
    {
     "data": {
      "text/html": [
       "<div style=\"overflow:auto\"><table style=\"width:50%\"><tr><td>H2O_cluster_uptime:</td>\n",
       "<td>5 hours 23 mins</td></tr>\n",
       "<tr><td>H2O_cluster_timezone:</td>\n",
       "<td>America/New_York</td></tr>\n",
       "<tr><td>H2O_data_parsing_timezone:</td>\n",
       "<td>UTC</td></tr>\n",
       "<tr><td>H2O_cluster_version:</td>\n",
       "<td>3.36.0.3</td></tr>\n",
       "<tr><td>H2O_cluster_version_age:</td>\n",
       "<td>8 days </td></tr>\n",
       "<tr><td>H2O_cluster_name:</td>\n",
       "<td>H2O_started_from_R_laksh_rlm019</td></tr>\n",
       "<tr><td>H2O_cluster_total_nodes:</td>\n",
       "<td>1</td></tr>\n",
       "<tr><td>H2O_cluster_free_memory:</td>\n",
       "<td>797 Mb</td></tr>\n",
       "<tr><td>H2O_cluster_total_cores:</td>\n",
       "<td>4</td></tr>\n",
       "<tr><td>H2O_cluster_allowed_cores:</td>\n",
       "<td>4</td></tr>\n",
       "<tr><td>H2O_cluster_status:</td>\n",
       "<td>locked, healthy</td></tr>\n",
       "<tr><td>H2O_connection_url:</td>\n",
       "<td>http://localhost:54321</td></tr>\n",
       "<tr><td>H2O_connection_proxy:</td>\n",
       "<td>{\"http\": null, \"https\": null}</td></tr>\n",
       "<tr><td>H2O_internal_security:</td>\n",
       "<td>False</td></tr>\n",
       "<tr><td>Python_version:</td>\n",
       "<td>3.8.8 final</td></tr></table></div>"
      ],
      "text/plain": [
       "--------------------------  -------------------------------\n",
       "H2O_cluster_uptime:         5 hours 23 mins\n",
       "H2O_cluster_timezone:       America/New_York\n",
       "H2O_data_parsing_timezone:  UTC\n",
       "H2O_cluster_version:        3.36.0.3\n",
       "H2O_cluster_version_age:    8 days\n",
       "H2O_cluster_name:           H2O_started_from_R_laksh_rlm019\n",
       "H2O_cluster_total_nodes:    1\n",
       "H2O_cluster_free_memory:    797 Mb\n",
       "H2O_cluster_total_cores:    4\n",
       "H2O_cluster_allowed_cores:  4\n",
       "H2O_cluster_status:         locked, healthy\n",
       "H2O_connection_url:         http://localhost:54321\n",
       "H2O_connection_proxy:       {\"http\": null, \"https\": null}\n",
       "H2O_internal_security:      False\n",
       "Python_version:             3.8.8 final\n",
       "--------------------------  -------------------------------"
      ]
     },
     "metadata": {},
     "output_type": "display_data"
    }
   ],
   "source": [
    "h2o.init()"
   ]
  },
  {
   "cell_type": "code",
   "execution_count": 64,
   "id": "b78a27ad",
   "metadata": {},
   "outputs": [],
   "source": [
    "url = \"http://h2o-public-test-data.s3.amazonaws.com/smalldata/iris/iris_wheader.csv\""
   ]
  },
  {
   "cell_type": "code",
   "execution_count": 65,
   "id": "98dd4626",
   "metadata": {},
   "outputs": [
    {
     "name": "stdout",
     "output_type": "stream",
     "text": [
      "Parse progress: |████████████████████████████████████████████████████████████████| (done) 100%\n"
     ]
    }
   ],
   "source": [
    "iris = h2o.import_file(url)"
   ]
  },
  {
   "cell_type": "code",
   "execution_count": 66,
   "id": "3d722016",
   "metadata": {},
   "outputs": [],
   "source": [
    "train, test =iris.split_frame([0.8])"
   ]
  },
  {
   "cell_type": "code",
   "execution_count": 67,
   "id": "ea5785dc",
   "metadata": {},
   "outputs": [
    {
     "data": {
      "text/html": [
       "<table>\n",
       "<thead>\n",
       "<tr><th>       </th><th>sepal_len         </th><th>sepal_wid         </th><th>petal_len        </th><th>petal_wid         </th><th>class      </th></tr>\n",
       "</thead>\n",
       "<tbody>\n",
       "<tr><td>type   </td><td>real              </td><td>real              </td><td>real             </td><td>real              </td><td>enum       </td></tr>\n",
       "<tr><td>mins   </td><td>4.3               </td><td>2.0               </td><td>1.0              </td><td>0.1               </td><td>           </td></tr>\n",
       "<tr><td>mean   </td><td>5.826050420168066 </td><td>3.058823529411765 </td><td>3.759663865546219</td><td>1.2084033613445377</td><td>           </td></tr>\n",
       "<tr><td>maxs   </td><td>7.9               </td><td>4.4               </td><td>6.9              </td><td>2.5               </td><td>           </td></tr>\n",
       "<tr><td>sigma  </td><td>0.7914224680030204</td><td>0.4533139303415186</td><td>1.735390315483253</td><td>0.7482838933675849</td><td>           </td></tr>\n",
       "<tr><td>zeros  </td><td>0                 </td><td>0                 </td><td>0                </td><td>0                 </td><td>           </td></tr>\n",
       "<tr><td>missing</td><td>0                 </td><td>0                 </td><td>0                </td><td>0                 </td><td>0          </td></tr>\n",
       "<tr><td>0      </td><td>5.1               </td><td>3.5               </td><td>1.4              </td><td>0.2               </td><td>Iris-setosa</td></tr>\n",
       "<tr><td>1      </td><td>4.9               </td><td>3.0               </td><td>1.4              </td><td>0.2               </td><td>Iris-setosa</td></tr>\n",
       "<tr><td>2      </td><td>4.7               </td><td>3.2               </td><td>1.3              </td><td>0.2               </td><td>Iris-setosa</td></tr>\n",
       "<tr><td>3      </td><td>5.0               </td><td>3.6               </td><td>1.4              </td><td>0.2               </td><td>Iris-setosa</td></tr>\n",
       "<tr><td>4      </td><td>5.4               </td><td>3.9               </td><td>1.7              </td><td>0.4               </td><td>Iris-setosa</td></tr>\n",
       "<tr><td>5      </td><td>4.6               </td><td>3.4               </td><td>1.4              </td><td>0.3               </td><td>Iris-setosa</td></tr>\n",
       "<tr><td>6      </td><td>4.9               </td><td>3.1               </td><td>1.5              </td><td>0.1               </td><td>Iris-setosa</td></tr>\n",
       "<tr><td>7      </td><td>5.4               </td><td>3.7               </td><td>1.5              </td><td>0.2               </td><td>Iris-setosa</td></tr>\n",
       "<tr><td>8      </td><td>4.8               </td><td>3.4               </td><td>1.6              </td><td>0.2               </td><td>Iris-setosa</td></tr>\n",
       "<tr><td>9      </td><td>4.3               </td><td>3.0               </td><td>1.1              </td><td>0.1               </td><td>Iris-setosa</td></tr>\n",
       "</tbody>\n",
       "</table>"
      ]
     },
     "metadata": {},
     "output_type": "display_data"
    }
   ],
   "source": [
    "train.summary()"
   ]
  },
  {
   "cell_type": "code",
   "execution_count": 68,
   "id": "60c2348a",
   "metadata": {},
   "outputs": [
    {
     "data": {
      "text/plain": [
       "119"
      ]
     },
     "execution_count": 68,
     "metadata": {},
     "output_type": "execute_result"
    }
   ],
   "source": [
    "train.nrows"
   ]
  },
  {
   "cell_type": "code",
   "execution_count": 69,
   "id": "50b83276",
   "metadata": {},
   "outputs": [
    {
     "data": {
      "text/plain": [
       "31"
      ]
     },
     "execution_count": 69,
     "metadata": {},
     "output_type": "execute_result"
    }
   ],
   "source": [
    "test.nrows"
   ]
  },
  {
   "cell_type": "code",
   "execution_count": 70,
   "id": "5a984a2e",
   "metadata": {},
   "outputs": [
    {
     "data": {
      "text/plain": [
       "['sepal_len', 'sepal_wid', 'petal_len', 'petal_wid', 'class']"
      ]
     },
     "execution_count": 70,
     "metadata": {},
     "output_type": "execute_result"
    }
   ],
   "source": [
    "train.columns"
   ]
  },
  {
   "cell_type": "code",
   "execution_count": 72,
   "id": "743a8485",
   "metadata": {},
   "outputs": [],
   "source": [
    "from h2o.estimators import H2OGradientBoostingEstimator"
   ]
  },
  {
   "cell_type": "code",
   "execution_count": 73,
   "id": "03f22b6c",
   "metadata": {},
   "outputs": [],
   "source": [
    "Mgm = H2OGradientBoostingEstimator()"
   ]
  },
  {
   "cell_type": "code",
   "execution_count": 74,
   "id": "3cb2100a",
   "metadata": {},
   "outputs": [
    {
     "name": "stdout",
     "output_type": "stream",
     "text": [
      "gbm Model Build progress: |██████████████████████████████████████████████████████| (done) 100%\n",
      "Model Details\n",
      "=============\n",
      "H2OGradientBoostingEstimator :  Gradient Boosting Machine\n",
      "Model Key:  GBM_model_python_1645782701179_7\n",
      "\n",
      "\n",
      "Model Summary: \n"
     ]
    },
    {
     "data": {
      "text/html": [
       "<div style=\"overflow:auto\"><table style=\"width:50%\"><tr><td><b></b></td>\n",
       "<td><b>number_of_trees</b></td>\n",
       "<td><b>number_of_internal_trees</b></td>\n",
       "<td><b>model_size_in_bytes</b></td>\n",
       "<td><b>min_depth</b></td>\n",
       "<td><b>max_depth</b></td>\n",
       "<td><b>mean_depth</b></td>\n",
       "<td><b>min_leaves</b></td>\n",
       "<td><b>max_leaves</b></td>\n",
       "<td><b>mean_leaves</b></td></tr>\n",
       "<tr><td></td>\n",
       "<td>50.0</td>\n",
       "<td>150.0</td>\n",
       "<td>24455.0</td>\n",
       "<td>1.0</td>\n",
       "<td>5.0</td>\n",
       "<td>4.786667</td>\n",
       "<td>2.0</td>\n",
       "<td>10.0</td>\n",
       "<td>8.38</td></tr></table></div>"
      ],
      "text/plain": [
       "    number_of_trees    number_of_internal_trees    model_size_in_bytes    min_depth    max_depth    mean_depth    min_leaves    max_leaves    mean_leaves\n",
       "--  -----------------  --------------------------  ---------------------  -----------  -----------  ------------  ------------  ------------  -------------\n",
       "    50                 150                         24455                  1            5            4.78667       2             10            8.38"
      ]
     },
     "metadata": {},
     "output_type": "display_data"
    },
    {
     "name": "stdout",
     "output_type": "stream",
     "text": [
      "\n",
      "\n",
      "ModelMetricsMultinomial: gbm\n",
      "** Reported on train data. **\n",
      "\n",
      "MSE: 0.0013092210977121172\n",
      "RMSE: 0.036183160416305774\n",
      "LogLoss: 0.012766762983897622\n",
      "Mean Per-Class Error: 0.0\n",
      "AUC: NaN\n",
      "AUCPR: NaN\n",
      "Multinomial auc values: Table is not computed because it is disabled (model parameter 'auc_type' is set to AUTO or NONE) or due to domain size (maximum is 50 domains).\n",
      "Multinomial auc_pr values: Table is not computed because it is disabled (model parameter 'auc_type' is set to AUTO or NONE) or due to domain size (maximum is 50 domains).\n",
      "\n",
      "Confusion Matrix: Row labels: Actual class; Column labels: Predicted class\n"
     ]
    },
    {
     "data": {
      "text/html": [
       "<div style=\"overflow:auto\"><table style=\"width:50%\"><tr><td><b>Iris-setosa</b></td>\n",
       "<td><b>Iris-versicolor</b></td>\n",
       "<td><b>Iris-virginica</b></td>\n",
       "<td><b>Error</b></td>\n",
       "<td><b>Rate</b></td></tr>\n",
       "<tr><td>38.0</td>\n",
       "<td>0.0</td>\n",
       "<td>0.0</td>\n",
       "<td>0.0</td>\n",
       "<td>0 / 38</td></tr>\n",
       "<tr><td>0.0</td>\n",
       "<td>42.0</td>\n",
       "<td>0.0</td>\n",
       "<td>0.0</td>\n",
       "<td>0 / 42</td></tr>\n",
       "<tr><td>0.0</td>\n",
       "<td>0.0</td>\n",
       "<td>39.0</td>\n",
       "<td>0.0</td>\n",
       "<td>0 / 39</td></tr>\n",
       "<tr><td>38.0</td>\n",
       "<td>42.0</td>\n",
       "<td>39.0</td>\n",
       "<td>0.0</td>\n",
       "<td>0 / 119</td></tr></table></div>"
      ],
      "text/plain": [
       "Iris-setosa    Iris-versicolor    Iris-virginica    Error    Rate\n",
       "-------------  -----------------  ----------------  -------  -------\n",
       "38             0                  0                 0        0 / 38\n",
       "0              42                 0                 0        0 / 42\n",
       "0              0                  39                0        0 / 39\n",
       "38             42                 39                0        0 / 119"
      ]
     },
     "metadata": {},
     "output_type": "display_data"
    },
    {
     "name": "stdout",
     "output_type": "stream",
     "text": [
      "\n",
      "Top-3 Hit Ratios: \n"
     ]
    },
    {
     "data": {
      "text/html": [
       "<div style=\"overflow:auto\"><table style=\"width:50%\"><tr><td><b>k</b></td>\n",
       "<td><b>hit_ratio</b></td></tr>\n",
       "<tr><td>1</td>\n",
       "<td>1.0</td></tr>\n",
       "<tr><td>2</td>\n",
       "<td>1.0</td></tr>\n",
       "<tr><td>3</td>\n",
       "<td>1.0</td></tr></table></div>"
      ],
      "text/plain": [
       "k    hit_ratio\n",
       "---  -----------\n",
       "1    1\n",
       "2    1\n",
       "3    1"
      ]
     },
     "metadata": {},
     "output_type": "display_data"
    },
    {
     "name": "stdout",
     "output_type": "stream",
     "text": [
      "\n",
      "Scoring History: \n"
     ]
    },
    {
     "data": {
      "text/html": [
       "<div style=\"overflow:auto\"><table style=\"width:50%\"><tr><td><b></b></td>\n",
       "<td><b>timestamp</b></td>\n",
       "<td><b>duration</b></td>\n",
       "<td><b>number_of_trees</b></td>\n",
       "<td><b>training_rmse</b></td>\n",
       "<td><b>training_logloss</b></td>\n",
       "<td><b>training_classification_error</b></td>\n",
       "<td><b>training_auc</b></td>\n",
       "<td><b>training_pr_auc</b></td></tr>\n",
       "<tr><td></td>\n",
       "<td>2022-02-25 10:16:50</td>\n",
       "<td> 0.000 sec</td>\n",
       "<td>0.0</td>\n",
       "<td>0.6666667</td>\n",
       "<td>1.0986123</td>\n",
       "<td>0.6302521</td>\n",
       "<td>nan</td>\n",
       "<td>nan</td></tr>\n",
       "<tr><td></td>\n",
       "<td>2022-02-25 10:16:50</td>\n",
       "<td> 0.016 sec</td>\n",
       "<td>1.0</td>\n",
       "<td>0.6026292</td>\n",
       "<td>0.9232533</td>\n",
       "<td>0.0336134</td>\n",
       "<td>nan</td>\n",
       "<td>nan</td></tr>\n",
       "<tr><td></td>\n",
       "<td>2022-02-25 10:16:50</td>\n",
       "<td> 0.032 sec</td>\n",
       "<td>2.0</td>\n",
       "<td>0.5444136</td>\n",
       "<td>0.7868984</td>\n",
       "<td>0.0420168</td>\n",
       "<td>nan</td>\n",
       "<td>nan</td></tr>\n",
       "<tr><td></td>\n",
       "<td>2022-02-25 10:16:50</td>\n",
       "<td> 0.032 sec</td>\n",
       "<td>3.0</td>\n",
       "<td>0.4915935</td>\n",
       "<td>0.6772704</td>\n",
       "<td>0.0420168</td>\n",
       "<td>nan</td>\n",
       "<td>nan</td></tr>\n",
       "<tr><td></td>\n",
       "<td>2022-02-25 10:16:50</td>\n",
       "<td> 0.032 sec</td>\n",
       "<td>4.0</td>\n",
       "<td>0.4441467</td>\n",
       "<td>0.5875777</td>\n",
       "<td>0.0420168</td>\n",
       "<td>nan</td>\n",
       "<td>nan</td></tr>\n",
       "<tr><td>---</td>\n",
       "<td>---</td>\n",
       "<td>---</td>\n",
       "<td>---</td>\n",
       "<td>---</td>\n",
       "<td>---</td>\n",
       "<td>---</td>\n",
       "<td>---</td>\n",
       "<td>---</td></tr>\n",
       "<tr><td></td>\n",
       "<td>2022-02-25 10:16:50</td>\n",
       "<td> 0.248 sec</td>\n",
       "<td>46.0</td>\n",
       "<td>0.0441358</td>\n",
       "<td>0.0165943</td>\n",
       "<td>0.0</td>\n",
       "<td>nan</td>\n",
       "<td>nan</td></tr>\n",
       "<tr><td></td>\n",
       "<td>2022-02-25 10:16:50</td>\n",
       "<td> 0.256 sec</td>\n",
       "<td>47.0</td>\n",
       "<td>0.0419437</td>\n",
       "<td>0.0155180</td>\n",
       "<td>0.0</td>\n",
       "<td>nan</td>\n",
       "<td>nan</td></tr>\n",
       "<tr><td></td>\n",
       "<td>2022-02-25 10:16:50</td>\n",
       "<td> 0.256 sec</td>\n",
       "<td>48.0</td>\n",
       "<td>0.0412332</td>\n",
       "<td>0.0147453</td>\n",
       "<td>0.0</td>\n",
       "<td>nan</td>\n",
       "<td>nan</td></tr>\n",
       "<tr><td></td>\n",
       "<td>2022-02-25 10:16:50</td>\n",
       "<td> 0.264 sec</td>\n",
       "<td>49.0</td>\n",
       "<td>0.0380011</td>\n",
       "<td>0.0136208</td>\n",
       "<td>0.0</td>\n",
       "<td>nan</td>\n",
       "<td>nan</td></tr>\n",
       "<tr><td></td>\n",
       "<td>2022-02-25 10:16:50</td>\n",
       "<td> 0.272 sec</td>\n",
       "<td>50.0</td>\n",
       "<td>0.0361832</td>\n",
       "<td>0.0127668</td>\n",
       "<td>0.0</td>\n",
       "<td>nan</td>\n",
       "<td>nan</td></tr></table></div>"
      ],
      "text/plain": [
       "     timestamp            duration    number_of_trees    training_rmse         training_logloss      training_classification_error    training_auc    training_pr_auc\n",
       "---  -------------------  ----------  -----------------  --------------------  --------------------  -------------------------------  --------------  -----------------\n",
       "     2022-02-25 10:16:50  0.000 sec   0.0                0.6666666666666659    1.0986122886681082    0.6302521008403361               nan             nan\n",
       "     2022-02-25 10:16:50  0.016 sec   1.0                0.6026292080187201    0.9232532536028545    0.03361344537815126              nan             nan\n",
       "     2022-02-25 10:16:50  0.032 sec   2.0                0.5444135893011247    0.7868984374271291    0.04201680672268908              nan             nan\n",
       "     2022-02-25 10:16:50  0.032 sec   3.0                0.49159352020048885   0.677270356775318     0.04201680672268908              nan             nan\n",
       "     2022-02-25 10:16:50  0.032 sec   4.0                0.44414673211538186   0.5875776618190914    0.04201680672268908              nan             nan\n",
       "---  ---                  ---         ---                ---                   ---                   ---                              ---             ---\n",
       "     2022-02-25 10:16:50  0.248 sec   46.0               0.04413580044443419   0.01659433241503111   0.0                              nan             nan\n",
       "     2022-02-25 10:16:50  0.256 sec   47.0               0.041943673522516295  0.01551803453289771   0.0                              nan             nan\n",
       "     2022-02-25 10:16:50  0.256 sec   48.0               0.04123320272717629   0.014745297335002213  0.0                              nan             nan\n",
       "     2022-02-25 10:16:50  0.264 sec   49.0               0.038001104581490384  0.013620805993174686  0.0                              nan             nan\n",
       "     2022-02-25 10:16:50  0.272 sec   50.0               0.036183160416305774  0.012766762983897622  0.0                              nan             nan"
      ]
     },
     "metadata": {},
     "output_type": "display_data"
    },
    {
     "name": "stdout",
     "output_type": "stream",
     "text": [
      "\n",
      "Variable Importances: \n"
     ]
    },
    {
     "data": {
      "text/html": [
       "<div style=\"overflow:auto\"><table style=\"width:50%\"><tr><td><b>variable</b></td>\n",
       "<td><b>relative_importance</b></td>\n",
       "<td><b>scaled_importance</b></td>\n",
       "<td><b>percentage</b></td></tr>\n",
       "<tr><td>petal_wid</td>\n",
       "<td>252.3370972</td>\n",
       "<td>1.0</td>\n",
       "<td>0.6892333</td></tr>\n",
       "<tr><td>petal_len</td>\n",
       "<td>108.2472916</td>\n",
       "<td>0.4289789</td>\n",
       "<td>0.2956666</td></tr>\n",
       "<tr><td>sepal_wid</td>\n",
       "<td>3.8011355</td>\n",
       "<td>0.0150637</td>\n",
       "<td>0.0103824</td></tr>\n",
       "<tr><td>sepal_len</td>\n",
       "<td>1.7272098</td>\n",
       "<td>0.0068449</td>\n",
       "<td>0.0047177</td></tr></table></div>"
      ],
      "text/plain": [
       "variable    relative_importance    scaled_importance    percentage\n",
       "----------  ---------------------  -------------------  ------------\n",
       "petal_wid   252.337                1                    0.689233\n",
       "petal_len   108.247                0.428979             0.295667\n",
       "sepal_wid   3.80114                0.0150637            0.0103824\n",
       "sepal_len   1.72721                0.00684485           0.0047177"
      ]
     },
     "metadata": {},
     "output_type": "display_data"
    },
    {
     "data": {
      "text/plain": []
     },
     "execution_count": 74,
     "metadata": {},
     "output_type": "execute_result"
    }
   ],
   "source": [
    "Mgm.train(['sepal_len', 'sepal_wid', 'petal_len', 'petal_wid' ], 'class', train)"
   ]
  },
  {
   "cell_type": "code",
   "execution_count": 75,
   "id": "6846a51b",
   "metadata": {},
   "outputs": [
    {
     "name": "stdout",
     "output_type": "stream",
     "text": [
      "Model Details\n",
      "=============\n",
      "H2OGradientBoostingEstimator :  Gradient Boosting Machine\n",
      "Model Key:  GBM_model_python_1645782701179_7\n",
      "\n",
      "\n",
      "Model Summary: \n"
     ]
    },
    {
     "data": {
      "text/html": [
       "<div style=\"overflow:auto\"><table style=\"width:50%\"><tr><td><b></b></td>\n",
       "<td><b>number_of_trees</b></td>\n",
       "<td><b>number_of_internal_trees</b></td>\n",
       "<td><b>model_size_in_bytes</b></td>\n",
       "<td><b>min_depth</b></td>\n",
       "<td><b>max_depth</b></td>\n",
       "<td><b>mean_depth</b></td>\n",
       "<td><b>min_leaves</b></td>\n",
       "<td><b>max_leaves</b></td>\n",
       "<td><b>mean_leaves</b></td></tr>\n",
       "<tr><td></td>\n",
       "<td>50.0</td>\n",
       "<td>150.0</td>\n",
       "<td>24455.0</td>\n",
       "<td>1.0</td>\n",
       "<td>5.0</td>\n",
       "<td>4.786667</td>\n",
       "<td>2.0</td>\n",
       "<td>10.0</td>\n",
       "<td>8.38</td></tr></table></div>"
      ],
      "text/plain": [
       "    number_of_trees    number_of_internal_trees    model_size_in_bytes    min_depth    max_depth    mean_depth    min_leaves    max_leaves    mean_leaves\n",
       "--  -----------------  --------------------------  ---------------------  -----------  -----------  ------------  ------------  ------------  -------------\n",
       "    50                 150                         24455                  1            5            4.78667       2             10            8.38"
      ]
     },
     "metadata": {},
     "output_type": "display_data"
    },
    {
     "name": "stdout",
     "output_type": "stream",
     "text": [
      "\n",
      "\n",
      "ModelMetricsMultinomial: gbm\n",
      "** Reported on train data. **\n",
      "\n",
      "MSE: 0.0013092210977121172\n",
      "RMSE: 0.036183160416305774\n",
      "LogLoss: 0.012766762983897622\n",
      "Mean Per-Class Error: 0.0\n",
      "AUC: NaN\n",
      "AUCPR: NaN\n",
      "Multinomial auc values: Table is not computed because it is disabled (model parameter 'auc_type' is set to AUTO or NONE) or due to domain size (maximum is 50 domains).\n",
      "Multinomial auc_pr values: Table is not computed because it is disabled (model parameter 'auc_type' is set to AUTO or NONE) or due to domain size (maximum is 50 domains).\n",
      "\n",
      "Confusion Matrix: Row labels: Actual class; Column labels: Predicted class\n"
     ]
    },
    {
     "data": {
      "text/html": [
       "<div style=\"overflow:auto\"><table style=\"width:50%\"><tr><td><b>Iris-setosa</b></td>\n",
       "<td><b>Iris-versicolor</b></td>\n",
       "<td><b>Iris-virginica</b></td>\n",
       "<td><b>Error</b></td>\n",
       "<td><b>Rate</b></td></tr>\n",
       "<tr><td>38.0</td>\n",
       "<td>0.0</td>\n",
       "<td>0.0</td>\n",
       "<td>0.0</td>\n",
       "<td>0 / 38</td></tr>\n",
       "<tr><td>0.0</td>\n",
       "<td>42.0</td>\n",
       "<td>0.0</td>\n",
       "<td>0.0</td>\n",
       "<td>0 / 42</td></tr>\n",
       "<tr><td>0.0</td>\n",
       "<td>0.0</td>\n",
       "<td>39.0</td>\n",
       "<td>0.0</td>\n",
       "<td>0 / 39</td></tr>\n",
       "<tr><td>38.0</td>\n",
       "<td>42.0</td>\n",
       "<td>39.0</td>\n",
       "<td>0.0</td>\n",
       "<td>0 / 119</td></tr></table></div>"
      ],
      "text/plain": [
       "Iris-setosa    Iris-versicolor    Iris-virginica    Error    Rate\n",
       "-------------  -----------------  ----------------  -------  -------\n",
       "38             0                  0                 0        0 / 38\n",
       "0              42                 0                 0        0 / 42\n",
       "0              0                  39                0        0 / 39\n",
       "38             42                 39                0        0 / 119"
      ]
     },
     "metadata": {},
     "output_type": "display_data"
    },
    {
     "name": "stdout",
     "output_type": "stream",
     "text": [
      "\n",
      "Top-3 Hit Ratios: \n"
     ]
    },
    {
     "data": {
      "text/html": [
       "<div style=\"overflow:auto\"><table style=\"width:50%\"><tr><td><b>k</b></td>\n",
       "<td><b>hit_ratio</b></td></tr>\n",
       "<tr><td>1</td>\n",
       "<td>1.0</td></tr>\n",
       "<tr><td>2</td>\n",
       "<td>1.0</td></tr>\n",
       "<tr><td>3</td>\n",
       "<td>1.0</td></tr></table></div>"
      ],
      "text/plain": [
       "k    hit_ratio\n",
       "---  -----------\n",
       "1    1\n",
       "2    1\n",
       "3    1"
      ]
     },
     "metadata": {},
     "output_type": "display_data"
    },
    {
     "name": "stdout",
     "output_type": "stream",
     "text": [
      "\n",
      "Scoring History: \n"
     ]
    },
    {
     "data": {
      "text/html": [
       "<div style=\"overflow:auto\"><table style=\"width:50%\"><tr><td><b></b></td>\n",
       "<td><b>timestamp</b></td>\n",
       "<td><b>duration</b></td>\n",
       "<td><b>number_of_trees</b></td>\n",
       "<td><b>training_rmse</b></td>\n",
       "<td><b>training_logloss</b></td>\n",
       "<td><b>training_classification_error</b></td>\n",
       "<td><b>training_auc</b></td>\n",
       "<td><b>training_pr_auc</b></td></tr>\n",
       "<tr><td></td>\n",
       "<td>2022-02-25 10:16:50</td>\n",
       "<td> 0.000 sec</td>\n",
       "<td>0.0</td>\n",
       "<td>0.6666667</td>\n",
       "<td>1.0986123</td>\n",
       "<td>0.6302521</td>\n",
       "<td>nan</td>\n",
       "<td>nan</td></tr>\n",
       "<tr><td></td>\n",
       "<td>2022-02-25 10:16:50</td>\n",
       "<td> 0.016 sec</td>\n",
       "<td>1.0</td>\n",
       "<td>0.6026292</td>\n",
       "<td>0.9232533</td>\n",
       "<td>0.0336134</td>\n",
       "<td>nan</td>\n",
       "<td>nan</td></tr>\n",
       "<tr><td></td>\n",
       "<td>2022-02-25 10:16:50</td>\n",
       "<td> 0.032 sec</td>\n",
       "<td>2.0</td>\n",
       "<td>0.5444136</td>\n",
       "<td>0.7868984</td>\n",
       "<td>0.0420168</td>\n",
       "<td>nan</td>\n",
       "<td>nan</td></tr>\n",
       "<tr><td></td>\n",
       "<td>2022-02-25 10:16:50</td>\n",
       "<td> 0.032 sec</td>\n",
       "<td>3.0</td>\n",
       "<td>0.4915935</td>\n",
       "<td>0.6772704</td>\n",
       "<td>0.0420168</td>\n",
       "<td>nan</td>\n",
       "<td>nan</td></tr>\n",
       "<tr><td></td>\n",
       "<td>2022-02-25 10:16:50</td>\n",
       "<td> 0.032 sec</td>\n",
       "<td>4.0</td>\n",
       "<td>0.4441467</td>\n",
       "<td>0.5875777</td>\n",
       "<td>0.0420168</td>\n",
       "<td>nan</td>\n",
       "<td>nan</td></tr>\n",
       "<tr><td>---</td>\n",
       "<td>---</td>\n",
       "<td>---</td>\n",
       "<td>---</td>\n",
       "<td>---</td>\n",
       "<td>---</td>\n",
       "<td>---</td>\n",
       "<td>---</td>\n",
       "<td>---</td></tr>\n",
       "<tr><td></td>\n",
       "<td>2022-02-25 10:16:50</td>\n",
       "<td> 0.248 sec</td>\n",
       "<td>46.0</td>\n",
       "<td>0.0441358</td>\n",
       "<td>0.0165943</td>\n",
       "<td>0.0</td>\n",
       "<td>nan</td>\n",
       "<td>nan</td></tr>\n",
       "<tr><td></td>\n",
       "<td>2022-02-25 10:16:50</td>\n",
       "<td> 0.256 sec</td>\n",
       "<td>47.0</td>\n",
       "<td>0.0419437</td>\n",
       "<td>0.0155180</td>\n",
       "<td>0.0</td>\n",
       "<td>nan</td>\n",
       "<td>nan</td></tr>\n",
       "<tr><td></td>\n",
       "<td>2022-02-25 10:16:50</td>\n",
       "<td> 0.256 sec</td>\n",
       "<td>48.0</td>\n",
       "<td>0.0412332</td>\n",
       "<td>0.0147453</td>\n",
       "<td>0.0</td>\n",
       "<td>nan</td>\n",
       "<td>nan</td></tr>\n",
       "<tr><td></td>\n",
       "<td>2022-02-25 10:16:50</td>\n",
       "<td> 0.264 sec</td>\n",
       "<td>49.0</td>\n",
       "<td>0.0380011</td>\n",
       "<td>0.0136208</td>\n",
       "<td>0.0</td>\n",
       "<td>nan</td>\n",
       "<td>nan</td></tr>\n",
       "<tr><td></td>\n",
       "<td>2022-02-25 10:16:50</td>\n",
       "<td> 0.272 sec</td>\n",
       "<td>50.0</td>\n",
       "<td>0.0361832</td>\n",
       "<td>0.0127668</td>\n",
       "<td>0.0</td>\n",
       "<td>nan</td>\n",
       "<td>nan</td></tr></table></div>"
      ],
      "text/plain": [
       "     timestamp            duration    number_of_trees    training_rmse         training_logloss      training_classification_error    training_auc    training_pr_auc\n",
       "---  -------------------  ----------  -----------------  --------------------  --------------------  -------------------------------  --------------  -----------------\n",
       "     2022-02-25 10:16:50  0.000 sec   0.0                0.6666666666666659    1.0986122886681082    0.6302521008403361               nan             nan\n",
       "     2022-02-25 10:16:50  0.016 sec   1.0                0.6026292080187201    0.9232532536028545    0.03361344537815126              nan             nan\n",
       "     2022-02-25 10:16:50  0.032 sec   2.0                0.5444135893011247    0.7868984374271291    0.04201680672268908              nan             nan\n",
       "     2022-02-25 10:16:50  0.032 sec   3.0                0.49159352020048885   0.677270356775318     0.04201680672268908              nan             nan\n",
       "     2022-02-25 10:16:50  0.032 sec   4.0                0.44414673211538186   0.5875776618190914    0.04201680672268908              nan             nan\n",
       "---  ---                  ---         ---                ---                   ---                   ---                              ---             ---\n",
       "     2022-02-25 10:16:50  0.248 sec   46.0               0.04413580044443419   0.01659433241503111   0.0                              nan             nan\n",
       "     2022-02-25 10:16:50  0.256 sec   47.0               0.041943673522516295  0.01551803453289771   0.0                              nan             nan\n",
       "     2022-02-25 10:16:50  0.256 sec   48.0               0.04123320272717629   0.014745297335002213  0.0                              nan             nan\n",
       "     2022-02-25 10:16:50  0.264 sec   49.0               0.038001104581490384  0.013620805993174686  0.0                              nan             nan\n",
       "     2022-02-25 10:16:50  0.272 sec   50.0               0.036183160416305774  0.012766762983897622  0.0                              nan             nan"
      ]
     },
     "metadata": {},
     "output_type": "display_data"
    },
    {
     "name": "stdout",
     "output_type": "stream",
     "text": [
      "\n",
      "Variable Importances: \n"
     ]
    },
    {
     "data": {
      "text/html": [
       "<div style=\"overflow:auto\"><table style=\"width:50%\"><tr><td><b>variable</b></td>\n",
       "<td><b>relative_importance</b></td>\n",
       "<td><b>scaled_importance</b></td>\n",
       "<td><b>percentage</b></td></tr>\n",
       "<tr><td>petal_wid</td>\n",
       "<td>252.3370972</td>\n",
       "<td>1.0</td>\n",
       "<td>0.6892333</td></tr>\n",
       "<tr><td>petal_len</td>\n",
       "<td>108.2472916</td>\n",
       "<td>0.4289789</td>\n",
       "<td>0.2956666</td></tr>\n",
       "<tr><td>sepal_wid</td>\n",
       "<td>3.8011355</td>\n",
       "<td>0.0150637</td>\n",
       "<td>0.0103824</td></tr>\n",
       "<tr><td>sepal_len</td>\n",
       "<td>1.7272098</td>\n",
       "<td>0.0068449</td>\n",
       "<td>0.0047177</td></tr></table></div>"
      ],
      "text/plain": [
       "variable    relative_importance    scaled_importance    percentage\n",
       "----------  ---------------------  -------------------  ------------\n",
       "petal_wid   252.337                1                    0.689233\n",
       "petal_len   108.247                0.428979             0.295667\n",
       "sepal_wid   3.80114                0.0150637            0.0103824\n",
       "sepal_len   1.72721                0.00684485           0.0047177"
      ]
     },
     "metadata": {},
     "output_type": "display_data"
    },
    {
     "data": {
      "text/plain": []
     },
     "execution_count": 75,
     "metadata": {},
     "output_type": "execute_result"
    }
   ],
   "source": [
    "Mgm"
   ]
  },
  {
   "cell_type": "code",
   "execution_count": 76,
   "id": "14b6105c",
   "metadata": {},
   "outputs": [
    {
     "name": "stdout",
     "output_type": "stream",
     "text": [
      "gbm prediction progress: |███████████████████████████████████████████████████████| (done) 100%\n"
     ]
    },
    {
     "data": {
      "text/html": [
       "<table>\n",
       "<thead>\n",
       "<tr><th>predict    </th><th style=\"text-align: right;\">  Iris-setosa</th><th style=\"text-align: right;\">  Iris-versicolor</th><th style=\"text-align: right;\">  Iris-virginica</th></tr>\n",
       "</thead>\n",
       "<tbody>\n",
       "<tr><td>Iris-setosa</td><td style=\"text-align: right;\">     0.998309</td><td style=\"text-align: right;\">      0.000573077</td><td style=\"text-align: right;\">     0.00111746 </td></tr>\n",
       "<tr><td>Iris-setosa</td><td style=\"text-align: right;\">     0.998544</td><td style=\"text-align: right;\">      0.000940204</td><td style=\"text-align: right;\">     0.000515595</td></tr>\n",
       "<tr><td>Iris-setosa</td><td style=\"text-align: right;\">     0.998096</td><td style=\"text-align: right;\">      0.000791266</td><td style=\"text-align: right;\">     0.00111226 </td></tr>\n",
       "<tr><td>Iris-setosa</td><td style=\"text-align: right;\">     0.998092</td><td style=\"text-align: right;\">      0.000791262</td><td style=\"text-align: right;\">     0.00111722 </td></tr>\n",
       "<tr><td>Iris-setosa</td><td style=\"text-align: right;\">     0.998172</td><td style=\"text-align: right;\">      0.00131287 </td><td style=\"text-align: right;\">     0.000515177</td></tr>\n",
       "<tr><td>Iris-setosa</td><td style=\"text-align: right;\">     0.997984</td><td style=\"text-align: right;\">      0.00150096 </td><td style=\"text-align: right;\">     0.000515198</td></tr>\n",
       "<tr><td>Iris-setosa</td><td style=\"text-align: right;\">     0.998098</td><td style=\"text-align: right;\">      0.000783288</td><td style=\"text-align: right;\">     0.00111868 </td></tr>\n",
       "<tr><td>Iris-setosa</td><td style=\"text-align: right;\">     0.9981  </td><td style=\"text-align: right;\">      0.00136101 </td><td style=\"text-align: right;\">     0.000539466</td></tr>\n",
       "<tr><td>Iris-setosa</td><td style=\"text-align: right;\">     0.998544</td><td style=\"text-align: right;\">      0.000940207</td><td style=\"text-align: right;\">     0.000515597</td></tr>\n",
       "<tr><td>Iris-setosa</td><td style=\"text-align: right;\">     0.998309</td><td style=\"text-align: right;\">      0.000573306</td><td style=\"text-align: right;\">     0.00111816 </td></tr>\n",
       "</tbody>\n",
       "</table>"
      ]
     },
     "metadata": {},
     "output_type": "display_data"
    },
    {
     "data": {
      "text/plain": []
     },
     "execution_count": 76,
     "metadata": {},
     "output_type": "execute_result"
    }
   ],
   "source": [
    "Mgm.predict(test)"
   ]
  },
  {
   "cell_type": "code",
   "execution_count": 77,
   "id": "5a523fe1",
   "metadata": {},
   "outputs": [
    {
     "name": "stdout",
     "output_type": "stream",
     "text": [
      "\n",
      "ModelMetricsMultinomial: gbm\n",
      "** Reported on test data. **\n",
      "\n",
      "MSE: 0.039623556174624444\n",
      "RMSE: 0.1990566657377352\n",
      "LogLoss: 0.16159800402016486\n",
      "Mean Per-Class Error: 0.041666666666666664\n",
      "AUC: NaN\n",
      "AUCPR: NaN\n",
      "Multinomial auc values: Table is not computed because it is disabled (model parameter 'auc_type' is set to AUTO or NONE) or due to domain size (maximum is 50 domains).\n",
      "Multinomial auc_pr values: Table is not computed because it is disabled (model parameter 'auc_type' is set to AUTO or NONE) or due to domain size (maximum is 50 domains).\n",
      "\n",
      "Confusion Matrix: Row labels: Actual class; Column labels: Predicted class\n"
     ]
    },
    {
     "data": {
      "text/html": [
       "<div style=\"overflow:auto\"><table style=\"width:50%\"><tr><td><b>Iris-setosa</b></td>\n",
       "<td><b>Iris-versicolor</b></td>\n",
       "<td><b>Iris-virginica</b></td>\n",
       "<td><b>Error</b></td>\n",
       "<td><b>Rate</b></td></tr>\n",
       "<tr><td>12.0</td>\n",
       "<td>0.0</td>\n",
       "<td>0.0</td>\n",
       "<td>0.0</td>\n",
       "<td>0 / 12</td></tr>\n",
       "<tr><td>0.0</td>\n",
       "<td>7.0</td>\n",
       "<td>1.0</td>\n",
       "<td>0.125</td>\n",
       "<td>1 / 8</td></tr>\n",
       "<tr><td>0.0</td>\n",
       "<td>0.0</td>\n",
       "<td>11.0</td>\n",
       "<td>0.0</td>\n",
       "<td>0 / 11</td></tr>\n",
       "<tr><td>12.0</td>\n",
       "<td>7.0</td>\n",
       "<td>12.0</td>\n",
       "<td>0.0322581</td>\n",
       "<td>1 / 31</td></tr></table></div>"
      ],
      "text/plain": [
       "Iris-setosa    Iris-versicolor    Iris-virginica    Error      Rate\n",
       "-------------  -----------------  ----------------  ---------  ------\n",
       "12             0                  0                 0          0 / 12\n",
       "0              7                  1                 0.125      1 / 8\n",
       "0              0                  11                0          0 / 11\n",
       "12             7                  12                0.0322581  1 / 31"
      ]
     },
     "metadata": {},
     "output_type": "display_data"
    },
    {
     "name": "stdout",
     "output_type": "stream",
     "text": [
      "\n",
      "Top-3 Hit Ratios: \n"
     ]
    },
    {
     "data": {
      "text/html": [
       "<div style=\"overflow:auto\"><table style=\"width:50%\"><tr><td><b>k</b></td>\n",
       "<td><b>hit_ratio</b></td></tr>\n",
       "<tr><td>1</td>\n",
       "<td>0.9677419</td></tr>\n",
       "<tr><td>2</td>\n",
       "<td>1.0</td></tr>\n",
       "<tr><td>3</td>\n",
       "<td>1.0</td></tr></table></div>"
      ],
      "text/plain": [
       "k    hit_ratio\n",
       "---  -----------\n",
       "1    0.967742\n",
       "2    1\n",
       "3    1"
      ]
     },
     "metadata": {},
     "output_type": "display_data"
    },
    {
     "data": {
      "text/plain": []
     },
     "execution_count": 77,
     "metadata": {},
     "output_type": "execute_result"
    }
   ],
   "source": [
    "Mgm.model_performance(test)"
   ]
  },
  {
   "cell_type": "code",
   "execution_count": null,
   "id": "5990a25f",
   "metadata": {},
   "outputs": [],
   "source": []
  }
 ],
 "metadata": {
  "kernelspec": {
   "display_name": "Python 3",
   "language": "python",
   "name": "python3"
  },
  "language_info": {
   "codemirror_mode": {
    "name": "ipython",
    "version": 3
   },
   "file_extension": ".py",
   "mimetype": "text/x-python",
   "name": "python",
   "nbconvert_exporter": "python",
   "pygments_lexer": "ipython3",
   "version": "3.8.8"
  }
 },
 "nbformat": 4,
 "nbformat_minor": 5
}
