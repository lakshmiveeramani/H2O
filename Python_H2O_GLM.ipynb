{
 "cells": [
  {
   "cell_type": "code",
   "execution_count": 1,
   "id": "8f7554c5",
   "metadata": {},
   "outputs": [],
   "source": [
    "import h2o"
   ]
  },
  {
   "cell_type": "code",
   "execution_count": 7,
   "id": "dea68855",
   "metadata": {},
   "outputs": [],
   "source": [
    "import pandas as pd"
   ]
  },
  {
   "cell_type": "code",
   "execution_count": 9,
   "id": "a87993cc",
   "metadata": {},
   "outputs": [],
   "source": [
    "import os"
   ]
  },
  {
   "cell_type": "code",
   "execution_count": 2,
   "id": "929f795b",
   "metadata": {},
   "outputs": [
    {
     "name": "stdout",
     "output_type": "stream",
     "text": [
      "Checking whether there is an H2O instance running at http://localhost:54321 . connected.\n"
     ]
    },
    {
     "data": {
      "text/html": [
       "<div style=\"overflow:auto\"><table style=\"width:50%\"><tr><td>H2O_cluster_uptime:</td>\n",
       "<td>16 hours 20 mins</td></tr>\n",
       "<tr><td>H2O_cluster_timezone:</td>\n",
       "<td>America/New_York</td></tr>\n",
       "<tr><td>H2O_data_parsing_timezone:</td>\n",
       "<td>UTC</td></tr>\n",
       "<tr><td>H2O_cluster_version:</td>\n",
       "<td>3.36.0.3</td></tr>\n",
       "<tr><td>H2O_cluster_version_age:</td>\n",
       "<td>10 days </td></tr>\n",
       "<tr><td>H2O_cluster_name:</td>\n",
       "<td>H2O_started_from_R_laksh_uyu211</td></tr>\n",
       "<tr><td>H2O_cluster_total_nodes:</td>\n",
       "<td>1</td></tr>\n",
       "<tr><td>H2O_cluster_free_memory:</td>\n",
       "<td>818 Mb</td></tr>\n",
       "<tr><td>H2O_cluster_total_cores:</td>\n",
       "<td>4</td></tr>\n",
       "<tr><td>H2O_cluster_allowed_cores:</td>\n",
       "<td>4</td></tr>\n",
       "<tr><td>H2O_cluster_status:</td>\n",
       "<td>locked, healthy</td></tr>\n",
       "<tr><td>H2O_connection_url:</td>\n",
       "<td>http://localhost:54321</td></tr>\n",
       "<tr><td>H2O_connection_proxy:</td>\n",
       "<td>{\"http\": null, \"https\": null}</td></tr>\n",
       "<tr><td>H2O_internal_security:</td>\n",
       "<td>False</td></tr>\n",
       "<tr><td>Python_version:</td>\n",
       "<td>3.8.8 final</td></tr></table></div>"
      ],
      "text/plain": [
       "--------------------------  -------------------------------\n",
       "H2O_cluster_uptime:         16 hours 20 mins\n",
       "H2O_cluster_timezone:       America/New_York\n",
       "H2O_data_parsing_timezone:  UTC\n",
       "H2O_cluster_version:        3.36.0.3\n",
       "H2O_cluster_version_age:    10 days\n",
       "H2O_cluster_name:           H2O_started_from_R_laksh_uyu211\n",
       "H2O_cluster_total_nodes:    1\n",
       "H2O_cluster_free_memory:    818 Mb\n",
       "H2O_cluster_total_cores:    4\n",
       "H2O_cluster_allowed_cores:  4\n",
       "H2O_cluster_status:         locked, healthy\n",
       "H2O_connection_url:         http://localhost:54321\n",
       "H2O_connection_proxy:       {\"http\": null, \"https\": null}\n",
       "H2O_internal_security:      False\n",
       "Python_version:             3.8.8 final\n",
       "--------------------------  -------------------------------"
      ]
     },
     "metadata": {},
     "output_type": "display_data"
    }
   ],
   "source": [
    "h2o.init()"
   ]
  },
  {
   "cell_type": "code",
   "execution_count": 15,
   "id": "09fc35c7",
   "metadata": {},
   "outputs": [
    {
     "name": "stdout",
     "output_type": "stream",
     "text": [
      "Parse progress: |████████████████████████████████████████████████████████████████| (done) 100%\n"
     ]
    }
   ],
   "source": [
    "file_path = \"C:/Lakshmi/H2O/smoking.csv\"\n",
    "filedata = h2o.import_file(file_path, destination_frame = \"smoking_df_python\")"
   ]
  },
  {
   "cell_type": "code",
   "execution_count": 17,
   "id": "40af8d15",
   "metadata": {},
   "outputs": [
    {
     "data": {
      "text/html": [
       "<table>\n",
       "<thead>\n",
       "<tr><th>       </th><th>C1                </th><th>age  </th><th>smoke        </th><th>pop               </th><th>dead              </th></tr>\n",
       "</thead>\n",
       "<tbody>\n",
       "<tr><td>type   </td><td>int               </td><td>enum </td><td>enum         </td><td>int               </td><td>int               </td></tr>\n",
       "<tr><td>mins   </td><td>1.0               </td><td>     </td><td>             </td><td>98.0              </td><td>2.0               </td></tr>\n",
       "<tr><td>mean   </td><td>18.5              </td><td>     </td><td>             </td><td>1558.9444444444443</td><td>253.61111111111114</td></tr>\n",
       "<tr><td>maxs   </td><td>36.0              </td><td>     </td><td>             </td><td>6052.0            </td><td>1001.0            </td></tr>\n",
       "<tr><td>sigma  </td><td>10.535653752852738</td><td>     </td><td>             </td><td>1562.232174887577 </td><td>262.5974951221821 </td></tr>\n",
       "<tr><td>zeros  </td><td>0                 </td><td>     </td><td>             </td><td>0                 </td><td>0                 </td></tr>\n",
       "<tr><td>missing</td><td>0                 </td><td>0    </td><td>0            </td><td>0                 </td><td>0                 </td></tr>\n",
       "<tr><td>0      </td><td>1.0               </td><td>40-44</td><td>no           </td><td>656.0             </td><td>18.0              </td></tr>\n",
       "<tr><td>1      </td><td>2.0               </td><td>45-59</td><td>no           </td><td>359.0             </td><td>22.0              </td></tr>\n",
       "<tr><td>2      </td><td>3.0               </td><td>50-54</td><td>no           </td><td>249.0             </td><td>19.0              </td></tr>\n",
       "<tr><td>3      </td><td>4.0               </td><td>55-59</td><td>no           </td><td>632.0             </td><td>55.0              </td></tr>\n",
       "<tr><td>4      </td><td>5.0               </td><td>60-64</td><td>no           </td><td>1067.0            </td><td>117.0             </td></tr>\n",
       "<tr><td>5      </td><td>6.0               </td><td>65-69</td><td>no           </td><td>897.0             </td><td>170.0             </td></tr>\n",
       "<tr><td>6      </td><td>7.0               </td><td>70-74</td><td>no           </td><td>668.0             </td><td>179.0             </td></tr>\n",
       "<tr><td>7      </td><td>8.0               </td><td>75-79</td><td>no           </td><td>361.0             </td><td>120.0             </td></tr>\n",
       "<tr><td>8      </td><td>9.0               </td><td>80+  </td><td>no           </td><td>274.0             </td><td>120.0             </td></tr>\n",
       "<tr><td>9      </td><td>10.0              </td><td>40-44</td><td>cigarPipeOnly</td><td>145.0             </td><td>2.0               </td></tr>\n",
       "</tbody>\n",
       "</table>"
      ]
     },
     "metadata": {},
     "output_type": "display_data"
    }
   ],
   "source": [
    "filedata.summary()"
   ]
  },
  {
   "cell_type": "code",
   "execution_count": 18,
   "id": "ef84c56b",
   "metadata": {},
   "outputs": [],
   "source": [
    "smoking = filedata"
   ]
  },
  {
   "cell_type": "code",
   "execution_count": 23,
   "id": "23222c18",
   "metadata": {},
   "outputs": [
    {
     "data": {
      "text/plain": [
       "666.0"
      ]
     },
     "execution_count": 23,
     "metadata": {},
     "output_type": "execute_result"
    }
   ],
   "source": [
    "smoking[:, \"C1\"].sum()"
   ]
  },
  {
   "cell_type": "code",
   "execution_count": 24,
   "id": "6b1bebba",
   "metadata": {},
   "outputs": [],
   "source": [
    "from h2o.estimators.glm import H2OGeneralizedLinearEstimator"
   ]
  },
  {
   "cell_type": "code",
   "execution_count": 27,
   "id": "e51f9e6f",
   "metadata": {},
   "outputs": [],
   "source": [
    "m = H2OGeneralizedLinearEstimator( family = \"poisson\", model_id = \"smoking_python_1\")"
   ]
  },
  {
   "cell_type": "code",
   "execution_count": 33,
   "id": "1f222abd",
   "metadata": {},
   "outputs": [],
   "source": [
    "x = [2,3]\n",
    "y = 4"
   ]
  },
  {
   "cell_type": "code",
   "execution_count": 34,
   "id": "472859b5",
   "metadata": {},
   "outputs": [
    {
     "name": "stdout",
     "output_type": "stream",
     "text": [
      "glm Model Build progress: |██████████████████████████████████████████████████████| (done) 100%\n",
      "Model Details\n",
      "=============\n",
      "H2OGeneralizedLinearEstimator :  Generalized Linear Modeling\n",
      "Model Key:  smoking_python_1\n",
      "\n",
      "\n",
      "GLM Model: summary\n"
     ]
    },
    {
     "data": {
      "text/html": [
       "<div>\n",
       "<style scoped>\n",
       "    .dataframe tbody tr th:only-of-type {\n",
       "        vertical-align: middle;\n",
       "    }\n",
       "\n",
       "    .dataframe tbody tr th {\n",
       "        vertical-align: top;\n",
       "    }\n",
       "\n",
       "    .dataframe thead th {\n",
       "        text-align: right;\n",
       "    }\n",
       "</style>\n",
       "<table border=\"1\" class=\"dataframe\">\n",
       "  <thead>\n",
       "    <tr style=\"text-align: right;\">\n",
       "      <th></th>\n",
       "      <th></th>\n",
       "      <th>family</th>\n",
       "      <th>link</th>\n",
       "      <th>regularization</th>\n",
       "      <th>number_of_predictors_total</th>\n",
       "      <th>number_of_active_predictors</th>\n",
       "      <th>number_of_iterations</th>\n",
       "      <th>training_frame</th>\n",
       "    </tr>\n",
       "  </thead>\n",
       "  <tbody>\n",
       "    <tr>\n",
       "      <th>0</th>\n",
       "      <td></td>\n",
       "      <td>poisson</td>\n",
       "      <td>log</td>\n",
       "      <td>Elastic Net (alpha = 0.5, lambda = 37.427 )</td>\n",
       "      <td>5</td>\n",
       "      <td>1</td>\n",
       "      <td>4</td>\n",
       "      <td>smoking_df_python</td>\n",
       "    </tr>\n",
       "  </tbody>\n",
       "</table>\n",
       "</div>"
      ],
      "text/plain": [
       "      family link                               regularization  \\\n",
       "0    poisson  log  Elastic Net (alpha = 0.5, lambda = 37.427 )   \n",
       "\n",
       "   number_of_predictors_total number_of_active_predictors  \\\n",
       "0                           5                           1   \n",
       "\n",
       "   number_of_iterations     training_frame  \n",
       "0                     4  smoking_df_python  "
      ]
     },
     "metadata": {},
     "output_type": "display_data"
    },
    {
     "name": "stdout",
     "output_type": "stream",
     "text": [
      "\n",
      "\n",
      "ModelMetricsRegressionGLM: glm\n",
      "** Reported on train data. **\n",
      "\n",
      "MSE: 32546.4240818532\n",
      "RMSE: 180.4062750622971\n",
      "MAE: 135.9245262064597\n",
      "RMSLE: 1.319820921276539\n",
      "R^2: 0.5145365060659479\n",
      "Mean Residual Deviance: 119.91361442343464\n",
      "Null degrees of freedom: 35\n",
      "Residual degrees of freedom: 34\n",
      "Null deviance: 8434.40760401343\n",
      "Residual deviance: 4316.890119243647\n",
      "AIC: 4560.891720932808\n",
      "\n",
      "Scoring History: \n"
     ]
    },
    {
     "data": {
      "text/html": [
       "<div>\n",
       "<style scoped>\n",
       "    .dataframe tbody tr th:only-of-type {\n",
       "        vertical-align: middle;\n",
       "    }\n",
       "\n",
       "    .dataframe tbody tr th {\n",
       "        vertical-align: top;\n",
       "    }\n",
       "\n",
       "    .dataframe thead th {\n",
       "        text-align: right;\n",
       "    }\n",
       "</style>\n",
       "<table border=\"1\" class=\"dataframe\">\n",
       "  <thead>\n",
       "    <tr style=\"text-align: right;\">\n",
       "      <th></th>\n",
       "      <th></th>\n",
       "      <th>timestamp</th>\n",
       "      <th>duration</th>\n",
       "      <th>iterations</th>\n",
       "      <th>negative_log_likelihood</th>\n",
       "      <th>objective</th>\n",
       "      <th>training_rmse</th>\n",
       "      <th>training_deviance</th>\n",
       "      <th>training_mae</th>\n",
       "      <th>training_r2</th>\n",
       "    </tr>\n",
       "  </thead>\n",
       "  <tbody>\n",
       "    <tr>\n",
       "      <th>0</th>\n",
       "      <td></td>\n",
       "      <td>2022-02-27 02:52:18</td>\n",
       "      <td>0.000 sec</td>\n",
       "      <td>0</td>\n",
       "      <td>8434.407604</td>\n",
       "      <td>234.289100</td>\n",
       "      <td></td>\n",
       "      <td></td>\n",
       "      <td></td>\n",
       "      <td></td>\n",
       "    </tr>\n",
       "    <tr>\n",
       "      <th>1</th>\n",
       "      <td></td>\n",
       "      <td>2022-02-27 02:52:18</td>\n",
       "      <td>0.015 sec</td>\n",
       "      <td>1</td>\n",
       "      <td>4907.332720</td>\n",
       "      <td>151.966908</td>\n",
       "      <td></td>\n",
       "      <td></td>\n",
       "      <td></td>\n",
       "      <td></td>\n",
       "    </tr>\n",
       "    <tr>\n",
       "      <th>2</th>\n",
       "      <td></td>\n",
       "      <td>2022-02-27 02:52:18</td>\n",
       "      <td>0.015 sec</td>\n",
       "      <td>2</td>\n",
       "      <td>4308.522514</td>\n",
       "      <td>132.262208</td>\n",
       "      <td></td>\n",
       "      <td></td>\n",
       "      <td></td>\n",
       "      <td></td>\n",
       "    </tr>\n",
       "    <tr>\n",
       "      <th>3</th>\n",
       "      <td></td>\n",
       "      <td>2022-02-27 02:52:18</td>\n",
       "      <td>0.015 sec</td>\n",
       "      <td>3</td>\n",
       "      <td>4314.768682</td>\n",
       "      <td>132.167563</td>\n",
       "      <td></td>\n",
       "      <td></td>\n",
       "      <td></td>\n",
       "      <td></td>\n",
       "    </tr>\n",
       "    <tr>\n",
       "      <th>4</th>\n",
       "      <td></td>\n",
       "      <td>2022-02-27 02:52:18</td>\n",
       "      <td>0.031 sec</td>\n",
       "      <td>4</td>\n",
       "      <td>4316.890119</td>\n",
       "      <td>132.165525</td>\n",
       "      <td>180.406275</td>\n",
       "      <td>119.913614</td>\n",
       "      <td>135.924526</td>\n",
       "      <td>0.514537</td>\n",
       "    </tr>\n",
       "  </tbody>\n",
       "</table>\n",
       "</div>"
      ],
      "text/plain": [
       "               timestamp    duration  iterations  negative_log_likelihood  \\\n",
       "0    2022-02-27 02:52:18   0.000 sec           0              8434.407604   \n",
       "1    2022-02-27 02:52:18   0.015 sec           1              4907.332720   \n",
       "2    2022-02-27 02:52:18   0.015 sec           2              4308.522514   \n",
       "3    2022-02-27 02:52:18   0.015 sec           3              4314.768682   \n",
       "4    2022-02-27 02:52:18   0.031 sec           4              4316.890119   \n",
       "\n",
       "    objective training_rmse training_deviance training_mae training_r2  \n",
       "0  234.289100                                                           \n",
       "1  151.966908                                                           \n",
       "2  132.262208                                                           \n",
       "3  132.167563                                                           \n",
       "4  132.165525    180.406275        119.913614   135.924526    0.514537  "
      ]
     },
     "metadata": {},
     "output_type": "display_data"
    },
    {
     "name": "stdout",
     "output_type": "stream",
     "text": [
      "\n",
      "Variable Importances: \n"
     ]
    },
    {
     "data": {
      "text/html": [
       "<div>\n",
       "<style scoped>\n",
       "    .dataframe tbody tr th:only-of-type {\n",
       "        vertical-align: middle;\n",
       "    }\n",
       "\n",
       "    .dataframe tbody tr th {\n",
       "        vertical-align: top;\n",
       "    }\n",
       "\n",
       "    .dataframe thead th {\n",
       "        text-align: right;\n",
       "    }\n",
       "</style>\n",
       "<table border=\"1\" class=\"dataframe\">\n",
       "  <thead>\n",
       "    <tr style=\"text-align: right;\">\n",
       "      <th></th>\n",
       "      <th>variable</th>\n",
       "      <th>relative_importance</th>\n",
       "      <th>scaled_importance</th>\n",
       "      <th>percentage</th>\n",
       "    </tr>\n",
       "  </thead>\n",
       "  <tbody>\n",
       "    <tr>\n",
       "      <th>0</th>\n",
       "      <td>pop</td>\n",
       "      <td>0.51968</td>\n",
       "      <td>1.0</td>\n",
       "      <td>1.0</td>\n",
       "    </tr>\n",
       "    <tr>\n",
       "      <th>1</th>\n",
       "      <td>smoke.cigarPipeOnly</td>\n",
       "      <td>0.00000</td>\n",
       "      <td>0.0</td>\n",
       "      <td>0.0</td>\n",
       "    </tr>\n",
       "    <tr>\n",
       "      <th>2</th>\n",
       "      <td>smoke.cigarretteOnly</td>\n",
       "      <td>0.00000</td>\n",
       "      <td>0.0</td>\n",
       "      <td>0.0</td>\n",
       "    </tr>\n",
       "    <tr>\n",
       "      <th>3</th>\n",
       "      <td>smoke.cigarrettePlus</td>\n",
       "      <td>0.00000</td>\n",
       "      <td>0.0</td>\n",
       "      <td>0.0</td>\n",
       "    </tr>\n",
       "    <tr>\n",
       "      <th>4</th>\n",
       "      <td>smoke.no</td>\n",
       "      <td>0.00000</td>\n",
       "      <td>0.0</td>\n",
       "      <td>0.0</td>\n",
       "    </tr>\n",
       "  </tbody>\n",
       "</table>\n",
       "</div>"
      ],
      "text/plain": [
       "               variable  relative_importance  scaled_importance  percentage\n",
       "0                   pop              0.51968                1.0         1.0\n",
       "1   smoke.cigarPipeOnly              0.00000                0.0         0.0\n",
       "2  smoke.cigarretteOnly              0.00000                0.0         0.0\n",
       "3  smoke.cigarrettePlus              0.00000                0.0         0.0\n",
       "4              smoke.no              0.00000                0.0         0.0"
      ]
     },
     "metadata": {},
     "output_type": "display_data"
    },
    {
     "data": {
      "text/plain": []
     },
     "execution_count": 34,
     "metadata": {},
     "output_type": "execute_result"
    }
   ],
   "source": [
    "m.train(x, y, smoking)"
   ]
  },
  {
   "cell_type": "code",
   "execution_count": 35,
   "id": "14012310",
   "metadata": {},
   "outputs": [
    {
     "name": "stdout",
     "output_type": "stream",
     "text": [
      "\n",
      "ModelMetricsRegressionGLM: glm\n",
      "** Reported on train data. **\n",
      "\n",
      "MSE: 32546.4240818532\n",
      "RMSE: 180.4062750622971\n",
      "MAE: 135.9245262064597\n",
      "RMSLE: 1.319820921276539\n",
      "R^2: 0.5145365060659479\n",
      "Mean Residual Deviance: 119.91361442343464\n",
      "Null degrees of freedom: 35\n",
      "Residual degrees of freedom: 34\n",
      "Null deviance: 8434.40760401343\n",
      "Residual deviance: 4316.890119243647\n",
      "AIC: 4560.891720932808\n"
     ]
    },
    {
     "data": {
      "text/plain": []
     },
     "execution_count": 35,
     "metadata": {},
     "output_type": "execute_result"
    }
   ],
   "source": [
    "m.model_performance()"
   ]
  },
  {
   "cell_type": "code",
   "execution_count": 38,
   "id": "1148e622",
   "metadata": {},
   "outputs": [
    {
     "data": {
      "text/plain": [
       "{'Intercept': 4.8810138164602614,\n",
       " 'smoke.cigarPipeOnly': 0.0,\n",
       " 'smoke.cigarretteOnly': 0.0,\n",
       " 'smoke.cigarrettePlus': 0.0,\n",
       " 'smoke.no': 0.0,\n",
       " 'pop': 0.0003326524306268606}"
      ]
     },
     "execution_count": 38,
     "metadata": {},
     "output_type": "execute_result"
    }
   ],
   "source": [
    "m.coef()"
   ]
  },
  {
   "cell_type": "code",
   "execution_count": 39,
   "id": "eb63d5c5",
   "metadata": {},
   "outputs": [
    {
     "data": {
      "text/plain": [
       "['C1', 'age', 'smoke', 'pop', 'dead']"
      ]
     },
     "execution_count": 39,
     "metadata": {},
     "output_type": "execute_result"
    }
   ],
   "source": [
    "smoking.columns"
   ]
  },
  {
   "cell_type": "code",
   "execution_count": 40,
   "id": "8bce2c01",
   "metadata": {},
   "outputs": [
    {
     "name": "stdout",
     "output_type": "stream",
     "text": [
      "glm Model Build progress: |██████████████████████████████████████████████████████| (done) 100%\n",
      "Model Details\n",
      "=============\n",
      "H2OGeneralizedLinearEstimator :  Generalized Linear Modeling\n",
      "Model Key:  smoking_python_1\n",
      "\n",
      "\n",
      "GLM Model: summary\n"
     ]
    },
    {
     "data": {
      "text/html": [
       "<div>\n",
       "<style scoped>\n",
       "    .dataframe tbody tr th:only-of-type {\n",
       "        vertical-align: middle;\n",
       "    }\n",
       "\n",
       "    .dataframe tbody tr th {\n",
       "        vertical-align: top;\n",
       "    }\n",
       "\n",
       "    .dataframe thead th {\n",
       "        text-align: right;\n",
       "    }\n",
       "</style>\n",
       "<table border=\"1\" class=\"dataframe\">\n",
       "  <thead>\n",
       "    <tr style=\"text-align: right;\">\n",
       "      <th></th>\n",
       "      <th></th>\n",
       "      <th>family</th>\n",
       "      <th>link</th>\n",
       "      <th>regularization</th>\n",
       "      <th>number_of_predictors_total</th>\n",
       "      <th>number_of_active_predictors</th>\n",
       "      <th>number_of_iterations</th>\n",
       "      <th>training_frame</th>\n",
       "    </tr>\n",
       "  </thead>\n",
       "  <tbody>\n",
       "    <tr>\n",
       "      <th>0</th>\n",
       "      <td></td>\n",
       "      <td>poisson</td>\n",
       "      <td>log</td>\n",
       "      <td>Elastic Net (alpha = 0.5, lambda = 5.5253 )</td>\n",
       "      <td>9</td>\n",
       "      <td>8</td>\n",
       "      <td>5</td>\n",
       "      <td>smoking_df_python</td>\n",
       "    </tr>\n",
       "  </tbody>\n",
       "</table>\n",
       "</div>"
      ],
      "text/plain": [
       "      family link                               regularization  \\\n",
       "0    poisson  log  Elastic Net (alpha = 0.5, lambda = 5.5253 )   \n",
       "\n",
       "   number_of_predictors_total number_of_active_predictors  \\\n",
       "0                           9                           8   \n",
       "\n",
       "   number_of_iterations     training_frame  \n",
       "0                     5  smoking_df_python  "
      ]
     },
     "metadata": {},
     "output_type": "display_data"
    },
    {
     "name": "stdout",
     "output_type": "stream",
     "text": [
      "\n",
      "\n",
      "ModelMetricsRegressionGLM: glm\n",
      "** Reported on train data. **\n",
      "\n",
      "MSE: 43561.09070617488\n",
      "RMSE: 208.71293852124953\n",
      "MAE: 162.38888888888894\n",
      "RMSLE: 1.332625647055372\n",
      "R^2: 0.3502413893270425\n",
      "Mean Residual Deviance: 141.4647050618528\n",
      "Null degrees of freedom: 35\n",
      "Residual degrees of freedom: 27\n",
      "Null deviance: 8434.40760401343\n",
      "Residual deviance: 5092.729382226701\n",
      "AIC: 5350.730983915869\n",
      "\n",
      "Scoring History: \n"
     ]
    },
    {
     "data": {
      "text/html": [
       "<div>\n",
       "<style scoped>\n",
       "    .dataframe tbody tr th:only-of-type {\n",
       "        vertical-align: middle;\n",
       "    }\n",
       "\n",
       "    .dataframe tbody tr th {\n",
       "        vertical-align: top;\n",
       "    }\n",
       "\n",
       "    .dataframe thead th {\n",
       "        text-align: right;\n",
       "    }\n",
       "</style>\n",
       "<table border=\"1\" class=\"dataframe\">\n",
       "  <thead>\n",
       "    <tr style=\"text-align: right;\">\n",
       "      <th></th>\n",
       "      <th></th>\n",
       "      <th>timestamp</th>\n",
       "      <th>duration</th>\n",
       "      <th>iterations</th>\n",
       "      <th>negative_log_likelihood</th>\n",
       "      <th>objective</th>\n",
       "      <th>training_rmse</th>\n",
       "      <th>training_deviance</th>\n",
       "      <th>training_mae</th>\n",
       "      <th>training_r2</th>\n",
       "    </tr>\n",
       "  </thead>\n",
       "  <tbody>\n",
       "    <tr>\n",
       "      <th>0</th>\n",
       "      <td></td>\n",
       "      <td>2022-02-27 02:56:15</td>\n",
       "      <td>0.000 sec</td>\n",
       "      <td>0</td>\n",
       "      <td>8434.407604</td>\n",
       "      <td>234.289100</td>\n",
       "      <td></td>\n",
       "      <td></td>\n",
       "      <td></td>\n",
       "      <td></td>\n",
       "    </tr>\n",
       "    <tr>\n",
       "      <th>1</th>\n",
       "      <td></td>\n",
       "      <td>2022-02-27 02:56:15</td>\n",
       "      <td>0.015 sec</td>\n",
       "      <td>1</td>\n",
       "      <td>5384.624607</td>\n",
       "      <td>162.516751</td>\n",
       "      <td></td>\n",
       "      <td></td>\n",
       "      <td></td>\n",
       "      <td></td>\n",
       "    </tr>\n",
       "    <tr>\n",
       "      <th>2</th>\n",
       "      <td></td>\n",
       "      <td>2022-02-27 02:56:15</td>\n",
       "      <td>0.015 sec</td>\n",
       "      <td>2</td>\n",
       "      <td>5142.054885</td>\n",
       "      <td>156.227543</td>\n",
       "      <td></td>\n",
       "      <td></td>\n",
       "      <td></td>\n",
       "      <td></td>\n",
       "    </tr>\n",
       "    <tr>\n",
       "      <th>3</th>\n",
       "      <td></td>\n",
       "      <td>2022-02-27 02:56:15</td>\n",
       "      <td>0.015 sec</td>\n",
       "      <td>3</td>\n",
       "      <td>5138.228999</td>\n",
       "      <td>156.154374</td>\n",
       "      <td></td>\n",
       "      <td></td>\n",
       "      <td></td>\n",
       "      <td></td>\n",
       "    </tr>\n",
       "    <tr>\n",
       "      <th>4</th>\n",
       "      <td></td>\n",
       "      <td>2022-02-27 02:56:15</td>\n",
       "      <td>0.015 sec</td>\n",
       "      <td>4</td>\n",
       "      <td>5138.224182</td>\n",
       "      <td>156.154306</td>\n",
       "      <td></td>\n",
       "      <td></td>\n",
       "      <td></td>\n",
       "      <td></td>\n",
       "    </tr>\n",
       "    <tr>\n",
       "      <th>5</th>\n",
       "      <td></td>\n",
       "      <td>2022-02-27 02:56:15</td>\n",
       "      <td>0.015 sec</td>\n",
       "      <td>5</td>\n",
       "      <td>5092.729382</td>\n",
       "      <td>155.255882</td>\n",
       "      <td>208.712939</td>\n",
       "      <td>141.464705</td>\n",
       "      <td>162.388889</td>\n",
       "      <td>0.350241</td>\n",
       "    </tr>\n",
       "  </tbody>\n",
       "</table>\n",
       "</div>"
      ],
      "text/plain": [
       "               timestamp    duration  iterations  negative_log_likelihood  \\\n",
       "0    2022-02-27 02:56:15   0.000 sec           0              8434.407604   \n",
       "1    2022-02-27 02:56:15   0.015 sec           1              5384.624607   \n",
       "2    2022-02-27 02:56:15   0.015 sec           2              5142.054885   \n",
       "3    2022-02-27 02:56:15   0.015 sec           3              5138.228999   \n",
       "4    2022-02-27 02:56:15   0.015 sec           4              5138.224182   \n",
       "5    2022-02-27 02:56:15   0.015 sec           5              5092.729382   \n",
       "\n",
       "    objective training_rmse training_deviance training_mae training_r2  \n",
       "0  234.289100                                                           \n",
       "1  162.516751                                                           \n",
       "2  156.227543                                                           \n",
       "3  156.154374                                                           \n",
       "4  156.154306                                                           \n",
       "5  155.255882    208.712939        141.464705   162.388889    0.350241  "
      ]
     },
     "metadata": {},
     "output_type": "display_data"
    },
    {
     "name": "stdout",
     "output_type": "stream",
     "text": [
      "\n",
      "Variable Importances: \n"
     ]
    },
    {
     "data": {
      "text/html": [
       "<div>\n",
       "<style scoped>\n",
       "    .dataframe tbody tr th:only-of-type {\n",
       "        vertical-align: middle;\n",
       "    }\n",
       "\n",
       "    .dataframe tbody tr th {\n",
       "        vertical-align: top;\n",
       "    }\n",
       "\n",
       "    .dataframe thead th {\n",
       "        text-align: right;\n",
       "    }\n",
       "</style>\n",
       "<table border=\"1\" class=\"dataframe\">\n",
       "  <thead>\n",
       "    <tr style=\"text-align: right;\">\n",
       "      <th></th>\n",
       "      <th>variable</th>\n",
       "      <th>relative_importance</th>\n",
       "      <th>scaled_importance</th>\n",
       "      <th>percentage</th>\n",
       "    </tr>\n",
       "  </thead>\n",
       "  <tbody>\n",
       "    <tr>\n",
       "      <th>0</th>\n",
       "      <td>age.60-64</td>\n",
       "      <td>0.706376</td>\n",
       "      <td>1.000000</td>\n",
       "      <td>0.181921</td>\n",
       "    </tr>\n",
       "    <tr>\n",
       "      <th>1</th>\n",
       "      <td>age.40-44</td>\n",
       "      <td>0.679416</td>\n",
       "      <td>0.961833</td>\n",
       "      <td>0.174978</td>\n",
       "    </tr>\n",
       "    <tr>\n",
       "      <th>2</th>\n",
       "      <td>age.65-69</td>\n",
       "      <td>0.666429</td>\n",
       "      <td>0.943448</td>\n",
       "      <td>0.171633</td>\n",
       "    </tr>\n",
       "    <tr>\n",
       "      <th>3</th>\n",
       "      <td>age.45-59</td>\n",
       "      <td>0.606588</td>\n",
       "      <td>0.858732</td>\n",
       "      <td>0.156222</td>\n",
       "    </tr>\n",
       "    <tr>\n",
       "      <th>4</th>\n",
       "      <td>age.50-54</td>\n",
       "      <td>0.498857</td>\n",
       "      <td>0.706220</td>\n",
       "      <td>0.128477</td>\n",
       "    </tr>\n",
       "    <tr>\n",
       "      <th>5</th>\n",
       "      <td>age.70-74</td>\n",
       "      <td>0.359939</td>\n",
       "      <td>0.509557</td>\n",
       "      <td>0.092699</td>\n",
       "    </tr>\n",
       "    <tr>\n",
       "      <th>6</th>\n",
       "      <td>age.80+</td>\n",
       "      <td>0.198439</td>\n",
       "      <td>0.280925</td>\n",
       "      <td>0.051106</td>\n",
       "    </tr>\n",
       "    <tr>\n",
       "      <th>7</th>\n",
       "      <td>age.55-59</td>\n",
       "      <td>0.166821</td>\n",
       "      <td>0.236165</td>\n",
       "      <td>0.042963</td>\n",
       "    </tr>\n",
       "    <tr>\n",
       "      <th>8</th>\n",
       "      <td>age.75-79</td>\n",
       "      <td>0.000000</td>\n",
       "      <td>0.000000</td>\n",
       "      <td>0.000000</td>\n",
       "    </tr>\n",
       "  </tbody>\n",
       "</table>\n",
       "</div>"
      ],
      "text/plain": [
       "    variable  relative_importance  scaled_importance  percentage\n",
       "0  age.60-64             0.706376           1.000000    0.181921\n",
       "1  age.40-44             0.679416           0.961833    0.174978\n",
       "2  age.65-69             0.666429           0.943448    0.171633\n",
       "3  age.45-59             0.606588           0.858732    0.156222\n",
       "4  age.50-54             0.498857           0.706220    0.128477\n",
       "5  age.70-74             0.359939           0.509557    0.092699\n",
       "6    age.80+             0.198439           0.280925    0.051106\n",
       "7  age.55-59             0.166821           0.236165    0.042963\n",
       "8  age.75-79             0.000000           0.000000    0.000000"
      ]
     },
     "metadata": {},
     "output_type": "display_data"
    },
    {
     "data": {
      "text/plain": []
     },
     "execution_count": 40,
     "metadata": {},
     "output_type": "execute_result"
    }
   ],
   "source": [
    "m.train('age', y, smoking)"
   ]
  },
  {
   "cell_type": "code",
   "execution_count": 41,
   "id": "43a625c2",
   "metadata": {},
   "outputs": [
    {
     "name": "stdout",
     "output_type": "stream",
     "text": [
      "\n",
      "ModelMetricsRegressionGLM: glm\n",
      "** Reported on train data. **\n",
      "\n",
      "MSE: 43561.09070617488\n",
      "RMSE: 208.71293852124953\n",
      "MAE: 162.38888888888894\n",
      "RMSLE: 1.332625647055372\n",
      "R^2: 0.3502413893270425\n",
      "Mean Residual Deviance: 141.4647050618528\n",
      "Null degrees of freedom: 35\n",
      "Residual degrees of freedom: 27\n",
      "Null deviance: 8434.40760401343\n",
      "Residual deviance: 5092.729382226701\n",
      "AIC: 5350.730983915869\n"
     ]
    },
    {
     "data": {
      "text/plain": []
     },
     "execution_count": 41,
     "metadata": {},
     "output_type": "execute_result"
    }
   ],
   "source": [
    "m.model_performance()"
   ]
  },
  {
   "cell_type": "code",
   "execution_count": 42,
   "id": "279721be",
   "metadata": {},
   "outputs": [
    {
     "data": {
      "text/plain": [
       "{'Intercept': 5.424470040718022,\n",
       " 'age.40-44': -0.6794162660268199,\n",
       " 'age.45-59': -0.6065876886595731,\n",
       " 'age.50-54': -0.4988570575750373,\n",
       " 'age.55-59': 0.16682148877597314,\n",
       " 'age.60-64': 0.7063764159534394,\n",
       " 'age.65-69': 0.6664292343220701,\n",
       " 'age.70-74': 0.3599391460714685,\n",
       " 'age.75-79': 0.0,\n",
       " 'age.80+': -0.19843873317218907}"
      ]
     },
     "execution_count": 42,
     "metadata": {},
     "output_type": "execute_result"
    }
   ],
   "source": [
    "m.coef()"
   ]
  },
  {
   "cell_type": "code",
   "execution_count": null,
   "id": "03ee0aed",
   "metadata": {},
   "outputs": [],
   "source": []
  }
 ],
 "metadata": {
  "kernelspec": {
   "display_name": "Python 3",
   "language": "python",
   "name": "python3"
  },
  "language_info": {
   "codemirror_mode": {
    "name": "ipython",
    "version": 3
   },
   "file_extension": ".py",
   "mimetype": "text/x-python",
   "name": "python",
   "nbconvert_exporter": "python",
   "pygments_lexer": "ipython3",
   "version": "3.8.8"
  }
 },
 "nbformat": 4,
 "nbformat_minor": 5
}
