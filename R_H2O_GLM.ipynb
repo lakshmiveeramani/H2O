{
 "cells": [
  {
   "cell_type": "code",
   "execution_count": 61,
   "id": "f03a6b7f",
   "metadata": {},
   "outputs": [
    {
     "name": "stdout",
     "output_type": "stream",
     "text": [
      " Connection successful!\n",
      "\n",
      "R is connected to the H2O cluster: \n",
      "    H2O cluster uptime:         15 hours 11 minutes \n",
      "    H2O cluster timezone:       America/New_York \n",
      "    H2O data parsing timezone:  UTC \n",
      "    H2O cluster version:        3.36.0.3 \n",
      "    H2O cluster version age:    10 days  \n",
      "    H2O cluster name:           H2O_started_from_R_laksh_uyu211 \n",
      "    H2O cluster total nodes:    1 \n",
      "    H2O cluster total memory:   0.81 GB \n",
      "    H2O cluster total cores:    4 \n",
      "    H2O cluster allowed cores:  4 \n",
      "    H2O cluster healthy:        TRUE \n",
      "    H2O Connection ip:          localhost \n",
      "    H2O Connection port:        54321 \n",
      "    H2O Connection proxy:       NA \n",
      "    H2O Internal Security:      FALSE \n",
      "    R Version:                  R version 3.6.1 (2019-07-05) \n",
      "\n"
     ]
    }
   ],
   "source": [
    "library(h2o)\n",
    "h2o.init()\n"
   ]
  },
  {
   "cell_type": "code",
   "execution_count": 97,
   "id": "635cbad3",
   "metadata": {},
   "outputs": [
    {
     "name": "stdout",
     "output_type": "stream",
     "text": [
      "  |======================================================================| 100%\n"
     ]
    }
   ],
   "source": [
    "file_path <- \"C:/Lakshmi/H2O/smoking.csv\"\n",
    "filedata <- h2o.uploadFile(path = file_path, destination_frame = \"smoking_df\")"
   ]
  },
  {
   "cell_type": "code",
   "execution_count": 60,
   "id": "e8128d53",
   "metadata": {},
   "outputs": [
    {
     "data": {
      "text/plain": [
       "  C1   age smoke  pop dead\n",
       "1  1 40-44    no  656   18\n",
       "2  2 45-59    no  359   22\n",
       "3  3 50-54    no  249   19\n",
       "4  4 55-59    no  632   55\n",
       "5  5 60-64    no 1067  117\n",
       "6  6 65-69    no  897  170\n",
       "\n",
       "[36 rows x 5 columns] "
      ]
     },
     "metadata": {},
     "output_type": "display_data"
    }
   ],
   "source": [
    "filedata"
   ]
  },
  {
   "cell_type": "code",
   "execution_count": 64,
   "id": "67e8f1c8",
   "metadata": {},
   "outputs": [
    {
     "name": "stderr",
     "output_type": "stream",
     "text": [
      "Warning message in summary.H2OFrame(filedata):\n",
      "\"Approximated quantiles computed! If you are interested in exact quantiles, please pass the `exact_quantiles=TRUE` parameter.\""
     ]
    },
    {
     "data": {
      "text/plain": [
       " C1              age      smoke             pop              dead            \n",
       " Min.   : 1.00   40-44:4  cigarPipeOnly :9  Min.   :  98.0   Min.   :   2.0  \n",
       " 1st Qu.: 9.75   45-59:4  cigarretteOnly:9  1st Qu.: 369.0   1st Qu.: 100.5  \n",
       " Median :18.50   50-54:4  cigarrettePlus:9  Median : 854.3   Median : 171.5  \n",
       " Mean   :18.50   55-59:4  no            :9  Mean   :1558.9   Mean   : 253.6  \n",
       " 3rd Qu.:27.25   60-64:4                    3rd Qu.:2304.3   3rd Qu.: 274.0  \n",
       " Max.   :36.00   65-69:4                    Max.   :6052.0   Max.   :1001.0  "
      ]
     },
     "metadata": {},
     "output_type": "display_data"
    }
   ],
   "source": [
    "summary(filedata)"
   ]
  },
  {
   "cell_type": "code",
   "execution_count": 74,
   "id": "eb239994",
   "metadata": {},
   "outputs": [],
   "source": [
    "x = filedata[,2]"
   ]
  },
  {
   "cell_type": "code",
   "execution_count": 75,
   "id": "0c321554",
   "metadata": {},
   "outputs": [
    {
     "data": {
      "text/plain": [
       "    age\n",
       "1 40-44\n",
       "2 45-59\n",
       "3 50-54\n",
       "4 55-59\n",
       "5 60-64\n",
       "6 65-69\n",
       "\n",
       "[36 rows x 1 column] "
      ]
     },
     "metadata": {},
     "output_type": "display_data"
    }
   ],
   "source": [
    "x"
   ]
  },
  {
   "cell_type": "code",
   "execution_count": 78,
   "id": "4c295839",
   "metadata": {},
   "outputs": [],
   "source": [
    "y=filedata[,5]"
   ]
  },
  {
   "cell_type": "code",
   "execution_count": 79,
   "id": "3a142395",
   "metadata": {},
   "outputs": [
    {
     "data": {
      "text/plain": [
       "  dead\n",
       "1   18\n",
       "2   22\n",
       "3   19\n",
       "4   55\n",
       "5  117\n",
       "6  170\n",
       "\n",
       "[36 rows x 1 column] "
      ]
     },
     "metadata": {},
     "output_type": "display_data"
    }
   ],
   "source": [
    "y"
   ]
  },
  {
   "cell_type": "code",
   "execution_count": 80,
   "id": "88224b4d",
   "metadata": {},
   "outputs": [
    {
     "data": {
      "text/html": [
       "9130"
      ],
      "text/latex": [
       "9130"
      ],
      "text/markdown": [
       "9130"
      ],
      "text/plain": [
       "[1] 9130"
      ]
     },
     "metadata": {},
     "output_type": "display_data"
    }
   ],
   "source": [
    "h2o.sum(filedata[,5])"
   ]
  },
  {
   "cell_type": "code",
   "execution_count": 89,
   "id": "5674fd06",
   "metadata": {},
   "outputs": [
    {
     "name": "stdout",
     "output_type": "stream",
     "text": [
      "  |======================================================================| 100%\n"
     ]
    }
   ],
   "source": [
    "m = h2o.glm(2, 4, filedata, family = \"poisson\", model_id = \"R_glm_smoking_p\")"
   ]
  },
  {
   "cell_type": "code",
   "execution_count": 90,
   "id": "43200231",
   "metadata": {},
   "outputs": [
    {
     "data": {
      "text/plain": [
       "Model Details:\n",
       "==============\n",
       "\n",
       "H2ORegressionModel: glm\n",
       "Model ID:  R_glm_smoking_p \n",
       "GLM Model: summary\n",
       "   family link                              regularization\n",
       "1 poisson  log Elastic Net (alpha = 0.5, lambda = 30.668 )\n",
       "  number_of_predictors_total number_of_active_predictors number_of_iterations\n",
       "1                          9                           8                    4\n",
       "  training_frame\n",
       "1     smoking_df\n",
       "\n",
       "Coefficients: glm coefficients\n",
       "       names coefficients standardized_coefficients\n",
       "1  Intercept     7.262548                  7.262548\n",
       "2  age.40-44     0.338728                  0.338728\n",
       "3  age.45-59     0.000000                  0.000000\n",
       "4  age.50-54    -0.115610                 -0.115610\n",
       "5  age.55-59     0.363455                  0.363455\n",
       "6  age.60-64     0.642989                  0.642989\n",
       "7  age.65-69     0.266817                  0.266817\n",
       "8  age.70-74    -0.071241                 -0.071241\n",
       "9  age.75-79    -0.576323                 -0.576323\n",
       "10   age.80+    -0.900364                 -0.900364\n",
       "\n",
       "H2ORegressionMetrics: glm\n",
       "** Reported on training data. **\n",
       "\n",
       "MSE:  1759118\n",
       "RMSE:  1326.318\n",
       "MAE:  1086.397\n",
       "RMSLE:  1.097194\n",
       "Mean Residual Deviance :  961.7961\n",
       "R^2 :  0.2586243\n",
       "Null Deviance :49827.2\n",
       "Null D.o.F. :35\n",
       "Residual Deviance :34624.66\n",
       "Residual D.o.F. :27\n",
       "AIC :34953.37\n",
       "\n",
       "\n",
       "\n"
      ]
     },
     "metadata": {},
     "output_type": "display_data"
    }
   ],
   "source": [
    "m"
   ]
  },
  {
   "cell_type": "code",
   "execution_count": 93,
   "id": "51c7e4c2",
   "metadata": {},
   "outputs": [
    {
     "name": "stdout",
     "output_type": "stream",
     "text": [
      "  |======================================================================| 100%\n"
     ]
    }
   ],
   "source": [
    "m1 = h2o.glm(3, 5, filedata, family = \"poisson\", model_id = \"R_glm_smoking_p_2\")"
   ]
  },
  {
   "cell_type": "code",
   "execution_count": null,
   "id": "3ee29cce",
   "metadata": {},
   "outputs": [],
   "source": []
  },
  {
   "cell_type": "code",
   "execution_count": 16,
   "id": "c7b001f2",
   "metadata": {},
   "outputs": [
    {
     "name": "stderr",
     "output_type": "stream",
     "text": [
      "Warning message in file(file, \"rt\"):\n",
      "\"cannot open file '/C/Lakshmi/H2O/smoking.csv': No such file or directory\""
     ]
    },
    {
     "ename": "ERROR",
     "evalue": "Error in file(file, \"rt\"): cannot open the connection\n",
     "output_type": "error",
     "traceback": [
      "Error in file(file, \"rt\"): cannot open the connection\nTraceback:\n",
      "1. read.csv(\"/C/Lakshmi/H2O/smoking.csv\", row.names = 1)",
      "2. read.table(file = file, header = header, sep = sep, quote = quote, \n .     dec = dec, fill = fill, comment.char = comment.char, ...)",
      "3. file(file, \"rt\")"
     ]
    }
   ],
   "source": [
    "smoking <- read.csv('/C/Lakshmi/H2O/smoking.csv', row.names=1)"
   ]
  },
  {
   "cell_type": "code",
   "execution_count": 14,
   "id": "115a3a2d",
   "metadata": {},
   "outputs": [
    {
     "data": {
      "text/html": [
       "'C:\\\\Lakshmi\\\\H2O'"
      ],
      "text/latex": [
       "'C:\\textbackslash{}\\textbackslash{}Lakshmi\\textbackslash{}\\textbackslash{}H2O'"
      ],
      "text/markdown": [
       "'C:\\\\Lakshmi\\\\H2O'"
      ],
      "text/plain": [
       "[1] \"C:\\\\Lakshmi\\\\H2O\""
      ]
     },
     "metadata": {},
     "output_type": "display_data"
    }
   ],
   "source": [
    "path"
   ]
  },
  {
   "cell_type": "code",
   "execution_count": 12,
   "id": "7dc6bdfa",
   "metadata": {},
   "outputs": [
    {
     "name": "stdout",
     "output_type": "stream",
     "text": [
      "\n",
      "ERROR: Unexpected HTTP Status code: 412 Precondition Failed (url = http://localhost:54321/3/ParseSetup)\n",
      "\n",
      "water.exceptions.H2OIllegalArgumentException\n",
      " [1] \"water.exceptions.H2OIllegalArgumentException: Column separator mismatch. One file seems to use \\\" \\\" and the other uses \\\",\\\".\"\n",
      " [2] \"    water.api.ParseSetupHandler.guessSetup(ParseSetupHandler.java:50)\"                                                         \n",
      " [3] \"    sun.reflect.NativeMethodAccessorImpl.invoke0(Native Method)\"                                                               \n",
      " [4] \"    sun.reflect.NativeMethodAccessorImpl.invoke(Unknown Source)\"                                                               \n",
      " [5] \"    sun.reflect.DelegatingMethodAccessorImpl.invoke(Unknown Source)\"                                                           \n",
      " [6] \"    java.lang.reflect.Method.invoke(Unknown Source)\"                                                                           \n",
      " [7] \"    water.api.Handler.handle(Handler.java:60)\"                                                                                 \n",
      " [8] \"    water.api.RequestServer.serve(RequestServer.java:470)\"                                                                     \n",
      " [9] \"    water.api.RequestServer.doGeneric(RequestServer.java:301)\"                                                                 \n",
      "[10] \"    water.api.RequestServer.doPost(RequestServer.java:227)\"                                                                    \n",
      "[11] \"    javax.servlet.http.HttpServlet.service(HttpServlet.java:707)\"                                                              \n",
      "[12] \"    javax.servlet.http.HttpServlet.service(HttpServlet.java:790)\"                                                              \n",
      "[13] \"    org.eclipse.jetty.servlet.ServletHolder.handle(ServletHolder.java:865)\"                                                    \n",
      "[14] \"    org.eclipse.jetty.servlet.ServletHandler.doHandle(ServletHandler.java:535)\"                                                \n",
      "[15] \"    org.eclipse.jetty.server.handler.ScopedHandler.nextHandle(ScopedHandler.java:255)\"                                         \n",
      "[16] \"    org.eclipse.jetty.server.handler.ContextHandler.doHandle(ContextHandler.java:1317)\"                                        \n",
      "[17] \"    org.eclipse.jetty.server.handler.ScopedHandler.nextScope(ScopedHandler.java:203)\"                                          \n",
      "[18] \"    org.eclipse.jetty.servlet.ServletHandler.doScope(ServletHandler.java:473)\"                                                 \n",
      "[19] \"    org.eclipse.jetty.server.handler.ScopedHandler.nextScope(ScopedHandler.java:201)\"                                          \n",
      "[20] \"    org.eclipse.jetty.server.handler.ContextHandler.doScope(ContextHandler.java:1219)\"                                         \n",
      "[21] \"    org.eclipse.jetty.server.handler.ScopedHandler.handle(ScopedHandler.java:144)\"                                             \n",
      "[22] \"    org.eclipse.jetty.server.handler.HandlerCollection.handle(HandlerCollection.java:126)\"                                     \n",
      "[23] \"    org.eclipse.jetty.server.handler.HandlerWrapper.handle(HandlerWrapper.java:132)\"                                           \n",
      "[24] \"    water.webserver.jetty9.Jetty9ServerAdapter$LoginHandler.handle(Jetty9ServerAdapter.java:130)\"                              \n",
      "[25] \"    org.eclipse.jetty.server.handler.HandlerCollection.handle(HandlerCollection.java:126)\"                                     \n",
      "[26] \"    org.eclipse.jetty.server.handler.HandlerWrapper.handle(HandlerWrapper.java:132)\"                                           \n",
      "[27] \"    org.eclipse.jetty.server.Server.handle(Server.java:531)\"                                                                   \n",
      "[28] \"    org.eclipse.jetty.server.HttpChannel.handle(HttpChannel.java:352)\"                                                         \n",
      "[29] \"    org.eclipse.jetty.server.HttpConnection.onFillable(HttpConnection.java:260)\"                                               \n",
      "[30] \"    org.eclipse.jetty.io.AbstractConnection$ReadCallback.succeeded(AbstractConnection.java:281)\"                               \n",
      "[31] \"    org.eclipse.jetty.io.FillInterest.fillable(FillInterest.java:102)\"                                                         \n",
      "[32] \"    org.eclipse.jetty.io.ChannelEndPoint$2.run(ChannelEndPoint.java:118)\"                                                      \n",
      "[33] \"    org.eclipse.jetty.util.thread.strategy.EatWhatYouKill.runTask(EatWhatYouKill.java:333)\"                                    \n",
      "[34] \"    org.eclipse.jetty.util.thread.strategy.EatWhatYouKill.doProduce(EatWhatYouKill.java:310)\"                                  \n",
      "[35] \"    org.eclipse.jetty.util.thread.strategy.EatWhatYouKill.tryProduce(EatWhatYouKill.java:168)\"                                 \n",
      "[36] \"    org.eclipse.jetty.util.thread.strategy.EatWhatYouKill.run(EatWhatYouKill.java:126)\"                                        \n",
      "[37] \"    org.eclipse.jetty.util.thread.ReservedThreadExecutor$ReservedThread.run(ReservedThreadExecutor.java:366)\"                  \n",
      "[38] \"    org.eclipse.jetty.util.thread.QueuedThreadPool.runJob(QueuedThreadPool.java:762)\"                                          \n",
      "[39] \"    org.eclipse.jetty.util.thread.QueuedThreadPool$2.run(QueuedThreadPool.java:680)\"                                           \n",
      "[40] \"    java.lang.Thread.run(Unknown Source)\"                                                                                      \n",
      "\n"
     ]
    },
    {
     "ename": "ERROR",
     "evalue": "Error in .h2o.doSafeREST(h2oRestApiVersion = h2oRestApiVersion, urlSuffix = page, : \n\nERROR MESSAGE:\n\nColumn separator mismatch. One file seems to use \" \" and the other uses \",\".\n\n\n",
     "output_type": "error",
     "traceback": [
      "Error in .h2o.doSafeREST(h2oRestApiVersion = h2oRestApiVersion, urlSuffix = page, : \n\nERROR MESSAGE:\n\nColumn separator mismatch. One file seems to use \" \" and the other uses \",\".\n\n\nTraceback:\n",
      "1. h2o.importFile(url)",
      "2. h2o.importFolder(path, pattern = \"\", destination_frame = destination_frame, \n .     parse, header, sep, col.names, col.types, na.strings = na.strings, \n .     decrypt_tool = decrypt_tool, skipped_columns = skipped_columns, \n .     custom_non_data_line_markers = custom_non_data_line_markers, \n .     partition_by, quotechar, escapechar)",
      "3. h2o.parseRaw(data = .newH2OFrame(op = \"ImportFolder\", id = srcKey, \n .     -1, -1), pattern = pattern, destination_frame = destination_frame, \n .     header = header, sep = sep, col.names = col.names, col.types = col.types, \n .     na.strings = na.strings, decrypt_tool = decrypt_tool, skipped_columns = skipped_columns, \n .     custom_non_data_line_markers = custom_non_data_line_markers, \n .     partition_by = partition_by, quotechar = quotechar, escapechar = escapechar)",
      "4. h2o.parseSetup(data, pattern = \"\", destination_frame, header, \n .     sep, col.names, col.types, na.strings = na.strings, parse_type = parse_type, \n .     chunk_size = chunk_size, decrypt_tool = decrypt_tool, skipped_columns = skipped_columns, \n .     custom_non_data_line_markers = custom_non_data_line_markers, \n .     partition_by = partition_by, single_quotes = single_quotes, \n .     escapechar = escapechar)",
      "5. .h2o.__remoteSend(.h2o.__PARSE_SETUP, method = \"POST\", .params = parseSetup.params)",
      "6. .h2o.doSafeREST(h2oRestApiVersion = h2oRestApiVersion, urlSuffix = page, \n .     parms = .params, method = method, parms_as_payload = parms_as_payload, \n .     timeout = timeout)",
      "7. stop(msg)"
     ]
    }
   ],
   "source": [
    "data <- h2o.importFile(url)\n"
   ]
  },
  {
   "cell_type": "code",
   "execution_count": null,
   "id": "3089e9b7",
   "metadata": {},
   "outputs": [],
   "source": [
    "data\n",
    "summary(data)\n"
   ]
  },
  {
   "cell_type": "code",
   "execution_count": null,
   "id": "2d09d9a8",
   "metadata": {},
   "outputs": [],
   "source": []
  }
 ],
 "metadata": {
  "kernelspec": {
   "display_name": "R",
   "language": "R",
   "name": "ir"
  },
  "language_info": {
   "codemirror_mode": "r",
   "file_extension": ".r",
   "mimetype": "text/x-r-source",
   "name": "R",
   "pygments_lexer": "r",
   "version": "3.6.1"
  }
 },
 "nbformat": 4,
 "nbformat_minor": 5
}
