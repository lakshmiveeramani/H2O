{
 "cells": [
  {
   "cell_type": "code",
   "execution_count": 29,
   "id": "ad6923c2",
   "metadata": {},
   "outputs": [],
   "source": [
    "import h2o"
   ]
  },
  {
   "cell_type": "code",
   "execution_count": 30,
   "id": "53bfe427",
   "metadata": {},
   "outputs": [
    {
     "name": "stdout",
     "output_type": "stream",
     "text": [
      "Checking whether there is an H2O instance running at http://localhost:54321 . connected.\n"
     ]
    },
    {
     "data": {
      "text/html": [
       "<div style=\"overflow:auto\"><table style=\"width:50%\"><tr><td>H2O_cluster_uptime:</td>\n",
       "<td>36 mins 02 secs</td></tr>\n",
       "<tr><td>H2O_cluster_timezone:</td>\n",
       "<td>America/New_York</td></tr>\n",
       "<tr><td>H2O_data_parsing_timezone:</td>\n",
       "<td>UTC</td></tr>\n",
       "<tr><td>H2O_cluster_version:</td>\n",
       "<td>3.36.0.3</td></tr>\n",
       "<tr><td>H2O_cluster_version_age:</td>\n",
       "<td>8 days </td></tr>\n",
       "<tr><td>H2O_cluster_name:</td>\n",
       "<td>H2O_started_from_R_laksh_rlm019</td></tr>\n",
       "<tr><td>H2O_cluster_total_nodes:</td>\n",
       "<td>1</td></tr>\n",
       "<tr><td>H2O_cluster_free_memory:</td>\n",
       "<td>818 Mb</td></tr>\n",
       "<tr><td>H2O_cluster_total_cores:</td>\n",
       "<td>4</td></tr>\n",
       "<tr><td>H2O_cluster_allowed_cores:</td>\n",
       "<td>4</td></tr>\n",
       "<tr><td>H2O_cluster_status:</td>\n",
       "<td>locked, healthy</td></tr>\n",
       "<tr><td>H2O_connection_url:</td>\n",
       "<td>http://localhost:54321</td></tr>\n",
       "<tr><td>H2O_connection_proxy:</td>\n",
       "<td>{\"http\": null, \"https\": null}</td></tr>\n",
       "<tr><td>H2O_internal_security:</td>\n",
       "<td>False</td></tr>\n",
       "<tr><td>Python_version:</td>\n",
       "<td>3.8.8 final</td></tr></table></div>"
      ],
      "text/plain": [
       "--------------------------  -------------------------------\n",
       "H2O_cluster_uptime:         36 mins 02 secs\n",
       "H2O_cluster_timezone:       America/New_York\n",
       "H2O_data_parsing_timezone:  UTC\n",
       "H2O_cluster_version:        3.36.0.3\n",
       "H2O_cluster_version_age:    8 days\n",
       "H2O_cluster_name:           H2O_started_from_R_laksh_rlm019\n",
       "H2O_cluster_total_nodes:    1\n",
       "H2O_cluster_free_memory:    818 Mb\n",
       "H2O_cluster_total_cores:    4\n",
       "H2O_cluster_allowed_cores:  4\n",
       "H2O_cluster_status:         locked, healthy\n",
       "H2O_connection_url:         http://localhost:54321\n",
       "H2O_connection_proxy:       {\"http\": null, \"https\": null}\n",
       "H2O_internal_security:      False\n",
       "Python_version:             3.8.8 final\n",
       "--------------------------  -------------------------------"
      ]
     },
     "metadata": {},
     "output_type": "display_data"
    }
   ],
   "source": [
    "h2o.init()"
   ]
  },
  {
   "cell_type": "code",
   "execution_count": 31,
   "id": "b78a27ad",
   "metadata": {},
   "outputs": [],
   "source": [
    "url = \"http://h2o-public-test-data.s3.amazonaws.com/smalldata/iris/iris_wheader.csv\""
   ]
  },
  {
   "cell_type": "code",
   "execution_count": 32,
   "id": "98dd4626",
   "metadata": {},
   "outputs": [
    {
     "name": "stdout",
     "output_type": "stream",
     "text": [
      "Parse progress: |████████████████████████████████████████████████████████████████| (done) 100%\n"
     ]
    }
   ],
   "source": [
    "iris = h2o.import_file(url)"
   ]
  },
  {
   "cell_type": "code",
   "execution_count": 33,
   "id": "3d722016",
   "metadata": {},
   "outputs": [],
   "source": [
    "train, test =iris.split_frame([0.8])"
   ]
  },
  {
   "cell_type": "code",
   "execution_count": 34,
   "id": "ea5785dc",
   "metadata": {},
   "outputs": [
    {
     "data": {
      "text/html": [
       "<table>\n",
       "<thead>\n",
       "<tr><th>       </th><th>sepal_len         </th><th>sepal_wid         </th><th>petal_len         </th><th>petal_wid         </th><th>class      </th></tr>\n",
       "</thead>\n",
       "<tbody>\n",
       "<tr><td>type   </td><td>real              </td><td>real              </td><td>real              </td><td>real              </td><td>enum       </td></tr>\n",
       "<tr><td>mins   </td><td>4.3               </td><td>2.0               </td><td>1.0               </td><td>0.1               </td><td>           </td></tr>\n",
       "<tr><td>mean   </td><td>5.818253968253969 </td><td>3.0523809523809553</td><td>3.7769841269841273</td><td>1.2182539682539677</td><td>           </td></tr>\n",
       "<tr><td>maxs   </td><td>7.9               </td><td>4.2               </td><td>6.9               </td><td>2.5               </td><td>           </td></tr>\n",
       "<tr><td>sigma  </td><td>0.8067119231696822</td><td>0.4230771628370954</td><td>1.756959314197694 </td><td>0.7610940329447652</td><td>           </td></tr>\n",
       "<tr><td>zeros  </td><td>0                 </td><td>0                 </td><td>0                 </td><td>0                 </td><td>           </td></tr>\n",
       "<tr><td>missing</td><td>0                 </td><td>0                 </td><td>0                 </td><td>0                 </td><td>0          </td></tr>\n",
       "<tr><td>0      </td><td>5.1               </td><td>3.5               </td><td>1.4               </td><td>0.2               </td><td>Iris-setosa</td></tr>\n",
       "<tr><td>1      </td><td>4.9               </td><td>3.0               </td><td>1.4               </td><td>0.2               </td><td>Iris-setosa</td></tr>\n",
       "<tr><td>2      </td><td>4.7               </td><td>3.2               </td><td>1.3               </td><td>0.2               </td><td>Iris-setosa</td></tr>\n",
       "<tr><td>3      </td><td>4.6               </td><td>3.1               </td><td>1.5               </td><td>0.2               </td><td>Iris-setosa</td></tr>\n",
       "<tr><td>4      </td><td>5.0               </td><td>3.6               </td><td>1.4               </td><td>0.2               </td><td>Iris-setosa</td></tr>\n",
       "<tr><td>5      </td><td>5.4               </td><td>3.9               </td><td>1.7               </td><td>0.4               </td><td>Iris-setosa</td></tr>\n",
       "<tr><td>6      </td><td>4.6               </td><td>3.4               </td><td>1.4               </td><td>0.3               </td><td>Iris-setosa</td></tr>\n",
       "<tr><td>7      </td><td>5.4               </td><td>3.7               </td><td>1.5               </td><td>0.2               </td><td>Iris-setosa</td></tr>\n",
       "<tr><td>8      </td><td>4.8               </td><td>3.0               </td><td>1.4               </td><td>0.1               </td><td>Iris-setosa</td></tr>\n",
       "<tr><td>9      </td><td>4.3               </td><td>3.0               </td><td>1.1               </td><td>0.1               </td><td>Iris-setosa</td></tr>\n",
       "</tbody>\n",
       "</table>"
      ]
     },
     "metadata": {},
     "output_type": "display_data"
    }
   ],
   "source": [
    "train.summary()"
   ]
  },
  {
   "cell_type": "code",
   "execution_count": 35,
   "id": "60c2348a",
   "metadata": {},
   "outputs": [
    {
     "data": {
      "text/plain": [
       "126"
      ]
     },
     "execution_count": 35,
     "metadata": {},
     "output_type": "execute_result"
    }
   ],
   "source": [
    "train.nrows"
   ]
  },
  {
   "cell_type": "code",
   "execution_count": 36,
   "id": "50b83276",
   "metadata": {},
   "outputs": [
    {
     "data": {
      "text/plain": [
       "24"
      ]
     },
     "execution_count": 36,
     "metadata": {},
     "output_type": "execute_result"
    }
   ],
   "source": [
    "test.nrows"
   ]
  },
  {
   "cell_type": "code",
   "execution_count": 37,
   "id": "b55a46f6",
   "metadata": {},
   "outputs": [
    {
     "data": {
      "text/plain": [
       "['sepal_len', 'sepal_wid', 'petal_len', 'petal_wid', 'class']"
      ]
     },
     "execution_count": 37,
     "metadata": {},
     "output_type": "execute_result"
    }
   ],
   "source": [
    "train.columns"
   ]
  },
  {
   "cell_type": "code",
   "execution_count": 38,
   "id": "e228cef1",
   "metadata": {},
   "outputs": [],
   "source": [
    "from h2o.automl import H2OAutoML"
   ]
  },
  {
   "cell_type": "code",
   "execution_count": 39,
   "id": "db67a25c",
   "metadata": {},
   "outputs": [],
   "source": [
    "mA = H2OAutoML(max_runtime_secs = 30)"
   ]
  },
  {
   "cell_type": "code",
   "execution_count": 40,
   "id": "d9888ba8",
   "metadata": {},
   "outputs": [
    {
     "name": "stdout",
     "output_type": "stream",
     "text": [
      "AutoML progress: |██\n",
      "05:30:27.155: AutoML: XGBoost is not available; skipping it.\n",
      "05:30:27.202: Step 'best_of_family_xgboost' not defined in provider 'StackedEnsemble': skipping it.\n",
      "05:30:27.202: Step 'all_xgboost' not defined in provider 'StackedEnsemble': skipping it.\n",
      "\n",
      "██\n",
      "05:30:36.118: _min_rows param, The dataset size is too small to split for min_rows=100.0: must have at least 200.0 (weighted) rows, but have only 126.0.\n",
      "\n",
      "███████████████████████████████████████████████████████████| (done) 100%\n",
      "Model Details\n",
      "=============\n",
      "H2OGeneralizedLinearEstimator :  Generalized Linear Modeling\n",
      "Model Key:  GLM_1_AutoML_1_20220225_53026\n",
      "\n",
      "\n",
      "GLM Model: summary\n"
     ]
    },
    {
     "data": {
      "text/html": [
       "<div style=\"overflow:auto\"><table style=\"width:50%\"><tr><td><b></b></td>\n",
       "<td><b>family</b></td>\n",
       "<td><b>link</b></td>\n",
       "<td><b>regularization</b></td>\n",
       "<td><b>lambda_search</b></td>\n",
       "<td><b>number_of_predictors_total</b></td>\n",
       "<td><b>number_of_active_predictors</b></td>\n",
       "<td><b>number_of_iterations</b></td>\n",
       "<td><b>training_frame</b></td></tr>\n",
       "<tr><td></td>\n",
       "<td>multinomial</td>\n",
       "<td>multinomial</td>\n",
       "<td>Ridge ( lambda = 1.797E-4 )</td>\n",
       "<td>nlambda = 30, lambda.max = 43.029, lambda.min = 1.797E-4, lambda.1se = 0.001208</td>\n",
       "<td>15</td>\n",
       "<td>12</td>\n",
       "<td>106</td>\n",
       "<td>AutoML_1_20220225_53026_training_py_8_sid_b50e</td></tr></table></div>"
      ],
      "text/plain": [
       "    family       link         regularization               lambda_search                                                                    number_of_predictors_total    number_of_active_predictors    number_of_iterations    training_frame\n",
       "--  -----------  -----------  ---------------------------  -------------------------------------------------------------------------------  ----------------------------  -----------------------------  ----------------------  ----------------------------------------------\n",
       "    multinomial  multinomial  Ridge ( lambda = 1.797E-4 )  nlambda = 30, lambda.max = 43.029, lambda.min = 1.797E-4, lambda.1se = 0.001208  15                            12                             106                     AutoML_1_20220225_53026_training_py_8_sid_b50e"
      ]
     },
     "metadata": {},
     "output_type": "display_data"
    },
    {
     "name": "stdout",
     "output_type": "stream",
     "text": [
      "\n",
      "\n",
      "ModelMetricsMultinomialGLM: glm\n",
      "** Reported on train data. **\n",
      "\n",
      "MSE: 0.01555414911133528\n",
      "RMSE: 0.12471627444457792\n",
      "\n",
      "ModelMetricsMultinomialGLM: glm\n",
      "** Reported on cross-validation data. **\n",
      "\n",
      "MSE: 0.026024525903799983\n",
      "RMSE: 0.16132118863869055\n",
      "\n",
      "Cross-Validation Metrics Summary: \n"
     ]
    },
    {
     "data": {
      "text/html": [
       "<div style=\"overflow:auto\"><table style=\"width:50%\"><tr><td><b></b></td>\n",
       "<td><b>mean</b></td>\n",
       "<td><b>sd</b></td>\n",
       "<td><b>cv_1_valid</b></td>\n",
       "<td><b>cv_2_valid</b></td>\n",
       "<td><b>cv_3_valid</b></td>\n",
       "<td><b>cv_4_valid</b></td>\n",
       "<td><b>cv_5_valid</b></td></tr>\n",
       "<tr><td>accuracy</td>\n",
       "<td>0.968</td>\n",
       "<td>0.0438178</td>\n",
       "<td>1.0</td>\n",
       "<td>1.0</td>\n",
       "<td>0.92</td>\n",
       "<td>0.92</td>\n",
       "<td>1.0</td></tr>\n",
       "<tr><td>auc</td>\n",
       "<td>nan</td>\n",
       "<td>0.0</td>\n",
       "<td>nan</td>\n",
       "<td>nan</td>\n",
       "<td>nan</td>\n",
       "<td>nan</td>\n",
       "<td>nan</td></tr>\n",
       "<tr><td>err</td>\n",
       "<td>0.032</td>\n",
       "<td>0.0438178</td>\n",
       "<td>0.0</td>\n",
       "<td>0.0</td>\n",
       "<td>0.08</td>\n",
       "<td>0.08</td>\n",
       "<td>0.0</td></tr>\n",
       "<tr><td>err_count</td>\n",
       "<td>0.8</td>\n",
       "<td>1.0954452</td>\n",
       "<td>0.0</td>\n",
       "<td>0.0</td>\n",
       "<td>2.0</td>\n",
       "<td>2.0</td>\n",
       "<td>0.0</td></tr>\n",
       "<tr><td>logloss</td>\n",
       "<td>0.0715825</td>\n",
       "<td>0.0574906</td>\n",
       "<td>0.0173131</td>\n",
       "<td>0.0493616</td>\n",
       "<td>0.1252902</td>\n",
       "<td>0.1405834</td>\n",
       "<td>0.0253644</td></tr>\n",
       "<tr><td>max_per_class_error</td>\n",
       "<td>0.075</td>\n",
       "<td>0.1118034</td>\n",
       "<td>0.0</td>\n",
       "<td>0.0</td>\n",
       "<td>0.125</td>\n",
       "<td>0.25</td>\n",
       "<td>0.0</td></tr>\n",
       "<tr><td>mean_per_class_accuracy</td>\n",
       "<td>0.9675926</td>\n",
       "<td>0.0444058</td>\n",
       "<td>1.0</td>\n",
       "<td>1.0</td>\n",
       "<td>0.9212963</td>\n",
       "<td>0.9166667</td>\n",
       "<td>1.0</td></tr>\n",
       "<tr><td>mean_per_class_error</td>\n",
       "<td>0.0324074</td>\n",
       "<td>0.0444058</td>\n",
       "<td>0.0</td>\n",
       "<td>0.0</td>\n",
       "<td>0.0787037</td>\n",
       "<td>0.0833333</td>\n",
       "<td>0.0</td></tr>\n",
       "<tr><td>mse</td>\n",
       "<td>0.0226923</td>\n",
       "<td>0.0207943</td>\n",
       "<td>0.0037720</td>\n",
       "<td>0.0145131</td>\n",
       "<td>0.0413959</td>\n",
       "<td>0.0483339</td>\n",
       "<td>0.0054465</td></tr>\n",
       "<tr><td>null_deviance</td>\n",
       "<td>55.399807</td>\n",
       "<td>1.0010577</td>\n",
       "<td>57.189346</td>\n",
       "<td>54.9892</td>\n",
       "<td>54.9892</td>\n",
       "<td>54.915646</td>\n",
       "<td>54.915646</td></tr>\n",
       "<tr><td>pr_auc</td>\n",
       "<td>nan</td>\n",
       "<td>0.0</td>\n",
       "<td>nan</td>\n",
       "<td>nan</td>\n",
       "<td>nan</td>\n",
       "<td>nan</td>\n",
       "<td>nan</td></tr>\n",
       "<tr><td>r2</td>\n",
       "<td>0.9655837</td>\n",
       "<td>0.0314075</td>\n",
       "<td>0.9945515</td>\n",
       "<td>0.9773233</td>\n",
       "<td>0.9353189</td>\n",
       "<td>0.9287531</td>\n",
       "<td>0.9919716</td></tr>\n",
       "<tr><td>residual_deviance</td>\n",
       "<td>3.5860524</td>\n",
       "<td>2.866389</td>\n",
       "<td>0.9002821</td>\n",
       "<td>2.4680803</td>\n",
       "<td>6.264509</td>\n",
       "<td>7.029169</td>\n",
       "<td>1.268222</td></tr>\n",
       "<tr><td>rmse</td>\n",
       "<td>0.1357994</td>\n",
       "<td>0.0728938</td>\n",
       "<td>0.0614168</td>\n",
       "<td>0.1204702</td>\n",
       "<td>0.2034598</td>\n",
       "<td>0.2198497</td>\n",
       "<td>0.0738003</td></tr></table></div>"
      ],
      "text/plain": [
       "                         mean       sd         cv_1_valid    cv_2_valid    cv_3_valid    cv_4_valid    cv_5_valid\n",
       "-----------------------  ---------  ---------  ------------  ------------  ------------  ------------  ------------\n",
       "accuracy                 0.968      0.0438178  1             1             0.92          0.92          1\n",
       "auc                      nan        0          nan           nan           nan           nan           nan\n",
       "err                      0.032      0.0438178  0             0             0.08          0.08          0\n",
       "err_count                0.8        1.09545    0             0             2             2             0\n",
       "logloss                  0.0715825  0.0574906  0.0173131     0.0493616     0.12529       0.140583      0.0253644\n",
       "max_per_class_error      0.075      0.111803   0             0             0.125         0.25          0\n",
       "mean_per_class_accuracy  0.967593   0.0444058  1             1             0.921296      0.916667      1\n",
       "mean_per_class_error     0.0324074  0.0444058  0             0             0.0787037     0.0833333     0\n",
       "mse                      0.0226923  0.0207943  0.00377203    0.0145131     0.0413959     0.0483339     0.00544649\n",
       "null_deviance            55.3998    1.00106    57.1893       54.9892       54.9892       54.9156       54.9156\n",
       "pr_auc                   nan        0          nan           nan           nan           nan           nan\n",
       "r2                       0.965584   0.0314075  0.994552      0.977323      0.935319      0.928753      0.991972\n",
       "residual_deviance        3.58605    2.86639    0.900282      2.46808       6.26451       7.02917       1.26822\n",
       "rmse                     0.135799   0.0728938  0.0614168     0.12047       0.20346       0.21985       0.0738003"
      ]
     },
     "metadata": {},
     "output_type": "display_data"
    },
    {
     "name": "stdout",
     "output_type": "stream",
     "text": [
      "\n",
      "Scoring History: \n"
     ]
    },
    {
     "data": {
      "text/html": [
       "<div style=\"overflow:auto\"><table style=\"width:50%\"><tr><td><b></b></td>\n",
       "<td><b>timestamp</b></td>\n",
       "<td><b>duration</b></td>\n",
       "<td><b>iteration</b></td>\n",
       "<td><b>lambda</b></td>\n",
       "<td><b>predictors</b></td>\n",
       "<td><b>deviance_train</b></td>\n",
       "<td><b>deviance_xval</b></td>\n",
       "<td><b>deviance_se</b></td>\n",
       "<td><b>alpha</b></td>\n",
       "<td><b>iterations</b></td>\n",
       "<td><b>training_rmse</b></td>\n",
       "<td><b>training_logloss</b></td>\n",
       "<td><b>training_r2</b></td>\n",
       "<td><b>training_classification_error</b></td>\n",
       "<td><b>training_auc</b></td>\n",
       "<td><b>training_pr_auc</b></td></tr>\n",
       "<tr><td></td>\n",
       "<td>2022-02-25 05:30:31</td>\n",
       "<td> 0.000 sec</td>\n",
       "<td>2</td>\n",
       "<td>.43E2</td>\n",
       "<td>15</td>\n",
       "<td>2.1546906</td>\n",
       "<td>2.1644884</td>\n",
       "<td>0.0010627</td>\n",
       "<td>0.0</td>\n",
       "<td>None</td>\n",
       "<td></td>\n",
       "<td></td>\n",
       "<td></td>\n",
       "<td></td>\n",
       "<td></td>\n",
       "<td></td></tr>\n",
       "<tr><td></td>\n",
       "<td>2022-02-25 05:30:32</td>\n",
       "<td> 0.016 sec</td>\n",
       "<td>4</td>\n",
       "<td>.27E2</td>\n",
       "<td>15</td>\n",
       "<td>2.1302342</td>\n",
       "<td>2.1448008</td>\n",
       "<td>0.0015169</td>\n",
       "<td>0.0</td>\n",
       "<td>None</td>\n",
       "<td></td>\n",
       "<td></td>\n",
       "<td></td>\n",
       "<td></td>\n",
       "<td></td>\n",
       "<td></td></tr>\n",
       "<tr><td></td>\n",
       "<td>2022-02-25 05:30:32</td>\n",
       "<td> 0.031 sec</td>\n",
       "<td>6</td>\n",
       "<td>.17E2</td>\n",
       "<td>15</td>\n",
       "<td>2.0927456</td>\n",
       "<td>2.1141641</td>\n",
       "<td>0.0022699</td>\n",
       "<td>0.0</td>\n",
       "<td>None</td>\n",
       "<td></td>\n",
       "<td></td>\n",
       "<td></td>\n",
       "<td></td>\n",
       "<td></td>\n",
       "<td></td></tr>\n",
       "<tr><td></td>\n",
       "<td>2022-02-25 05:30:32</td>\n",
       "<td> 0.047 sec</td>\n",
       "<td>8</td>\n",
       "<td>.1E2</td>\n",
       "<td>15</td>\n",
       "<td>2.0368732</td>\n",
       "<td>2.0678291</td>\n",
       "<td>0.0034880</td>\n",
       "<td>0.0</td>\n",
       "<td>None</td>\n",
       "<td></td>\n",
       "<td></td>\n",
       "<td></td>\n",
       "<td></td>\n",
       "<td></td>\n",
       "<td></td></tr>\n",
       "<tr><td></td>\n",
       "<td>2022-02-25 05:30:32</td>\n",
       "<td> 0.062 sec</td>\n",
       "<td>10</td>\n",
       "<td>.64E1</td>\n",
       "<td>15</td>\n",
       "<td>1.9569925</td>\n",
       "<td>2.0001442</td>\n",
       "<td>0.0053338</td>\n",
       "<td>0.0</td>\n",
       "<td>None</td>\n",
       "<td></td>\n",
       "<td></td>\n",
       "<td></td>\n",
       "<td></td>\n",
       "<td></td>\n",
       "<td></td></tr>\n",
       "<tr><td>---</td>\n",
       "<td>---</td>\n",
       "<td>---</td>\n",
       "<td>---</td>\n",
       "<td>---</td>\n",
       "<td>---</td>\n",
       "<td>---</td>\n",
       "<td>---</td>\n",
       "<td>---</td>\n",
       "<td>---</td>\n",
       "<td>---</td>\n",
       "<td>---</td>\n",
       "<td>---</td>\n",
       "<td>---</td>\n",
       "<td>---</td>\n",
       "<td>---</td>\n",
       "<td>---</td></tr>\n",
       "<tr><td></td>\n",
       "<td>2022-02-25 05:30:32</td>\n",
       "<td> 0.554 sec</td>\n",
       "<td>99</td>\n",
       "<td>.29E-3</td>\n",
       "<td>15</td>\n",
       "<td>0.1135849</td>\n",
       "<td>0.1635398</td>\n",
       "<td>0.0436023</td>\n",
       "<td>0.0</td>\n",
       "<td>None</td>\n",
       "<td></td>\n",
       "<td></td>\n",
       "<td></td>\n",
       "<td></td>\n",
       "<td></td>\n",
       "<td></td></tr>\n",
       "<tr><td></td>\n",
       "<td>2022-02-25 05:30:32</td>\n",
       "<td> 0.601 sec</td>\n",
       "<td>106</td>\n",
       "<td>.18E-3</td>\n",
       "<td>15</td>\n",
       "<td>0.1066426</td>\n",
       "<td>0.1615686</td>\n",
       "<td>0.0492168</td>\n",
       "<td>0.0</td>\n",
       "<td>None</td>\n",
       "<td></td>\n",
       "<td></td>\n",
       "<td></td>\n",
       "<td></td>\n",
       "<td></td>\n",
       "<td></td></tr>\n",
       "<tr><td></td>\n",
       "<td>2022-02-25 05:30:32</td>\n",
       "<td> 0.617 sec</td>\n",
       "<td>110</td>\n",
       "<td>.11E-3</td>\n",
       "<td>15</td>\n",
       "<td>0.1019104</td>\n",
       "<td>0.1643100</td>\n",
       "<td>0.0565376</td>\n",
       "<td>0.0</td>\n",
       "<td>None</td>\n",
       "<td></td>\n",
       "<td></td>\n",
       "<td></td>\n",
       "<td></td>\n",
       "<td></td>\n",
       "<td></td></tr>\n",
       "<tr><td></td>\n",
       "<td>2022-02-25 05:30:32</td>\n",
       "<td> 0.632 sec</td>\n",
       "<td>113</td>\n",
       "<td>.69E-4</td>\n",
       "<td>15</td>\n",
       "<td>0.0986147</td>\n",
       "<td>0.1723751</td>\n",
       "<td>0.0664941</td>\n",
       "<td>0.0</td>\n",
       "<td>None</td>\n",
       "<td></td>\n",
       "<td></td>\n",
       "<td></td>\n",
       "<td></td>\n",
       "<td></td>\n",
       "<td></td></tr>\n",
       "<tr><td></td>\n",
       "<td>2022-02-25 05:30:32</td>\n",
       "<td> 0.648 sec</td>\n",
       "<td>115</td>\n",
       "<td>.43E-4</td>\n",
       "<td>15</td>\n",
       "<td>0.0965046</td>\n",
       "<td>0.0</td>\n",
       "<td>0.0</td>\n",
       "<td>0.0</td>\n",
       "<td>None</td>\n",
       "<td></td>\n",
       "<td></td>\n",
       "<td></td>\n",
       "<td></td>\n",
       "<td></td>\n",
       "<td></td></tr></table></div>"
      ],
      "text/plain": [
       "     timestamp            duration    iteration    lambda    predictors    deviance_train       deviance_xval        deviance_se            alpha    iterations    training_rmse    training_logloss    training_r2    training_classification_error    training_auc    training_pr_auc\n",
       "---  -------------------  ----------  -----------  --------  ------------  -------------------  -------------------  ---------------------  -------  ------------  ---------------  ------------------  -------------  -------------------------------  --------------  -----------------\n",
       "     2022-02-25 05:30:31  0.000 sec   2            .43E2     15            2.1546905544046084   2.16448839681611     0.0010627478741348615  0.0\n",
       "     2022-02-25 05:30:32  0.016 sec   4            .27E2     15            2.1302342282565863   2.1448007510465414   0.0015168604306799993  0.0\n",
       "     2022-02-25 05:30:32  0.031 sec   6            .17E2     15            2.092745628761076    2.1141641020508555   0.0022698817410554606  0.0\n",
       "     2022-02-25 05:30:32  0.047 sec   8            .1E2      15            2.0368731565499583   2.067829122773301    0.0034879512622394376  0.0\n",
       "     2022-02-25 05:30:32  0.062 sec   10           .64E1     15            1.9569925301850697   2.000144153439943    0.005333771836343592   0.0\n",
       "---  ---                  ---         ---          ---       ---           ---                  ---                  ---                    ---      ---           ---              ---                 ---            ---                              ---             ---\n",
       "     2022-02-25 05:30:32  0.554 sec   99           .29E-3    15            0.11358487646809576  0.1635398467323383   0.043602269838983056   0.0\n",
       "     2022-02-25 05:30:32  0.601 sec   106          .18E-3    15            0.1066426407007116   0.16156863899882054  0.04921679376771901    0.0\n",
       "     2022-02-25 05:30:32  0.617 sec   110          .11E-3    15            0.10191039784369983  0.1643100458555793   0.05653756886546575    0.0\n",
       "     2022-02-25 05:30:32  0.632 sec   113          .69E-4    15            0.09861469562814873  0.1723751455519329   0.06649406596670385    0.0\n",
       "     2022-02-25 05:30:32  0.648 sec   115          .43E-4    15            0.09650456828387594  0.0                  0.0                    0.0"
      ]
     },
     "metadata": {},
     "output_type": "display_data"
    },
    {
     "name": "stdout",
     "output_type": "stream",
     "text": [
      "\n",
      "Variable Importances: \n"
     ]
    },
    {
     "data": {
      "text/html": [
       "<div style=\"overflow:auto\"><table style=\"width:50%\"><tr><td><b>variable</b></td>\n",
       "<td><b>relative_importance</b></td>\n",
       "<td><b>scaled_importance</b></td>\n",
       "<td><b>percentage</b></td></tr>\n",
       "<tr><td>petal_len</td>\n",
       "<td>13.7212944</td>\n",
       "<td>1.0</td>\n",
       "<td>0.3952118</td></tr>\n",
       "<tr><td>petal_wid</td>\n",
       "<td>12.7656603</td>\n",
       "<td>0.9303539</td>\n",
       "<td>0.3676869</td></tr>\n",
       "<tr><td>sepal_wid</td>\n",
       "<td>4.5055246</td>\n",
       "<td>0.3283600</td>\n",
       "<td>0.1297718</td></tr>\n",
       "<tr><td>sepal_len</td>\n",
       "<td>3.7263577</td>\n",
       "<td>0.2715748</td>\n",
       "<td>0.1073296</td></tr></table></div>"
      ],
      "text/plain": [
       "variable    relative_importance    scaled_importance    percentage\n",
       "----------  ---------------------  -------------------  ------------\n",
       "petal_len   13.7213                1                    0.395212\n",
       "petal_wid   12.7657                0.930354             0.367687\n",
       "sepal_wid   4.50552                0.32836              0.129772\n",
       "sepal_len   3.72636                0.271575             0.10733"
      ]
     },
     "metadata": {},
     "output_type": "display_data"
    },
    {
     "data": {
      "text/plain": []
     },
     "execution_count": 40,
     "metadata": {},
     "output_type": "execute_result"
    }
   ],
   "source": [
    "mA.train(['sepal_len', 'sepal_wid', 'petal_len', 'petal_wid' ], 'class', train)"
   ]
  },
  {
   "cell_type": "code",
   "execution_count": 43,
   "id": "0129c07b",
   "metadata": {},
   "outputs": [
    {
     "name": "stdout",
     "output_type": "stream",
     "text": [
      "glm prediction progress: |███████████████████████████████████████████████████████| (done) 100%\n"
     ]
    }
   ],
   "source": [
    "p = mA.leader.predict(test)"
   ]
  },
  {
   "cell_type": "code",
   "execution_count": 44,
   "id": "a8cad7cb",
   "metadata": {},
   "outputs": [
    {
     "data": {
      "text/html": [
       "<table>\n",
       "<thead>\n",
       "<tr><th>predict        </th><th style=\"text-align: right;\">  Iris-setosa</th><th style=\"text-align: right;\">  Iris-versicolor</th><th style=\"text-align: right;\">  Iris-virginica</th></tr>\n",
       "</thead>\n",
       "<tbody>\n",
       "<tr><td>Iris-setosa    </td><td style=\"text-align: right;\">  0.999447   </td><td style=\"text-align: right;\">      0.000553076</td><td style=\"text-align: right;\">     9.66643e-19</td></tr>\n",
       "<tr><td>Iris-setosa    </td><td style=\"text-align: right;\">  0.999317   </td><td style=\"text-align: right;\">      0.000683352</td><td style=\"text-align: right;\">     1.51202e-17</td></tr>\n",
       "<tr><td>Iris-setosa    </td><td style=\"text-align: right;\">  0.998505   </td><td style=\"text-align: right;\">      0.00149507 </td><td style=\"text-align: right;\">     3.39332e-18</td></tr>\n",
       "<tr><td>Iris-setosa    </td><td style=\"text-align: right;\">  0.99973    </td><td style=\"text-align: right;\">      0.000270337</td><td style=\"text-align: right;\">     1.13565e-18</td></tr>\n",
       "<tr><td>Iris-setosa    </td><td style=\"text-align: right;\">  0.999939   </td><td style=\"text-align: right;\">      6.14945e-05</td><td style=\"text-align: right;\">     5.32765e-21</td></tr>\n",
       "<tr><td>Iris-setosa    </td><td style=\"text-align: right;\">  0.99976    </td><td style=\"text-align: right;\">      0.000240358</td><td style=\"text-align: right;\">     9.17084e-20</td></tr>\n",
       "<tr><td>Iris-setosa    </td><td style=\"text-align: right;\">  0.99957    </td><td style=\"text-align: right;\">      0.000430454</td><td style=\"text-align: right;\">     8.58032e-18</td></tr>\n",
       "<tr><td>Iris-setosa    </td><td style=\"text-align: right;\">  0.998869   </td><td style=\"text-align: right;\">      0.00113119 </td><td style=\"text-align: right;\">     8.22544e-19</td></tr>\n",
       "<tr><td>Iris-setosa    </td><td style=\"text-align: right;\">  0.999145   </td><td style=\"text-align: right;\">      0.000854744</td><td style=\"text-align: right;\">     1.24909e-18</td></tr>\n",
       "<tr><td>Iris-versicolor</td><td style=\"text-align: right;\">  8.66224e-06</td><td style=\"text-align: right;\">      0.998946   </td><td style=\"text-align: right;\">     0.0010451  </td></tr>\n",
       "</tbody>\n",
       "</table>"
      ]
     },
     "metadata": {},
     "output_type": "display_data"
    },
    {
     "data": {
      "text/plain": []
     },
     "execution_count": 44,
     "metadata": {},
     "output_type": "execute_result"
    }
   ],
   "source": [
    "p"
   ]
  },
  {
   "cell_type": "code",
   "execution_count": 46,
   "id": "79069d5e",
   "metadata": {},
   "outputs": [
    {
     "name": "stdout",
     "output_type": "stream",
     "text": [
      "\n",
      "ModelMetricsMultinomialGLM: glm\n",
      "** Reported on test data. **\n",
      "\n",
      "MSE: 0.0016918005938608646\n",
      "RMSE: 0.04113150366642174\n"
     ]
    },
    {
     "data": {
      "text/plain": []
     },
     "execution_count": 46,
     "metadata": {},
     "output_type": "execute_result"
    }
   ],
   "source": [
    "mA.leader.model_performance(test)"
   ]
  },
  {
   "cell_type": "code",
   "execution_count": null,
   "id": "2f4def9f",
   "metadata": {},
   "outputs": [],
   "source": []
  }
 ],
 "metadata": {
  "kernelspec": {
   "display_name": "Python 3",
   "language": "python",
   "name": "python3"
  },
  "language_info": {
   "codemirror_mode": {
    "name": "ipython",
    "version": 3
   },
   "file_extension": ".py",
   "mimetype": "text/x-python",
   "name": "python",
   "nbconvert_exporter": "python",
   "pygments_lexer": "ipython3",
   "version": "3.8.8"
  }
 },
 "nbformat": 4,
 "nbformat_minor": 5
}
