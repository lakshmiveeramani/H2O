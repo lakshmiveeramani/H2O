{
 "cells": [
  {
   "cell_type": "code",
   "execution_count": 1,
   "id": "e69d30ac",
   "metadata": {},
   "outputs": [
    {
     "name": "stderr",
     "output_type": "stream",
     "text": [
      "\n",
      "----------------------------------------------------------------------\n",
      "\n",
      "Your next step is to start H2O:\n",
      "    > h2o.init()\n",
      "\n",
      "For H2O package documentation, ask for help:\n",
      "    > ??h2o\n",
      "\n",
      "After starting H2O, you can use the Web UI at http://localhost:54321\n",
      "For more information visit https://docs.h2o.ai\n",
      "\n",
      "----------------------------------------------------------------------\n",
      "\n",
      "\n",
      "Attaching package: 'h2o'\n",
      "\n",
      "The following objects are masked from 'package:stats':\n",
      "\n",
      "    cor, sd, var\n",
      "\n",
      "The following objects are masked from 'package:base':\n",
      "\n",
      "    %*%, %in%, &&, ||, apply, as.factor, as.numeric, colnames,\n",
      "    colnames<-, ifelse, is.character, is.factor, is.numeric, log,\n",
      "    log10, log1p, log2, round, signif, trunc\n",
      "\n"
     ]
    }
   ],
   "source": [
    "library(h2o)"
   ]
  },
  {
   "cell_type": "code",
   "execution_count": 2,
   "id": "37402941",
   "metadata": {},
   "outputs": [
    {
     "name": "stdout",
     "output_type": "stream",
     "text": [
      "\n",
      "H2O is not running yet, starting it now...\n",
      "\n",
      "Note:  In case of errors look at the following log files:\n",
      "    C:\\Users\\laksh\\AppData\\Local\\Temp\\RtmpyuoFp4\\fileba0633040f/h2o_laksh_started_from_r.out\n",
      "    C:\\Users\\laksh\\AppData\\Local\\Temp\\RtmpyuoFp4\\fileba02228439a/h2o_laksh_started_from_r.err\n",
      "\n",
      "\n",
      "Starting H2O JVM and connecting: .. Connection successful!\n",
      "\n",
      "R is connected to the H2O cluster: \n",
      "    H2O cluster uptime:         12 seconds 121 milliseconds \n",
      "    H2O cluster timezone:       America/New_York \n",
      "    H2O data parsing timezone:  UTC \n",
      "    H2O cluster version:        3.36.0.3 \n",
      "    H2O cluster version age:    12 days  \n",
      "    H2O cluster name:           H2O_started_from_R_laksh_wbn696 \n",
      "    H2O cluster total nodes:    1 \n",
      "    H2O cluster total memory:   1.98 GB \n",
      "    H2O cluster total cores:    4 \n",
      "    H2O cluster allowed cores:  4 \n",
      "    H2O cluster healthy:        TRUE \n",
      "    H2O Connection ip:          localhost \n",
      "    H2O Connection port:        54321 \n",
      "    H2O Connection proxy:       NA \n",
      "    H2O Internal Security:      FALSE \n",
      "    R Version:                  R version 3.6.1 (2019-07-05) \n",
      "\n"
     ]
    }
   ],
   "source": [
    "h2o.init()"
   ]
  },
  {
   "cell_type": "code",
   "execution_count": 6,
   "id": "ea4cecb6",
   "metadata": {},
   "outputs": [
    {
     "name": "stdout",
     "output_type": "stream",
     "text": [
      "  |======================================================================| 100%\n"
     ]
    }
   ],
   "source": [
    "data <- h2o.importFile(\"http://h2o-public-test-data.s3.amazonaws.com/smalldata/airlines/allyears2k_headers.zip\")"
   ]
  },
  {
   "cell_type": "code",
   "execution_count": 7,
   "id": "296fa2b1",
   "metadata": {},
   "outputs": [],
   "source": [
    "parts <- h2o.splitFrame(data, c(0.8,0.1), seed = 69)"
   ]
  },
  {
   "cell_type": "code",
   "execution_count": 8,
   "id": "3ea8e62d",
   "metadata": {},
   "outputs": [],
   "source": [
    "train <- parts[[1]]\n",
    "valid <- parts[[2]]\n",
    "test <- parts[[3]]"
   ]
  },
  {
   "cell_type": "code",
   "execution_count": 9,
   "id": "cbdf641f",
   "metadata": {},
   "outputs": [],
   "source": [
    "train2 <- data[1:35255,]"
   ]
  },
  {
   "cell_type": "code",
   "execution_count": 10,
   "id": "57f45a4a",
   "metadata": {},
   "outputs": [
    {
     "data": {
      "text/html": [
       "<table>\n",
       "<thead><tr><th scope=col>key</th></tr></thead>\n",
       "<tbody>\n",
       "\t<tr><td>Key_Frame__http___h2o_public_test_data_s3_amazonaws_com_smalldata_airlines_allyears2k_headers.hex_sid_b2ac_1</td></tr>\n",
       "</tbody>\n",
       "</table>\n"
      ],
      "text/latex": [
       "\\begin{tabular}{r|l}\n",
       " key\\\\\n",
       "\\hline\n",
       "\t Key\\_Frame\\_\\_http\\_\\_\\_h2o\\_public\\_test\\_data\\_s3\\_amazonaws\\_com\\_smalldata\\_airlines\\_allyears2k\\_headers.hex\\_sid\\_b2ac\\_1\\\\\n",
       "\\end{tabular}\n"
      ],
      "text/markdown": [
       "\n",
       "| key |\n",
       "|---|\n",
       "| Key_Frame__http___h2o_public_test_data_s3_amazonaws_com_smalldata_airlines_allyears2k_headers.hex_sid_b2ac_1 |\n",
       "\n"
      ],
      "text/plain": [
       "  key                                                                                                         \n",
       "1 Key_Frame__http___h2o_public_test_data_s3_amazonaws_com_smalldata_airlines_allyears2k_headers.hex_sid_b2ac_1"
      ]
     },
     "metadata": {},
     "output_type": "display_data"
    }
   ],
   "source": [
    "h2o.ls()"
   ]
  },
  {
   "cell_type": "code",
   "execution_count": 11,
   "id": "c53f6ab6",
   "metadata": {},
   "outputs": [],
   "source": [
    "train2 <- h2o.assign(train2, \"first35255\")"
   ]
  },
  {
   "cell_type": "code",
   "execution_count": 12,
   "id": "63f267b9",
   "metadata": {},
   "outputs": [
    {
     "data": {
      "text/html": [
       "31"
      ],
      "text/latex": [
       "31"
      ],
      "text/markdown": [
       "31"
      ],
      "text/plain": [
       "[1] 31"
      ]
     },
     "metadata": {},
     "output_type": "display_data"
    }
   ],
   "source": [
    "ncol(data)"
   ]
  },
  {
   "cell_type": "code",
   "execution_count": 13,
   "id": "a634f681",
   "metadata": {},
   "outputs": [],
   "source": [
    "dates <- data[, 1:4]"
   ]
  },
  {
   "cell_type": "code",
   "execution_count": 15,
   "id": "b1fff5ef",
   "metadata": {},
   "outputs": [],
   "source": [
    "airports <- data[, c('Origin', 'Dest')]"
   ]
  },
  {
   "cell_type": "code",
   "execution_count": 16,
   "id": "68414b8c",
   "metadata": {},
   "outputs": [
    {
     "data": {
      "text/html": [
       "2"
      ],
      "text/latex": [
       "2"
      ],
      "text/markdown": [
       "2"
      ],
      "text/plain": [
       "[1] 2"
      ]
     },
     "metadata": {},
     "output_type": "display_data"
    }
   ],
   "source": [
    "ncol(airports)"
   ]
  },
  {
   "cell_type": "code",
   "execution_count": 17,
   "id": "d16d0355",
   "metadata": {},
   "outputs": [
    {
     "data": {
      "text/html": [
       "4"
      ],
      "text/latex": [
       "4"
      ],
      "text/markdown": [
       "4"
      ],
      "text/plain": [
       "[1] 4"
      ]
     },
     "metadata": {},
     "output_type": "display_data"
    }
   ],
   "source": [
    "ncol(dates)"
   ]
  },
  {
   "cell_type": "code",
   "execution_count": null,
   "id": "c6c533e4",
   "metadata": {},
   "outputs": [],
   "source": [
    "#Use cbind to join columns"
   ]
  },
  {
   "cell_type": "code",
   "execution_count": 18,
   "id": "560ed88a",
   "metadata": {},
   "outputs": [],
   "source": [
    "a_and_d <- h2o.cbind(airports, dates)"
   ]
  },
  {
   "cell_type": "code",
   "execution_count": 19,
   "id": "b4ca1dde",
   "metadata": {},
   "outputs": [
    {
     "data": {
      "text/html": [
       "<ol class=list-inline>\n",
       "\t<li>43978</li>\n",
       "\t<li>6</li>\n",
       "</ol>\n"
      ],
      "text/latex": [
       "\\begin{enumerate*}\n",
       "\\item 43978\n",
       "\\item 6\n",
       "\\end{enumerate*}\n"
      ],
      "text/markdown": [
       "1. 43978\n",
       "2. 6\n",
       "\n",
       "\n"
      ],
      "text/plain": [
       "[1] 43978     6"
      ]
     },
     "metadata": {},
     "output_type": "display_data"
    }
   ],
   "source": [
    "dim(a_and_d)"
   ]
  },
  {
   "cell_type": "code",
   "execution_count": null,
   "id": "0ba96fe3",
   "metadata": {},
   "outputs": [],
   "source": [
    "#Use rbind ro join rows"
   ]
  },
  {
   "cell_type": "code",
   "execution_count": 20,
   "id": "6dc3b0e8",
   "metadata": {},
   "outputs": [],
   "source": [
    "restored <- h2o.rbind(train, valid, test)"
   ]
  },
  {
   "cell_type": "code",
   "execution_count": 21,
   "id": "fe2ce5aa",
   "metadata": {},
   "outputs": [
    {
     "data": {
      "text/html": [
       "<ol class=list-inline>\n",
       "\t<li>43978</li>\n",
       "\t<li>31</li>\n",
       "</ol>\n"
      ],
      "text/latex": [
       "\\begin{enumerate*}\n",
       "\\item 43978\n",
       "\\item 31\n",
       "\\end{enumerate*}\n"
      ],
      "text/markdown": [
       "1. 43978\n",
       "2. 31\n",
       "\n",
       "\n"
      ],
      "text/plain": [
       "[1] 43978    31"
      ]
     },
     "metadata": {},
     "output_type": "display_data"
    }
   ],
   "source": [
    "dim(restored)"
   ]
  },
  {
   "cell_type": "code",
   "execution_count": 22,
   "id": "bfdb919d",
   "metadata": {},
   "outputs": [
    {
     "data": {
      "text/html": [
       "<ol class=list-inline>\n",
       "\t<li>43978</li>\n",
       "\t<li>31</li>\n",
       "</ol>\n"
      ],
      "text/latex": [
       "\\begin{enumerate*}\n",
       "\\item 43978\n",
       "\\item 31\n",
       "\\end{enumerate*}\n"
      ],
      "text/markdown": [
       "1. 43978\n",
       "2. 31\n",
       "\n",
       "\n"
      ],
      "text/plain": [
       "[1] 43978    31"
      ]
     },
     "metadata": {},
     "output_type": "display_data"
    }
   ],
   "source": [
    "dim(data)"
   ]
  },
  {
   "cell_type": "code",
   "execution_count": 23,
   "id": "c97b6f5f",
   "metadata": {},
   "outputs": [
    {
     "data": {
      "text/html": [
       "<table>\n",
       "<thead><tr><th scope=col>Year</th><th scope=col>Month</th><th scope=col>DayofMonth</th><th scope=col>DayOfWeek</th></tr></thead>\n",
       "<tbody>\n",
       "\t<tr><td>1987</td><td>10  </td><td>14  </td><td>3   </td></tr>\n",
       "\t<tr><td>1987</td><td>10  </td><td>15  </td><td>4   </td></tr>\n",
       "\t<tr><td>1987</td><td>10  </td><td>17  </td><td>6   </td></tr>\n",
       "\t<tr><td>1987</td><td>10  </td><td>18  </td><td>7   </td></tr>\n",
       "\t<tr><td>1987</td><td>10  </td><td>22  </td><td>4   </td></tr>\n",
       "\t<tr><td>1987</td><td>10  </td><td>23  </td><td>5   </td></tr>\n",
       "</tbody>\n",
       "</table>\n"
      ],
      "text/latex": [
       "\\begin{tabular}{r|llll}\n",
       " Year & Month & DayofMonth & DayOfWeek\\\\\n",
       "\\hline\n",
       "\t 1987 & 10   & 14   & 3   \\\\\n",
       "\t 1987 & 10   & 15   & 4   \\\\\n",
       "\t 1987 & 10   & 17   & 6   \\\\\n",
       "\t 1987 & 10   & 18   & 7   \\\\\n",
       "\t 1987 & 10   & 22   & 4   \\\\\n",
       "\t 1987 & 10   & 23   & 5   \\\\\n",
       "\\end{tabular}\n"
      ],
      "text/markdown": [
       "\n",
       "| Year | Month | DayofMonth | DayOfWeek |\n",
       "|---|---|---|---|\n",
       "| 1987 | 10   | 14   | 3    |\n",
       "| 1987 | 10   | 15   | 4    |\n",
       "| 1987 | 10   | 17   | 6    |\n",
       "| 1987 | 10   | 18   | 7    |\n",
       "| 1987 | 10   | 22   | 4    |\n",
       "| 1987 | 10   | 23   | 5    |\n",
       "\n"
      ],
      "text/plain": [
       "  Year Month DayofMonth DayOfWeek\n",
       "1 1987 10    14         3        \n",
       "2 1987 10    15         4        \n",
       "3 1987 10    17         6        \n",
       "4 1987 10    18         7        \n",
       "5 1987 10    22         4        \n",
       "6 1987 10    23         5        "
      ]
     },
     "metadata": {},
     "output_type": "display_data"
    }
   ],
   "source": [
    "head(restored[,1:4])"
   ]
  },
  {
   "cell_type": "code",
   "execution_count": 24,
   "id": "1a06ab5a",
   "metadata": {},
   "outputs": [
    {
     "data": {
      "text/html": [
       "<table>\n",
       "<thead><tr><th scope=col>Year</th><th scope=col>Month</th><th scope=col>DayofMonth</th><th scope=col>DayOfWeek</th></tr></thead>\n",
       "<tbody>\n",
       "\t<tr><td>1987</td><td>10  </td><td>14  </td><td>3   </td></tr>\n",
       "\t<tr><td>1987</td><td>10  </td><td>15  </td><td>4   </td></tr>\n",
       "\t<tr><td>1987</td><td>10  </td><td>17  </td><td>6   </td></tr>\n",
       "\t<tr><td>1987</td><td>10  </td><td>18  </td><td>7   </td></tr>\n",
       "\t<tr><td>1987</td><td>10  </td><td>19  </td><td>1   </td></tr>\n",
       "\t<tr><td>1987</td><td>10  </td><td>21  </td><td>3   </td></tr>\n",
       "</tbody>\n",
       "</table>\n"
      ],
      "text/latex": [
       "\\begin{tabular}{r|llll}\n",
       " Year & Month & DayofMonth & DayOfWeek\\\\\n",
       "\\hline\n",
       "\t 1987 & 10   & 14   & 3   \\\\\n",
       "\t 1987 & 10   & 15   & 4   \\\\\n",
       "\t 1987 & 10   & 17   & 6   \\\\\n",
       "\t 1987 & 10   & 18   & 7   \\\\\n",
       "\t 1987 & 10   & 19   & 1   \\\\\n",
       "\t 1987 & 10   & 21   & 3   \\\\\n",
       "\\end{tabular}\n"
      ],
      "text/markdown": [
       "\n",
       "| Year | Month | DayofMonth | DayOfWeek |\n",
       "|---|---|---|---|\n",
       "| 1987 | 10   | 14   | 3    |\n",
       "| 1987 | 10   | 15   | 4    |\n",
       "| 1987 | 10   | 17   | 6    |\n",
       "| 1987 | 10   | 18   | 7    |\n",
       "| 1987 | 10   | 19   | 1    |\n",
       "| 1987 | 10   | 21   | 3    |\n",
       "\n"
      ],
      "text/plain": [
       "  Year Month DayofMonth DayOfWeek\n",
       "1 1987 10    14         3        \n",
       "2 1987 10    15         4        \n",
       "3 1987 10    17         6        \n",
       "4 1987 10    18         7        \n",
       "5 1987 10    19         1        \n",
       "6 1987 10    21         3        "
      ]
     },
     "metadata": {},
     "output_type": "display_data"
    }
   ],
   "source": [
    "head(data[,1:4])"
   ]
  },
  {
   "cell_type": "code",
   "execution_count": 25,
   "id": "556c169f",
   "metadata": {},
   "outputs": [
    {
     "data": {
      "text/html": [
       "<table>\n",
       "<thead><tr><th scope=col>Year</th><th scope=col>Month</th><th scope=col>DayofMonth</th><th scope=col>DayOfWeek</th></tr></thead>\n",
       "<tbody>\n",
       "\t<tr><td>1987</td><td>10  </td><td>14  </td><td>3   </td></tr>\n",
       "\t<tr><td>1987</td><td>10  </td><td>15  </td><td>4   </td></tr>\n",
       "\t<tr><td>1987</td><td>10  </td><td>17  </td><td>6   </td></tr>\n",
       "\t<tr><td>1987</td><td>10  </td><td>18  </td><td>7   </td></tr>\n",
       "\t<tr><td>1987</td><td>10  </td><td>22  </td><td>4   </td></tr>\n",
       "\t<tr><td>1987</td><td>10  </td><td>23  </td><td>5   </td></tr>\n",
       "</tbody>\n",
       "</table>\n"
      ],
      "text/latex": [
       "\\begin{tabular}{r|llll}\n",
       " Year & Month & DayofMonth & DayOfWeek\\\\\n",
       "\\hline\n",
       "\t 1987 & 10   & 14   & 3   \\\\\n",
       "\t 1987 & 10   & 15   & 4   \\\\\n",
       "\t 1987 & 10   & 17   & 6   \\\\\n",
       "\t 1987 & 10   & 18   & 7   \\\\\n",
       "\t 1987 & 10   & 22   & 4   \\\\\n",
       "\t 1987 & 10   & 23   & 5   \\\\\n",
       "\\end{tabular}\n"
      ],
      "text/markdown": [
       "\n",
       "| Year | Month | DayofMonth | DayOfWeek |\n",
       "|---|---|---|---|\n",
       "| 1987 | 10   | 14   | 3    |\n",
       "| 1987 | 10   | 15   | 4    |\n",
       "| 1987 | 10   | 17   | 6    |\n",
       "| 1987 | 10   | 18   | 7    |\n",
       "| 1987 | 10   | 22   | 4    |\n",
       "| 1987 | 10   | 23   | 5    |\n",
       "\n"
      ],
      "text/plain": [
       "  Year Month DayofMonth DayOfWeek\n",
       "1 1987 10    14         3        \n",
       "2 1987 10    15         4        \n",
       "3 1987 10    17         6        \n",
       "4 1987 10    18         7        \n",
       "5 1987 10    22         4        \n",
       "6 1987 10    23         5        "
      ]
     },
     "metadata": {},
     "output_type": "display_data"
    }
   ],
   "source": [
    "head(train[,1:4])"
   ]
  },
  {
   "cell_type": "code",
   "execution_count": null,
   "id": "885f1a4c",
   "metadata": {},
   "outputs": [],
   "source": []
  }
 ],
 "metadata": {
  "kernelspec": {
   "display_name": "R",
   "language": "R",
   "name": "ir"
  },
  "language_info": {
   "codemirror_mode": "r",
   "file_extension": ".r",
   "mimetype": "text/x-r-source",
   "name": "R",
   "pygments_lexer": "r",
   "version": "3.6.1"
  }
 },
 "nbformat": 4,
 "nbformat_minor": 5
}
