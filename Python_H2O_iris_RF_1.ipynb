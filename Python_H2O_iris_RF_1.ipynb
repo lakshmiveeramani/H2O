{
 "cells": [
  {
   "cell_type": "code",
   "execution_count": 47,
   "id": "ad6923c2",
   "metadata": {},
   "outputs": [],
   "source": [
    "import h2o"
   ]
  },
  {
   "cell_type": "code",
   "execution_count": 48,
   "id": "53bfe427",
   "metadata": {},
   "outputs": [
    {
     "name": "stdout",
     "output_type": "stream",
     "text": [
      "Checking whether there is an H2O instance running at http://localhost:54321 . connected.\n"
     ]
    },
    {
     "data": {
      "text/html": [
       "<div style=\"overflow:auto\"><table style=\"width:50%\"><tr><td>H2O_cluster_uptime:</td>\n",
       "<td>4 hours 36 mins</td></tr>\n",
       "<tr><td>H2O_cluster_timezone:</td>\n",
       "<td>America/New_York</td></tr>\n",
       "<tr><td>H2O_data_parsing_timezone:</td>\n",
       "<td>UTC</td></tr>\n",
       "<tr><td>H2O_cluster_version:</td>\n",
       "<td>3.36.0.3</td></tr>\n",
       "<tr><td>H2O_cluster_version_age:</td>\n",
       "<td>8 days </td></tr>\n",
       "<tr><td>H2O_cluster_name:</td>\n",
       "<td>H2O_started_from_R_laksh_rlm019</td></tr>\n",
       "<tr><td>H2O_cluster_total_nodes:</td>\n",
       "<td>1</td></tr>\n",
       "<tr><td>H2O_cluster_free_memory:</td>\n",
       "<td>794 Mb</td></tr>\n",
       "<tr><td>H2O_cluster_total_cores:</td>\n",
       "<td>4</td></tr>\n",
       "<tr><td>H2O_cluster_allowed_cores:</td>\n",
       "<td>4</td></tr>\n",
       "<tr><td>H2O_cluster_status:</td>\n",
       "<td>locked, healthy</td></tr>\n",
       "<tr><td>H2O_connection_url:</td>\n",
       "<td>http://localhost:54321</td></tr>\n",
       "<tr><td>H2O_connection_proxy:</td>\n",
       "<td>{\"http\": null, \"https\": null}</td></tr>\n",
       "<tr><td>H2O_internal_security:</td>\n",
       "<td>False</td></tr>\n",
       "<tr><td>Python_version:</td>\n",
       "<td>3.8.8 final</td></tr></table></div>"
      ],
      "text/plain": [
       "--------------------------  -------------------------------\n",
       "H2O_cluster_uptime:         4 hours 36 mins\n",
       "H2O_cluster_timezone:       America/New_York\n",
       "H2O_data_parsing_timezone:  UTC\n",
       "H2O_cluster_version:        3.36.0.3\n",
       "H2O_cluster_version_age:    8 days\n",
       "H2O_cluster_name:           H2O_started_from_R_laksh_rlm019\n",
       "H2O_cluster_total_nodes:    1\n",
       "H2O_cluster_free_memory:    794 Mb\n",
       "H2O_cluster_total_cores:    4\n",
       "H2O_cluster_allowed_cores:  4\n",
       "H2O_cluster_status:         locked, healthy\n",
       "H2O_connection_url:         http://localhost:54321\n",
       "H2O_connection_proxy:       {\"http\": null, \"https\": null}\n",
       "H2O_internal_security:      False\n",
       "Python_version:             3.8.8 final\n",
       "--------------------------  -------------------------------"
      ]
     },
     "metadata": {},
     "output_type": "display_data"
    }
   ],
   "source": [
    "h2o.init()"
   ]
  },
  {
   "cell_type": "code",
   "execution_count": 49,
   "id": "b78a27ad",
   "metadata": {},
   "outputs": [],
   "source": [
    "url = \"http://h2o-public-test-data.s3.amazonaws.com/smalldata/iris/iris_wheader.csv\""
   ]
  },
  {
   "cell_type": "code",
   "execution_count": 50,
   "id": "98dd4626",
   "metadata": {},
   "outputs": [
    {
     "name": "stdout",
     "output_type": "stream",
     "text": [
      "Parse progress: |████████████████████████████████████████████████████████████████| (done) 100%\n"
     ]
    }
   ],
   "source": [
    "iris = h2o.import_file(url)"
   ]
  },
  {
   "cell_type": "code",
   "execution_count": 51,
   "id": "3d722016",
   "metadata": {},
   "outputs": [],
   "source": [
    "train, test =iris.split_frame([0.8])"
   ]
  },
  {
   "cell_type": "code",
   "execution_count": 52,
   "id": "ea5785dc",
   "metadata": {},
   "outputs": [
    {
     "data": {
      "text/html": [
       "<table>\n",
       "<thead>\n",
       "<tr><th>       </th><th>sepal_len         </th><th>sepal_wid         </th><th>petal_len         </th><th>petal_wid        </th><th>class      </th></tr>\n",
       "</thead>\n",
       "<tbody>\n",
       "<tr><td>type   </td><td>real              </td><td>real              </td><td>real              </td><td>real             </td><td>enum       </td></tr>\n",
       "<tr><td>mins   </td><td>4.3               </td><td>2.2               </td><td>1.0               </td><td>0.1              </td><td>           </td></tr>\n",
       "<tr><td>mean   </td><td>5.934677419354839 </td><td>3.0153225806451616</td><td>4.02983870967742  </td><td>1.320967741935483</td><td>           </td></tr>\n",
       "<tr><td>maxs   </td><td>7.9               </td><td>4.4               </td><td>6.9               </td><td>2.5              </td><td>           </td></tr>\n",
       "<tr><td>sigma  </td><td>0.8464218666814665</td><td>0.4141882755656543</td><td>1.7108919291662248</td><td>0.752262083886591</td><td>           </td></tr>\n",
       "<tr><td>zeros  </td><td>0                 </td><td>0                 </td><td>0                 </td><td>0                </td><td>           </td></tr>\n",
       "<tr><td>missing</td><td>0                 </td><td>0                 </td><td>0                 </td><td>0                </td><td>0          </td></tr>\n",
       "<tr><td>0      </td><td>5.1               </td><td>3.5               </td><td>1.4               </td><td>0.2              </td><td>Iris-setosa</td></tr>\n",
       "<tr><td>1      </td><td>4.9               </td><td>3.0               </td><td>1.4               </td><td>0.2              </td><td>Iris-setosa</td></tr>\n",
       "<tr><td>2      </td><td>4.7               </td><td>3.2               </td><td>1.3               </td><td>0.2              </td><td>Iris-setosa</td></tr>\n",
       "<tr><td>3      </td><td>4.6               </td><td>3.1               </td><td>1.5               </td><td>0.2              </td><td>Iris-setosa</td></tr>\n",
       "<tr><td>4      </td><td>4.6               </td><td>3.4               </td><td>1.4               </td><td>0.3              </td><td>Iris-setosa</td></tr>\n",
       "<tr><td>5      </td><td>5.0               </td><td>3.4               </td><td>1.5               </td><td>0.2              </td><td>Iris-setosa</td></tr>\n",
       "<tr><td>6      </td><td>4.4               </td><td>2.9               </td><td>1.4               </td><td>0.2              </td><td>Iris-setosa</td></tr>\n",
       "<tr><td>7      </td><td>4.9               </td><td>3.1               </td><td>1.5               </td><td>0.1              </td><td>Iris-setosa</td></tr>\n",
       "<tr><td>8      </td><td>5.4               </td><td>3.7               </td><td>1.5               </td><td>0.2              </td><td>Iris-setosa</td></tr>\n",
       "<tr><td>9      </td><td>4.8               </td><td>3.0               </td><td>1.4               </td><td>0.1              </td><td>Iris-setosa</td></tr>\n",
       "</tbody>\n",
       "</table>"
      ]
     },
     "metadata": {},
     "output_type": "display_data"
    }
   ],
   "source": [
    "train.summary()"
   ]
  },
  {
   "cell_type": "code",
   "execution_count": 53,
   "id": "60c2348a",
   "metadata": {},
   "outputs": [
    {
     "data": {
      "text/plain": [
       "124"
      ]
     },
     "execution_count": 53,
     "metadata": {},
     "output_type": "execute_result"
    }
   ],
   "source": [
    "train.nrows"
   ]
  },
  {
   "cell_type": "code",
   "execution_count": 54,
   "id": "50b83276",
   "metadata": {},
   "outputs": [
    {
     "data": {
      "text/plain": [
       "26"
      ]
     },
     "execution_count": 54,
     "metadata": {},
     "output_type": "execute_result"
    }
   ],
   "source": [
    "test.nrows"
   ]
  },
  {
   "cell_type": "code",
   "execution_count": 55,
   "id": "727a438c",
   "metadata": {},
   "outputs": [
    {
     "data": {
      "text/plain": [
       "['sepal_len', 'sepal_wid', 'petal_len', 'petal_wid', 'class']"
      ]
     },
     "execution_count": 55,
     "metadata": {},
     "output_type": "execute_result"
    }
   ],
   "source": [
    "train.columns"
   ]
  },
  {
   "cell_type": "code",
   "execution_count": 56,
   "id": "3b070c13",
   "metadata": {},
   "outputs": [],
   "source": [
    "from h2o.estimators import H2ORandomForestEstimator"
   ]
  },
  {
   "cell_type": "code",
   "execution_count": 57,
   "id": "a02cf897",
   "metadata": {},
   "outputs": [],
   "source": [
    "mRF = H2ORandomForestEstimator()"
   ]
  },
  {
   "cell_type": "code",
   "execution_count": 58,
   "id": "6008a382",
   "metadata": {},
   "outputs": [
    {
     "name": "stdout",
     "output_type": "stream",
     "text": [
      "drf Model Build progress: |██████████████████████████████████████████████████████| (done) 100%\n",
      "Model Details\n",
      "=============\n",
      "H2ORandomForestEstimator :  Distributed Random Forest\n",
      "Model Key:  DRF_model_python_1645782701179_5\n",
      "\n",
      "\n",
      "Model Summary: \n"
     ]
    },
    {
     "data": {
      "text/html": [
       "<div style=\"overflow:auto\"><table style=\"width:50%\"><tr><td><b></b></td>\n",
       "<td><b>number_of_trees</b></td>\n",
       "<td><b>number_of_internal_trees</b></td>\n",
       "<td><b>model_size_in_bytes</b></td>\n",
       "<td><b>min_depth</b></td>\n",
       "<td><b>max_depth</b></td>\n",
       "<td><b>mean_depth</b></td>\n",
       "<td><b>min_leaves</b></td>\n",
       "<td><b>max_leaves</b></td>\n",
       "<td><b>mean_leaves</b></td></tr>\n",
       "<tr><td></td>\n",
       "<td>50.0</td>\n",
       "<td>150.0</td>\n",
       "<td>20868.0</td>\n",
       "<td>1.0</td>\n",
       "<td>8.0</td>\n",
       "<td>3.7333333</td>\n",
       "<td>2.0</td>\n",
       "<td>13.0</td>\n",
       "<td>6.42</td></tr></table></div>"
      ],
      "text/plain": [
       "    number_of_trees    number_of_internal_trees    model_size_in_bytes    min_depth    max_depth    mean_depth    min_leaves    max_leaves    mean_leaves\n",
       "--  -----------------  --------------------------  ---------------------  -----------  -----------  ------------  ------------  ------------  -------------\n",
       "    50                 150                         20868                  1            8            3.73333       2             13            6.42"
      ]
     },
     "metadata": {},
     "output_type": "display_data"
    },
    {
     "name": "stdout",
     "output_type": "stream",
     "text": [
      "\n",
      "\n",
      "ModelMetricsMultinomial: drf\n",
      "** Reported on train data. **\n",
      "\n",
      "MSE: 0.040636934735709625\n",
      "RMSE: 0.20158604796887514\n",
      "LogLoss: 0.12852069012289954\n",
      "Mean Per-Class Error: 0.05102040816326531\n",
      "AUC: NaN\n",
      "AUCPR: NaN\n",
      "Multinomial auc values: Table is not computed because it is disabled (model parameter 'auc_type' is set to AUTO or NONE) or due to domain size (maximum is 50 domains).\n",
      "Multinomial auc_pr values: Table is not computed because it is disabled (model parameter 'auc_type' is set to AUTO or NONE) or due to domain size (maximum is 50 domains).\n",
      "\n",
      "Confusion Matrix: Row labels: Actual class; Column labels: Predicted class\n"
     ]
    },
    {
     "data": {
      "text/html": [
       "<div style=\"overflow:auto\"><table style=\"width:50%\"><tr><td><b>Iris-setosa</b></td>\n",
       "<td><b>Iris-versicolor</b></td>\n",
       "<td><b>Iris-virginica</b></td>\n",
       "<td><b>Error</b></td>\n",
       "<td><b>Rate</b></td></tr>\n",
       "<tr><td>33.0</td>\n",
       "<td>0.0</td>\n",
       "<td>0.0</td>\n",
       "<td>0.0</td>\n",
       "<td>0 / 33</td></tr>\n",
       "<tr><td>0.0</td>\n",
       "<td>39.0</td>\n",
       "<td>3.0</td>\n",
       "<td>0.0714286</td>\n",
       "<td>3 / 42</td></tr>\n",
       "<tr><td>0.0</td>\n",
       "<td>4.0</td>\n",
       "<td>45.0</td>\n",
       "<td>0.0816327</td>\n",
       "<td>4 / 49</td></tr>\n",
       "<tr><td>33.0</td>\n",
       "<td>43.0</td>\n",
       "<td>48.0</td>\n",
       "<td>0.0564516</td>\n",
       "<td>7 / 124</td></tr></table></div>"
      ],
      "text/plain": [
       "Iris-setosa    Iris-versicolor    Iris-virginica    Error      Rate\n",
       "-------------  -----------------  ----------------  ---------  -------\n",
       "33             0                  0                 0          0 / 33\n",
       "0              39                 3                 0.0714286  3 / 42\n",
       "0              4                  45                0.0816327  4 / 49\n",
       "33             43                 48                0.0564516  7 / 124"
      ]
     },
     "metadata": {},
     "output_type": "display_data"
    },
    {
     "name": "stdout",
     "output_type": "stream",
     "text": [
      "\n",
      "Top-3 Hit Ratios: \n"
     ]
    },
    {
     "data": {
      "text/html": [
       "<div style=\"overflow:auto\"><table style=\"width:50%\"><tr><td><b>k</b></td>\n",
       "<td><b>hit_ratio</b></td></tr>\n",
       "<tr><td>1</td>\n",
       "<td>0.9435484</td></tr>\n",
       "<tr><td>2</td>\n",
       "<td>1.0</td></tr>\n",
       "<tr><td>3</td>\n",
       "<td>1.0</td></tr></table></div>"
      ],
      "text/plain": [
       "k    hit_ratio\n",
       "---  -----------\n",
       "1    0.943548\n",
       "2    1\n",
       "3    1"
      ]
     },
     "metadata": {},
     "output_type": "display_data"
    },
    {
     "name": "stdout",
     "output_type": "stream",
     "text": [
      "\n",
      "Scoring History: \n"
     ]
    },
    {
     "data": {
      "text/html": [
       "<div style=\"overflow:auto\"><table style=\"width:50%\"><tr><td><b></b></td>\n",
       "<td><b>timestamp</b></td>\n",
       "<td><b>duration</b></td>\n",
       "<td><b>number_of_trees</b></td>\n",
       "<td><b>training_rmse</b></td>\n",
       "<td><b>training_logloss</b></td>\n",
       "<td><b>training_classification_error</b></td>\n",
       "<td><b>training_auc</b></td>\n",
       "<td><b>training_pr_auc</b></td></tr>\n",
       "<tr><td></td>\n",
       "<td>2022-02-25 09:29:58</td>\n",
       "<td> 0.016 sec</td>\n",
       "<td>0.0</td>\n",
       "<td>nan</td>\n",
       "<td>nan</td>\n",
       "<td>nan</td>\n",
       "<td>nan</td>\n",
       "<td>nan</td></tr>\n",
       "<tr><td></td>\n",
       "<td>2022-02-25 09:29:58</td>\n",
       "<td> 0.047 sec</td>\n",
       "<td>1.0</td>\n",
       "<td>0.3216485</td>\n",
       "<td>2.9666947</td>\n",
       "<td>0.1041667</td>\n",
       "<td>nan</td>\n",
       "<td>nan</td></tr>\n",
       "<tr><td></td>\n",
       "<td>2022-02-25 09:29:58</td>\n",
       "<td> 0.063 sec</td>\n",
       "<td>2.0</td>\n",
       "<td>0.2937577</td>\n",
       "<td>2.4659010</td>\n",
       "<td>0.0972222</td>\n",
       "<td>nan</td>\n",
       "<td>nan</td></tr>\n",
       "<tr><td></td>\n",
       "<td>2022-02-25 09:29:58</td>\n",
       "<td> 0.078 sec</td>\n",
       "<td>3.0</td>\n",
       "<td>0.3003915</td>\n",
       "<td>2.7094499</td>\n",
       "<td>0.0989011</td>\n",
       "<td>nan</td>\n",
       "<td>nan</td></tr>\n",
       "<tr><td></td>\n",
       "<td>2022-02-25 09:29:58</td>\n",
       "<td> 0.078 sec</td>\n",
       "<td>4.0</td>\n",
       "<td>0.3065550</td>\n",
       "<td>2.8676982</td>\n",
       "<td>0.1020408</td>\n",
       "<td>nan</td>\n",
       "<td>nan</td></tr>\n",
       "<tr><td>---</td>\n",
       "<td>---</td>\n",
       "<td>---</td>\n",
       "<td>---</td>\n",
       "<td>---</td>\n",
       "<td>---</td>\n",
       "<td>---</td>\n",
       "<td>---</td>\n",
       "<td>---</td></tr>\n",
       "<tr><td></td>\n",
       "<td>2022-02-25 09:29:58</td>\n",
       "<td> 0.328 sec</td>\n",
       "<td>46.0</td>\n",
       "<td>0.2011397</td>\n",
       "<td>0.1287137</td>\n",
       "<td>0.0564516</td>\n",
       "<td>nan</td>\n",
       "<td>nan</td></tr>\n",
       "<tr><td></td>\n",
       "<td>2022-02-25 09:29:58</td>\n",
       "<td> 0.328 sec</td>\n",
       "<td>47.0</td>\n",
       "<td>0.2004412</td>\n",
       "<td>0.1279889</td>\n",
       "<td>0.0564516</td>\n",
       "<td>nan</td>\n",
       "<td>nan</td></tr>\n",
       "<tr><td></td>\n",
       "<td>2022-02-25 09:29:58</td>\n",
       "<td> 0.344 sec</td>\n",
       "<td>48.0</td>\n",
       "<td>0.2005508</td>\n",
       "<td>0.1278495</td>\n",
       "<td>0.0564516</td>\n",
       "<td>nan</td>\n",
       "<td>nan</td></tr>\n",
       "<tr><td></td>\n",
       "<td>2022-02-25 09:29:58</td>\n",
       "<td> 0.344 sec</td>\n",
       "<td>49.0</td>\n",
       "<td>0.2003087</td>\n",
       "<td>0.1275230</td>\n",
       "<td>0.0564516</td>\n",
       "<td>nan</td>\n",
       "<td>nan</td></tr>\n",
       "<tr><td></td>\n",
       "<td>2022-02-25 09:29:58</td>\n",
       "<td> 0.344 sec</td>\n",
       "<td>50.0</td>\n",
       "<td>0.2015860</td>\n",
       "<td>0.1285207</td>\n",
       "<td>0.0564516</td>\n",
       "<td>nan</td>\n",
       "<td>nan</td></tr></table></div>"
      ],
      "text/plain": [
       "     timestamp            duration    number_of_trees    training_rmse        training_logloss     training_classification_error    training_auc    training_pr_auc\n",
       "---  -------------------  ----------  -----------------  -------------------  -------------------  -------------------------------  --------------  -----------------\n",
       "     2022-02-25 09:29:58  0.016 sec   0.0                nan                  nan                  nan                              nan             nan\n",
       "     2022-02-25 09:29:58  0.047 sec   1.0                0.3216485379601477   2.9666947124219845   0.10416666666666667              nan             nan\n",
       "     2022-02-25 09:29:58  0.063 sec   2.0                0.2937576948361004   2.465900987240376    0.09722222222222222              nan             nan\n",
       "     2022-02-25 09:29:58  0.078 sec   3.0                0.300391540080633    2.7094499227274196   0.0989010989010989               nan             nan\n",
       "     2022-02-25 09:29:58  0.078 sec   4.0                0.3065549656139864   2.867698217431937    0.10204081632653061              nan             nan\n",
       "---  ---                  ---         ---                ---                  ---                  ---                              ---             ---\n",
       "     2022-02-25 09:29:58  0.328 sec   46.0               0.2011396934479393   0.12871368638991557  0.056451612903225805             nan             nan\n",
       "     2022-02-25 09:29:58  0.328 sec   47.0               0.20044118040715833  0.12798887168397116  0.056451612903225805             nan             nan\n",
       "     2022-02-25 09:29:58  0.344 sec   48.0               0.20055084925696995  0.12784948190951226  0.056451612903225805             nan             nan\n",
       "     2022-02-25 09:29:58  0.344 sec   49.0               0.20030868174744001  0.12752300464524752  0.056451612903225805             nan             nan\n",
       "     2022-02-25 09:29:58  0.344 sec   50.0               0.20158604796887514  0.12852069012289954  0.056451612903225805             nan             nan"
      ]
     },
     "metadata": {},
     "output_type": "display_data"
    },
    {
     "name": "stdout",
     "output_type": "stream",
     "text": [
      "\n",
      "Variable Importances: \n"
     ]
    },
    {
     "data": {
      "text/html": [
       "<div style=\"overflow:auto\"><table style=\"width:50%\"><tr><td><b>variable</b></td>\n",
       "<td><b>relative_importance</b></td>\n",
       "<td><b>scaled_importance</b></td>\n",
       "<td><b>percentage</b></td></tr>\n",
       "<tr><td>petal_wid</td>\n",
       "<td>1938.9516602</td>\n",
       "<td>1.0</td>\n",
       "<td>0.5526994</td></tr>\n",
       "<tr><td>petal_len</td>\n",
       "<td>1056.3903809</td>\n",
       "<td>0.5448255</td>\n",
       "<td>0.3011247</td></tr>\n",
       "<tr><td>sepal_len</td>\n",
       "<td>421.7132568</td>\n",
       "<td>0.2174955</td>\n",
       "<td>0.1202096</td></tr>\n",
       "<tr><td>sepal_wid</td>\n",
       "<td>91.0934830</td>\n",
       "<td>0.0469808</td>\n",
       "<td>0.0259663</td></tr></table></div>"
      ],
      "text/plain": [
       "variable    relative_importance    scaled_importance    percentage\n",
       "----------  ---------------------  -------------------  ------------\n",
       "petal_wid   1938.95                1                    0.552699\n",
       "petal_len   1056.39                0.544826             0.301125\n",
       "sepal_len   421.713                0.217495             0.12021\n",
       "sepal_wid   91.0935                0.0469808            0.0259663"
      ]
     },
     "metadata": {},
     "output_type": "display_data"
    },
    {
     "data": {
      "text/plain": []
     },
     "execution_count": 58,
     "metadata": {},
     "output_type": "execute_result"
    }
   ],
   "source": [
    "mRF.train(['sepal_len', 'sepal_wid', 'petal_len', 'petal_wid' ], 'class', train)"
   ]
  },
  {
   "cell_type": "code",
   "execution_count": 59,
   "id": "42189a86",
   "metadata": {},
   "outputs": [
    {
     "name": "stdout",
     "output_type": "stream",
     "text": [
      "Model Details\n",
      "=============\n",
      "H2ORandomForestEstimator :  Distributed Random Forest\n",
      "Model Key:  DRF_model_python_1645782701179_5\n",
      "\n",
      "\n",
      "Model Summary: \n"
     ]
    },
    {
     "data": {
      "text/html": [
       "<div style=\"overflow:auto\"><table style=\"width:50%\"><tr><td><b></b></td>\n",
       "<td><b>number_of_trees</b></td>\n",
       "<td><b>number_of_internal_trees</b></td>\n",
       "<td><b>model_size_in_bytes</b></td>\n",
       "<td><b>min_depth</b></td>\n",
       "<td><b>max_depth</b></td>\n",
       "<td><b>mean_depth</b></td>\n",
       "<td><b>min_leaves</b></td>\n",
       "<td><b>max_leaves</b></td>\n",
       "<td><b>mean_leaves</b></td></tr>\n",
       "<tr><td></td>\n",
       "<td>50.0</td>\n",
       "<td>150.0</td>\n",
       "<td>20868.0</td>\n",
       "<td>1.0</td>\n",
       "<td>8.0</td>\n",
       "<td>3.7333333</td>\n",
       "<td>2.0</td>\n",
       "<td>13.0</td>\n",
       "<td>6.42</td></tr></table></div>"
      ],
      "text/plain": [
       "    number_of_trees    number_of_internal_trees    model_size_in_bytes    min_depth    max_depth    mean_depth    min_leaves    max_leaves    mean_leaves\n",
       "--  -----------------  --------------------------  ---------------------  -----------  -----------  ------------  ------------  ------------  -------------\n",
       "    50                 150                         20868                  1            8            3.73333       2             13            6.42"
      ]
     },
     "metadata": {},
     "output_type": "display_data"
    },
    {
     "name": "stdout",
     "output_type": "stream",
     "text": [
      "\n",
      "\n",
      "ModelMetricsMultinomial: drf\n",
      "** Reported on train data. **\n",
      "\n",
      "MSE: 0.040636934735709625\n",
      "RMSE: 0.20158604796887514\n",
      "LogLoss: 0.12852069012289954\n",
      "Mean Per-Class Error: 0.05102040816326531\n",
      "AUC: NaN\n",
      "AUCPR: NaN\n",
      "Multinomial auc values: Table is not computed because it is disabled (model parameter 'auc_type' is set to AUTO or NONE) or due to domain size (maximum is 50 domains).\n",
      "Multinomial auc_pr values: Table is not computed because it is disabled (model parameter 'auc_type' is set to AUTO or NONE) or due to domain size (maximum is 50 domains).\n",
      "\n",
      "Confusion Matrix: Row labels: Actual class; Column labels: Predicted class\n"
     ]
    },
    {
     "data": {
      "text/html": [
       "<div style=\"overflow:auto\"><table style=\"width:50%\"><tr><td><b>Iris-setosa</b></td>\n",
       "<td><b>Iris-versicolor</b></td>\n",
       "<td><b>Iris-virginica</b></td>\n",
       "<td><b>Error</b></td>\n",
       "<td><b>Rate</b></td></tr>\n",
       "<tr><td>33.0</td>\n",
       "<td>0.0</td>\n",
       "<td>0.0</td>\n",
       "<td>0.0</td>\n",
       "<td>0 / 33</td></tr>\n",
       "<tr><td>0.0</td>\n",
       "<td>39.0</td>\n",
       "<td>3.0</td>\n",
       "<td>0.0714286</td>\n",
       "<td>3 / 42</td></tr>\n",
       "<tr><td>0.0</td>\n",
       "<td>4.0</td>\n",
       "<td>45.0</td>\n",
       "<td>0.0816327</td>\n",
       "<td>4 / 49</td></tr>\n",
       "<tr><td>33.0</td>\n",
       "<td>43.0</td>\n",
       "<td>48.0</td>\n",
       "<td>0.0564516</td>\n",
       "<td>7 / 124</td></tr></table></div>"
      ],
      "text/plain": [
       "Iris-setosa    Iris-versicolor    Iris-virginica    Error      Rate\n",
       "-------------  -----------------  ----------------  ---------  -------\n",
       "33             0                  0                 0          0 / 33\n",
       "0              39                 3                 0.0714286  3 / 42\n",
       "0              4                  45                0.0816327  4 / 49\n",
       "33             43                 48                0.0564516  7 / 124"
      ]
     },
     "metadata": {},
     "output_type": "display_data"
    },
    {
     "name": "stdout",
     "output_type": "stream",
     "text": [
      "\n",
      "Top-3 Hit Ratios: \n"
     ]
    },
    {
     "data": {
      "text/html": [
       "<div style=\"overflow:auto\"><table style=\"width:50%\"><tr><td><b>k</b></td>\n",
       "<td><b>hit_ratio</b></td></tr>\n",
       "<tr><td>1</td>\n",
       "<td>0.9435484</td></tr>\n",
       "<tr><td>2</td>\n",
       "<td>1.0</td></tr>\n",
       "<tr><td>3</td>\n",
       "<td>1.0</td></tr></table></div>"
      ],
      "text/plain": [
       "k    hit_ratio\n",
       "---  -----------\n",
       "1    0.943548\n",
       "2    1\n",
       "3    1"
      ]
     },
     "metadata": {},
     "output_type": "display_data"
    },
    {
     "name": "stdout",
     "output_type": "stream",
     "text": [
      "\n",
      "Scoring History: \n"
     ]
    },
    {
     "data": {
      "text/html": [
       "<div style=\"overflow:auto\"><table style=\"width:50%\"><tr><td><b></b></td>\n",
       "<td><b>timestamp</b></td>\n",
       "<td><b>duration</b></td>\n",
       "<td><b>number_of_trees</b></td>\n",
       "<td><b>training_rmse</b></td>\n",
       "<td><b>training_logloss</b></td>\n",
       "<td><b>training_classification_error</b></td>\n",
       "<td><b>training_auc</b></td>\n",
       "<td><b>training_pr_auc</b></td></tr>\n",
       "<tr><td></td>\n",
       "<td>2022-02-25 09:29:58</td>\n",
       "<td> 0.016 sec</td>\n",
       "<td>0.0</td>\n",
       "<td>nan</td>\n",
       "<td>nan</td>\n",
       "<td>nan</td>\n",
       "<td>nan</td>\n",
       "<td>nan</td></tr>\n",
       "<tr><td></td>\n",
       "<td>2022-02-25 09:29:58</td>\n",
       "<td> 0.047 sec</td>\n",
       "<td>1.0</td>\n",
       "<td>0.3216485</td>\n",
       "<td>2.9666947</td>\n",
       "<td>0.1041667</td>\n",
       "<td>nan</td>\n",
       "<td>nan</td></tr>\n",
       "<tr><td></td>\n",
       "<td>2022-02-25 09:29:58</td>\n",
       "<td> 0.063 sec</td>\n",
       "<td>2.0</td>\n",
       "<td>0.2937577</td>\n",
       "<td>2.4659010</td>\n",
       "<td>0.0972222</td>\n",
       "<td>nan</td>\n",
       "<td>nan</td></tr>\n",
       "<tr><td></td>\n",
       "<td>2022-02-25 09:29:58</td>\n",
       "<td> 0.078 sec</td>\n",
       "<td>3.0</td>\n",
       "<td>0.3003915</td>\n",
       "<td>2.7094499</td>\n",
       "<td>0.0989011</td>\n",
       "<td>nan</td>\n",
       "<td>nan</td></tr>\n",
       "<tr><td></td>\n",
       "<td>2022-02-25 09:29:58</td>\n",
       "<td> 0.078 sec</td>\n",
       "<td>4.0</td>\n",
       "<td>0.3065550</td>\n",
       "<td>2.8676982</td>\n",
       "<td>0.1020408</td>\n",
       "<td>nan</td>\n",
       "<td>nan</td></tr>\n",
       "<tr><td>---</td>\n",
       "<td>---</td>\n",
       "<td>---</td>\n",
       "<td>---</td>\n",
       "<td>---</td>\n",
       "<td>---</td>\n",
       "<td>---</td>\n",
       "<td>---</td>\n",
       "<td>---</td></tr>\n",
       "<tr><td></td>\n",
       "<td>2022-02-25 09:29:58</td>\n",
       "<td> 0.328 sec</td>\n",
       "<td>46.0</td>\n",
       "<td>0.2011397</td>\n",
       "<td>0.1287137</td>\n",
       "<td>0.0564516</td>\n",
       "<td>nan</td>\n",
       "<td>nan</td></tr>\n",
       "<tr><td></td>\n",
       "<td>2022-02-25 09:29:58</td>\n",
       "<td> 0.328 sec</td>\n",
       "<td>47.0</td>\n",
       "<td>0.2004412</td>\n",
       "<td>0.1279889</td>\n",
       "<td>0.0564516</td>\n",
       "<td>nan</td>\n",
       "<td>nan</td></tr>\n",
       "<tr><td></td>\n",
       "<td>2022-02-25 09:29:58</td>\n",
       "<td> 0.344 sec</td>\n",
       "<td>48.0</td>\n",
       "<td>0.2005508</td>\n",
       "<td>0.1278495</td>\n",
       "<td>0.0564516</td>\n",
       "<td>nan</td>\n",
       "<td>nan</td></tr>\n",
       "<tr><td></td>\n",
       "<td>2022-02-25 09:29:58</td>\n",
       "<td> 0.344 sec</td>\n",
       "<td>49.0</td>\n",
       "<td>0.2003087</td>\n",
       "<td>0.1275230</td>\n",
       "<td>0.0564516</td>\n",
       "<td>nan</td>\n",
       "<td>nan</td></tr>\n",
       "<tr><td></td>\n",
       "<td>2022-02-25 09:29:58</td>\n",
       "<td> 0.344 sec</td>\n",
       "<td>50.0</td>\n",
       "<td>0.2015860</td>\n",
       "<td>0.1285207</td>\n",
       "<td>0.0564516</td>\n",
       "<td>nan</td>\n",
       "<td>nan</td></tr></table></div>"
      ],
      "text/plain": [
       "     timestamp            duration    number_of_trees    training_rmse        training_logloss     training_classification_error    training_auc    training_pr_auc\n",
       "---  -------------------  ----------  -----------------  -------------------  -------------------  -------------------------------  --------------  -----------------\n",
       "     2022-02-25 09:29:58  0.016 sec   0.0                nan                  nan                  nan                              nan             nan\n",
       "     2022-02-25 09:29:58  0.047 sec   1.0                0.3216485379601477   2.9666947124219845   0.10416666666666667              nan             nan\n",
       "     2022-02-25 09:29:58  0.063 sec   2.0                0.2937576948361004   2.465900987240376    0.09722222222222222              nan             nan\n",
       "     2022-02-25 09:29:58  0.078 sec   3.0                0.300391540080633    2.7094499227274196   0.0989010989010989               nan             nan\n",
       "     2022-02-25 09:29:58  0.078 sec   4.0                0.3065549656139864   2.867698217431937    0.10204081632653061              nan             nan\n",
       "---  ---                  ---         ---                ---                  ---                  ---                              ---             ---\n",
       "     2022-02-25 09:29:58  0.328 sec   46.0               0.2011396934479393   0.12871368638991557  0.056451612903225805             nan             nan\n",
       "     2022-02-25 09:29:58  0.328 sec   47.0               0.20044118040715833  0.12798887168397116  0.056451612903225805             nan             nan\n",
       "     2022-02-25 09:29:58  0.344 sec   48.0               0.20055084925696995  0.12784948190951226  0.056451612903225805             nan             nan\n",
       "     2022-02-25 09:29:58  0.344 sec   49.0               0.20030868174744001  0.12752300464524752  0.056451612903225805             nan             nan\n",
       "     2022-02-25 09:29:58  0.344 sec   50.0               0.20158604796887514  0.12852069012289954  0.056451612903225805             nan             nan"
      ]
     },
     "metadata": {},
     "output_type": "display_data"
    },
    {
     "name": "stdout",
     "output_type": "stream",
     "text": [
      "\n",
      "Variable Importances: \n"
     ]
    },
    {
     "data": {
      "text/html": [
       "<div style=\"overflow:auto\"><table style=\"width:50%\"><tr><td><b>variable</b></td>\n",
       "<td><b>relative_importance</b></td>\n",
       "<td><b>scaled_importance</b></td>\n",
       "<td><b>percentage</b></td></tr>\n",
       "<tr><td>petal_wid</td>\n",
       "<td>1938.9516602</td>\n",
       "<td>1.0</td>\n",
       "<td>0.5526994</td></tr>\n",
       "<tr><td>petal_len</td>\n",
       "<td>1056.3903809</td>\n",
       "<td>0.5448255</td>\n",
       "<td>0.3011247</td></tr>\n",
       "<tr><td>sepal_len</td>\n",
       "<td>421.7132568</td>\n",
       "<td>0.2174955</td>\n",
       "<td>0.1202096</td></tr>\n",
       "<tr><td>sepal_wid</td>\n",
       "<td>91.0934830</td>\n",
       "<td>0.0469808</td>\n",
       "<td>0.0259663</td></tr></table></div>"
      ],
      "text/plain": [
       "variable    relative_importance    scaled_importance    percentage\n",
       "----------  ---------------------  -------------------  ------------\n",
       "petal_wid   1938.95                1                    0.552699\n",
       "petal_len   1056.39                0.544826             0.301125\n",
       "sepal_len   421.713                0.217495             0.12021\n",
       "sepal_wid   91.0935                0.0469808            0.0259663"
      ]
     },
     "metadata": {},
     "output_type": "display_data"
    },
    {
     "data": {
      "text/plain": []
     },
     "execution_count": 59,
     "metadata": {},
     "output_type": "execute_result"
    }
   ],
   "source": [
    "mRF"
   ]
  },
  {
   "cell_type": "code",
   "execution_count": 60,
   "id": "8135f459",
   "metadata": {},
   "outputs": [
    {
     "name": "stdout",
     "output_type": "stream",
     "text": [
      "drf prediction progress: |███████████████████████████████████████████████████████| (done) 100%\n"
     ]
    }
   ],
   "source": [
    "p = mRF.predict(test)"
   ]
  },
  {
   "cell_type": "code",
   "execution_count": 61,
   "id": "95be79f8",
   "metadata": {},
   "outputs": [
    {
     "name": "stdout",
     "output_type": "stream",
     "text": [
      "\n",
      "ModelMetricsMultinomial: drf\n",
      "** Reported on test data. **\n",
      "\n",
      "MSE: 0.011189106545951056\n",
      "RMSE: 0.10577857318923836\n",
      "LogLoss: 0.03662667302784915\n",
      "Mean Per-Class Error: 0.3333333333333333\n",
      "AUC: NaN\n",
      "AUCPR: NaN\n",
      "Multinomial auc values: Table is not computed because it is disabled (model parameter 'auc_type' is set to AUTO or NONE) or due to domain size (maximum is 50 domains).\n",
      "Multinomial auc_pr values: Table is not computed because it is disabled (model parameter 'auc_type' is set to AUTO or NONE) or due to domain size (maximum is 50 domains).\n",
      "\n",
      "Confusion Matrix: Row labels: Actual class; Column labels: Predicted class\n"
     ]
    },
    {
     "data": {
      "text/html": [
       "<div style=\"overflow:auto\"><table style=\"width:50%\"><tr><td><b>Iris-setosa</b></td>\n",
       "<td><b>Iris-versicolor</b></td>\n",
       "<td><b>Iris-virginica</b></td>\n",
       "<td><b>Error</b></td>\n",
       "<td><b>Rate</b></td></tr>\n",
       "<tr><td>17.0</td>\n",
       "<td>0.0</td>\n",
       "<td>0.0</td>\n",
       "<td>0.0</td>\n",
       "<td>0 / 17</td></tr>\n",
       "<tr><td>0.0</td>\n",
       "<td>8.0</td>\n",
       "<td>0.0</td>\n",
       "<td>0.0</td>\n",
       "<td>0 / 8</td></tr>\n",
       "<tr><td>0.0</td>\n",
       "<td>1.0</td>\n",
       "<td>0.0</td>\n",
       "<td>1.0</td>\n",
       "<td>1 / 1</td></tr>\n",
       "<tr><td>17.0</td>\n",
       "<td>9.0</td>\n",
       "<td>0.0</td>\n",
       "<td>0.0384615</td>\n",
       "<td>1 / 26</td></tr></table></div>"
      ],
      "text/plain": [
       "Iris-setosa    Iris-versicolor    Iris-virginica    Error      Rate\n",
       "-------------  -----------------  ----------------  ---------  ------\n",
       "17             0                  0                 0          0 / 17\n",
       "0              8                  0                 0          0 / 8\n",
       "0              1                  0                 1          1 / 1\n",
       "17             9                  0                 0.0384615  1 / 26"
      ]
     },
     "metadata": {},
     "output_type": "display_data"
    },
    {
     "name": "stdout",
     "output_type": "stream",
     "text": [
      "\n",
      "Top-3 Hit Ratios: \n"
     ]
    },
    {
     "data": {
      "text/html": [
       "<div style=\"overflow:auto\"><table style=\"width:50%\"><tr><td><b>k</b></td>\n",
       "<td><b>hit_ratio</b></td></tr>\n",
       "<tr><td>1</td>\n",
       "<td>0.9615384</td></tr>\n",
       "<tr><td>2</td>\n",
       "<td>1.0</td></tr>\n",
       "<tr><td>3</td>\n",
       "<td>1.0</td></tr></table></div>"
      ],
      "text/plain": [
       "k    hit_ratio\n",
       "---  -----------\n",
       "1    0.961538\n",
       "2    1\n",
       "3    1"
      ]
     },
     "metadata": {},
     "output_type": "display_data"
    },
    {
     "data": {
      "text/plain": []
     },
     "execution_count": 61,
     "metadata": {},
     "output_type": "execute_result"
    }
   ],
   "source": [
    "mRF.model_performance(test)"
   ]
  },
  {
   "cell_type": "code",
   "execution_count": null,
   "id": "2d7b3abf",
   "metadata": {},
   "outputs": [],
   "source": []
  }
 ],
 "metadata": {
  "kernelspec": {
   "display_name": "Python 3",
   "language": "python",
   "name": "python3"
  },
  "language_info": {
   "codemirror_mode": {
    "name": "ipython",
    "version": 3
   },
   "file_extension": ".py",
   "mimetype": "text/x-python",
   "name": "python",
   "nbconvert_exporter": "python",
   "pygments_lexer": "ipython3",
   "version": "3.8.8"
  }
 },
 "nbformat": 4,
 "nbformat_minor": 5
}
