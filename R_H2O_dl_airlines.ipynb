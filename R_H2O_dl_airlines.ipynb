{
 "cells": [
  {
   "cell_type": "code",
   "execution_count": 1,
   "id": "7e3cd818",
   "metadata": {},
   "outputs": [
    {
     "name": "stderr",
     "output_type": "stream",
     "text": [
      "\n",
      "----------------------------------------------------------------------\n",
      "\n",
      "Your next step is to start H2O:\n",
      "    > h2o.init()\n",
      "\n",
      "For H2O package documentation, ask for help:\n",
      "    > ??h2o\n",
      "\n",
      "After starting H2O, you can use the Web UI at http://localhost:54321\n",
      "For more information visit https://docs.h2o.ai\n",
      "\n",
      "----------------------------------------------------------------------\n",
      "\n",
      "\n",
      "Attaching package: 'h2o'\n",
      "\n",
      "The following objects are masked from 'package:stats':\n",
      "\n",
      "    cor, sd, var\n",
      "\n",
      "The following objects are masked from 'package:base':\n",
      "\n",
      "    %*%, %in%, &&, ||, apply, as.factor, as.numeric, colnames,\n",
      "    colnames<-, ifelse, is.character, is.factor, is.numeric, log,\n",
      "    log10, log1p, log2, round, signif, trunc\n",
      "\n"
     ]
    }
   ],
   "source": [
    "library(h2o)"
   ]
  },
  {
   "cell_type": "code",
   "execution_count": 2,
   "id": "de716fed",
   "metadata": {},
   "outputs": [
    {
     "name": "stdout",
     "output_type": "stream",
     "text": [
      " Connection successful!\n",
      "\n",
      "R is connected to the H2O cluster: \n",
      "    H2O cluster uptime:         1 hours 54 minutes \n",
      "    H2O cluster timezone:       America/New_York \n",
      "    H2O data parsing timezone:  UTC \n",
      "    H2O cluster version:        3.36.0.3 \n",
      "    H2O cluster version age:    12 days  \n",
      "    H2O cluster name:           H2O_started_from_R_laksh_wbn696 \n",
      "    H2O cluster total nodes:    1 \n",
      "    H2O cluster total memory:   1.90 GB \n",
      "    H2O cluster total cores:    4 \n",
      "    H2O cluster allowed cores:  4 \n",
      "    H2O cluster healthy:        TRUE \n",
      "    H2O Connection ip:          localhost \n",
      "    H2O Connection port:        54321 \n",
      "    H2O Connection proxy:       NA \n",
      "    H2O Internal Security:      FALSE \n",
      "    R Version:                  R version 3.6.1 (2019-07-05) \n",
      "\n"
     ]
    }
   ],
   "source": [
    "h2o.init(nthreads = -1)"
   ]
  },
  {
   "cell_type": "code",
   "execution_count": 3,
   "id": "19a529db",
   "metadata": {},
   "outputs": [
    {
     "name": "stdout",
     "output_type": "stream",
     "text": [
      "  |======================================================================| 100%\n"
     ]
    }
   ],
   "source": [
    "data <- h2o.importFile(\"http://h2o-public-test-data.s3.amazonaws.com/smalldata/airlines/allyears2k_headers.zip\") "
   ]
  },
  {
   "cell_type": "code",
   "execution_count": 7,
   "id": "a7499308",
   "metadata": {},
   "outputs": [],
   "source": [
    "parts <- h2o.splitFrame(data, c(0.8,0.1), see = 69)"
   ]
  },
  {
   "cell_type": "code",
   "execution_count": 8,
   "id": "4749ba56",
   "metadata": {},
   "outputs": [],
   "source": [
    "train <- parts[[1]]"
   ]
  },
  {
   "cell_type": "code",
   "execution_count": 9,
   "id": "177c986c",
   "metadata": {},
   "outputs": [],
   "source": [
    "valid <- parts[[2]]"
   ]
  },
  {
   "cell_type": "code",
   "execution_count": 10,
   "id": "1eac505d",
   "metadata": {},
   "outputs": [],
   "source": [
    "test <- parts[[3]]"
   ]
  },
  {
   "cell_type": "code",
   "execution_count": 11,
   "id": "974c1d33",
   "metadata": {},
   "outputs": [],
   "source": [
    "y <- \"IsArrDelayed\""
   ]
  },
  {
   "cell_type": "code",
   "execution_count": 12,
   "id": "64729b01",
   "metadata": {},
   "outputs": [],
   "source": [
    "xAll <- setdiff(colnames(data), \n",
    "                c(\"ArrDelay\", \"DepDelay\",\n",
    "                  \"CarrierDelay\", \"WeatherDelay\",\n",
    "                  \"NASDelay\", \"SecurityDelay\",\n",
    "                  \"IsDepDelayed\", \"IsArrDelayed\",\n",
    "                  \"ActualElapsedTime\"))"
   ]
  },
  {
   "cell_type": "code",
   "execution_count": 13,
   "id": "495d10d9",
   "metadata": {},
   "outputs": [
    {
     "name": "stdout",
     "output_type": "stream",
     "text": [
      "  |======================================================================| 100%\n"
     ]
    },
    {
     "data": {
      "text/plain": [
       "   user  system elapsed \n",
       "   1.24    0.08  212.62 "
      ]
     },
     "metadata": {},
     "output_type": "display_data"
    }
   ],
   "source": [
    "system.time(\n",
    "  m_def<-h2o.deeplearning(xAll, y, train,\n",
    "                 validation_frame = valid)\n",
    ")"
   ]
  },
  {
   "cell_type": "code",
   "execution_count": 14,
   "id": "e67dc844",
   "metadata": {},
   "outputs": [
    {
     "data": {
      "text/plain": [
       "H2OBinomialMetrics: deeplearning\n",
       "** Reported on validation data. **\n",
       "** Metrics reported on full validation frame **\n",
       "\n",
       "MSE:  0.09504747\n",
       "RMSE:  0.3082977\n",
       "LogLoss:  0.2993853\n",
       "Mean Per-Class Error:  0.1457704\n",
       "AUC:  0.9452064\n",
       "AUCPR:  0.9578588\n",
       "Gini:  0.8904128\n",
       "\n",
       "Confusion Matrix (vertical: actual; across: predicted) for F1-optimal threshold:\n",
       "         NO  YES    Error       Rate\n",
       "NO     1543  390 0.201759  =390/1933\n",
       "YES     210 2129 0.089782  =210/2339\n",
       "Totals 1753 2519 0.140449  =600/4272\n",
       "\n",
       "Maximum Metrics: Maximum metrics at their respective thresholds\n",
       "                        metric threshold       value idx\n",
       "1                       max f1  0.348965    0.876492 242\n",
       "2                       max f2  0.082413    0.915499 345\n",
       "3                 max f0point5  0.661877    0.905922 133\n",
       "4                 max accuracy  0.492320    0.865637 189\n",
       "5                max precision  0.999972    1.000000   0\n",
       "6                   max recall  0.011476    1.000000 387\n",
       "7              max specificity  0.999972    1.000000   0\n",
       "8             max absolute_mcc  0.553875    0.731619 167\n",
       "9   max min_per_class_accuracy  0.471273    0.863617 198\n",
       "10 max mean_per_class_accuracy  0.553875    0.867461 167\n",
       "11                     max tns  0.999972 1933.000000   0\n",
       "12                     max fns  0.999972 1591.000000   0\n",
       "13                     max fps  0.000401 1933.000000 399\n",
       "14                     max tps  0.011476 2339.000000 387\n",
       "15                     max tnr  0.999972    1.000000   0\n",
       "16                     max fnr  0.999972    0.680205   0\n",
       "17                     max fpr  0.000401    1.000000 399\n",
       "18                     max tpr  0.011476    1.000000 387\n",
       "\n",
       "Gains/Lift Table: Extract with `h2o.gainsLift(<model>, <data>)` or `h2o.gainsLift(<model>, valid=<T/F>, xval=<T/F>)`"
      ]
     },
     "metadata": {},
     "output_type": "display_data"
    }
   ],
   "source": [
    "h2o.performance(m_def, valid = TRUE)"
   ]
  },
  {
   "cell_type": "code",
   "execution_count": 15,
   "id": "bbf1cf9f",
   "metadata": {},
   "outputs": [
    {
     "data": {
      "image/png": "[encoded data removed]",
      "text/plain": [
       "Plot with title \"Scoring History\""
      ]
     },
     "metadata": {},
     "output_type": "display_data"
    }
   ],
   "source": [
    "plot(m_def)"
   ]
  },
  {
   "cell_type": "code",
   "execution_count": 17,
   "id": "3c62ea3f",
   "metadata": {},
   "outputs": [
    {
     "name": "stdout",
     "output_type": "stream",
     "text": [
      "  |======================================================================| 100%\n"
     ]
    },
    {
     "data": {
      "text/plain": [
       "   user  system elapsed \n",
       "   7.26    0.66 3348.72 "
      ]
     },
     "metadata": {},
     "output_type": "display_data"
    }
   ],
   "source": [
    "system.time(\n",
    "  m_200_epochs<-h2o.deeplearning(xAll, y, train,\n",
    "                 validation_frame = valid,\n",
    "                  epochs = 200,\n",
    "                  stopping_rounds =5,\n",
    "                  stopping_tolerance = 0,\n",
    "                  stopping_metric = \"logloss\")\n",
    ")"
   ]
  },
  {
   "cell_type": "code",
   "execution_count": 18,
   "id": "578d87a9",
   "metadata": {},
   "outputs": [
    {
     "data": {
      "text/plain": [
       "H2OBinomialMetrics: deeplearning\n",
       "** Reported on validation data. **\n",
       "** Metrics reported on full validation frame **\n",
       "\n",
       "MSE:  0.09378728\n",
       "RMSE:  0.3062471\n",
       "LogLoss:  0.2902133\n",
       "Mean Per-Class Error:  0.1365074\n",
       "AUC:  0.9470697\n",
       "AUCPR:  0.9588434\n",
       "Gini:  0.8941394\n",
       "\n",
       "Confusion Matrix (vertical: actual; across: predicted) for F1-optimal threshold:\n",
       "         NO  YES    Error       Rate\n",
       "NO     1616  317 0.163994  =317/1933\n",
       "YES     255 2084 0.109021  =255/2339\n",
       "Totals 1871 2401 0.133895  =572/4272\n",
       "\n",
       "Maximum Metrics: Maximum metrics at their respective thresholds\n",
       "                        metric threshold       value idx\n",
       "1                       max f1  0.403955    0.879325 213\n",
       "2                       max f2  0.206414    0.920881 291\n",
       "3                 max f0point5  0.690326    0.901393 123\n",
       "4                 max accuracy  0.407959    0.866105 212\n",
       "5                max precision  0.999965    1.000000   0\n",
       "6                   max recall  0.039041    1.000000 369\n",
       "7              max specificity  0.999965    1.000000   0\n",
       "8             max absolute_mcc  0.407959    0.729344 212\n",
       "9   max min_per_class_accuracy  0.467454    0.861479 193\n",
       "10 max mean_per_class_accuracy  0.407959    0.863627 212\n",
       "11                     max tns  0.999965 1933.000000   0\n",
       "12                     max fns  0.999965 1620.000000   0\n",
       "13                     max fps  0.001590 1933.000000 399\n",
       "14                     max tps  0.039041 2339.000000 369\n",
       "15                     max tnr  0.999965    1.000000   0\n",
       "16                     max fnr  0.999965    0.692604   0\n",
       "17                     max fpr  0.001590    1.000000 399\n",
       "18                     max tpr  0.039041    1.000000 369\n",
       "\n",
       "Gains/Lift Table: Extract with `h2o.gainsLift(<model>, <data>)` or `h2o.gainsLift(<model>, valid=<T/F>, xval=<T/F>)`"
      ]
     },
     "metadata": {},
     "output_type": "display_data"
    }
   ],
   "source": [
    "h2o.performance(m_200_epochs, valid = TRUE)"
   ]
  },
  {
   "cell_type": "code",
   "execution_count": 19,
   "id": "6734d9e6",
   "metadata": {},
   "outputs": [
    {
     "data": {
      "image/png": "[encoded data removed]",
      "text/plain": [
       "Plot with title \"Scoring History\""
      ]
     },
     "metadata": {},
     "output_type": "display_data"
    }
   ],
   "source": [
    "plot(m_200_epochs)"
   ]
  },
  {
   "cell_type": "code",
   "execution_count": 21,
   "id": "2f58f4fa",
   "metadata": {},
   "outputs": [
    {
     "data": {
      "text/html": [
       "<table>\n",
       "<thead><tr><th scope=col>timestamp</th><th scope=col>duration</th><th scope=col>training_speed</th><th scope=col>epochs</th><th scope=col>iterations</th><th scope=col>samples</th><th scope=col>training_rmse</th><th scope=col>training_logloss</th><th scope=col>training_r2</th><th scope=col>training_auc</th><th scope=col>training_pr_auc</th><th scope=col>training_lift</th><th scope=col>training_classification_error</th><th scope=col>validation_rmse</th><th scope=col>validation_logloss</th><th scope=col>validation_r2</th><th scope=col>validation_auc</th><th scope=col>validation_pr_auc</th><th scope=col>validation_lift</th><th scope=col>validation_classification_error</th></tr></thead>\n",
       "<tbody>\n",
       "\t<tr><td>2022-03-01 03:33:59</td><td> 0.000 sec         </td><td>NA                 </td><td> 0.000000          </td><td>  0                </td><td>      0            </td><td>      NaN          </td><td>       NaN         </td><td>       NaN         </td><td>      NaN          </td><td>      NaN          </td><td>     NaN           </td><td>       NaN         </td><td>      NaN          </td><td>      NaN          </td><td>       NaN         </td><td>      NaN          </td><td>      NaN          </td><td>     NaN           </td><td>       NaN         </td></tr>\n",
       "\t<tr><td>2022-03-01 03:34:04</td><td>33.609 sec         </td><td>835 obs/sec        </td><td> 0.120295          </td><td>  1                </td><td>   4241            </td><td>0.4840328          </td><td>0.65488762         </td><td>0.04959215         </td><td>0.6912100          </td><td>0.7580462          </td><td>1.788742           </td><td>0.39354710         </td><td>0.4830878          </td><td>0.6542962          </td><td>0.05799659         </td><td>0.6854775          </td><td>0.7440441          </td><td>1.826422           </td><td>0.42275281         </td></tr>\n",
       "\t<tr><td>2022-03-01 03:38:52</td><td> 5 min 35.307 sec  </td><td>1154 obs/sec       </td><td> 8.643426          </td><td> 71                </td><td> 304724            </td><td>0.2710612          </td><td>0.23369625         </td><td>0.70194595         </td><td>0.9672790          </td><td>0.9760871          </td><td>1.788742           </td><td>0.10396335         </td><td>0.3062471          </td><td>0.2902133          </td><td>0.62143160         </td><td>0.9470697          </td><td>0.9588434          </td><td>1.826422           </td><td>0.13389513         </td></tr>\n",
       "\t<tr><td>2022-03-01 03:46:03</td><td>12 min 41.078 sec  </td><td>1168 obs/sec       </td><td>21.635257          </td><td>178                </td><td> 762751            </td><td>0.2141162          </td><td>0.14634441         </td><td>0.81402296         </td><td>0.9892969          </td><td>0.9919739          </td><td>1.788742           </td><td>0.05596495         </td><td>0.2967622          </td><td>0.3145914          </td><td>0.64451805         </td><td>0.9588584          </td><td>0.9675040          </td><td>1.826422           </td><td>0.10931648         </td></tr>\n",
       "\t<tr><td>2022-03-01 03:52:16</td><td>18 min 45.230 sec  </td><td>1187 obs/sec       </td><td>33.304354          </td><td>274                </td><td>1174145            </td><td>0.1661420          </td><td>0.09152773         </td><td>0.88802541         </td><td>0.9951258          </td><td>0.9962958          </td><td>1.788742           </td><td>0.03604860         </td><td>0.2923495          </td><td>0.3642063          </td><td>0.65501122         </td><td>0.9553639          </td><td>0.9629944          </td><td>1.826422           </td><td>0.11001873         </td></tr>\n",
       "\t<tr><td>2022-03-01 03:57:01</td><td>23 min 19.457 sec  </td><td>1197 obs/sec       </td><td>42.291051          </td><td>348                </td><td>1490971            </td><td>0.1789403          </td><td>0.10019758         </td><td>0.87010969         </td><td>0.9962978          </td><td>0.9971541          </td><td>1.788742           </td><td>0.03395738         </td><td>0.3106921          </td><td>0.4686291          </td><td>0.61036253         </td><td>0.9524401          </td><td>0.9574256          </td><td>1.826422           </td><td>0.11352996         </td></tr>\n",
       "\t<tr><td>2022-03-01 04:00:01</td><td>26 min 31.101 sec  </td><td>1207 obs/sec       </td><td>48.219855          </td><td>397                </td><td>1699991            </td><td>0.1595414          </td><td>0.08312587         </td><td>0.89674587         </td><td>0.9971944          </td><td>0.9978485          </td><td>1.788742           </td><td>0.02559251         </td><td>0.3062116          </td><td>0.5120478          </td><td>0.62151923         </td><td>0.9504716          </td><td>0.9595808          </td><td>1.823485           </td><td>0.11048689         </td></tr>\n",
       "\t<tr><td>2022-03-01 04:04:56</td><td>31 min 51.361 sec  </td><td>1199 obs/sec       </td><td>56.954701          </td><td>469                </td><td>2007938            </td><td>0.1728149          </td><td>0.09911113         </td><td>0.87885022         </td><td>0.9961422          </td><td>0.9970843          </td><td>1.788742           </td><td>0.03365863         </td><td>0.3144873          </td><td>0.6463727          </td><td>0.60078510         </td><td>0.9434991          </td><td>0.9562238          </td><td>1.826422           </td><td>0.11095506         </td></tr>\n",
       "\t<tr><td>2022-03-01 04:14:00</td><td>40 min 27.676 sec  </td><td>1186 obs/sec       </td><td>72.824507          </td><td>600                </td><td>2567428            </td><td>0.1309894          </td><td>0.05637288         </td><td>0.93039624         </td><td>0.9984808          </td><td>0.9988185          </td><td>1.788742           </td><td>0.01832304         </td><td>0.3014114          </td><td>0.6450632          </td><td>0.63329248         </td><td>0.9457973          </td><td>0.9473044          </td><td>1.820524           </td><td>0.10182584         </td></tr>\n",
       "\t<tr><td>2022-03-01 04:18:27</td><td>44 min 59.018 sec  </td><td>1175 obs/sec       </td><td>80.112126          </td><td>660                </td><td>2824353            </td><td>0.1265325          </td><td>0.05203944         </td><td>0.93505223         </td><td>0.9987741          </td><td>0.9990539          </td><td>1.788742           </td><td>0.01702848         </td><td>0.3007375          </td><td>0.6604577          </td><td>0.63493058         </td><td>0.9461393          </td><td>0.9472239          </td><td>1.820784           </td><td>0.09995318         </td></tr>\n",
       "\t<tr><td>2022-03-01 04:23:46</td><td>50 min 17.556 sec  </td><td>1172 obs/sec       </td><td>89.470798          </td><td>737                </td><td>3154293            </td><td>0.1293722          </td><td>0.05601912         </td><td>0.93210429         </td><td>0.9985975          </td><td>0.9989171          </td><td>1.788742           </td><td>0.02051384         </td><td>0.3064121          </td><td>0.7113857          </td><td>0.62102344         </td><td>0.9461722          </td><td>0.9439807          </td><td>1.822959           </td><td>0.10650749         </td></tr>\n",
       "\t<tr><td>2022-03-01 04:28:52</td><td>55 min 16.777 sec  </td><td>1170 obs/sec       </td><td>98.456474          </td><td>811                </td><td>3471083            </td><td>0.1092305          </td><td>0.04003740         </td><td>0.95159968         </td><td>0.9990901          </td><td>0.9993001          </td><td>1.788742           </td><td>0.01503685         </td><td>0.3029972          </td><td>0.7295438          </td><td>0.62942359         </td><td>0.9422602          </td><td>0.9389709          </td><td>1.823042           </td><td>0.10510300         </td></tr>\n",
       "\t<tr><td>2022-03-01 04:29:18</td><td>55 min 47.154 sec  </td><td>1169 obs/sec       </td><td>98.456474          </td><td>811                </td><td>3471083            </td><td>0.2710612          </td><td>0.23369625         </td><td>0.70194595         </td><td>0.9672790          </td><td>0.9760871          </td><td>1.788742           </td><td>0.10396335         </td><td>0.3062471          </td><td>0.2902133          </td><td>0.62143160         </td><td>0.9470697          </td><td>0.9588434          </td><td>1.826422           </td><td>0.13389513         </td></tr>\n",
       "</tbody>\n",
       "</table>\n"
      ],
      "text/latex": [
       "\\begin{tabular}{r|llllllllllllllllllll}\n",
       " timestamp & duration & training\\_speed & epochs & iterations & samples & training\\_rmse & training\\_logloss & training\\_r2 & training\\_auc & training\\_pr\\_auc & training\\_lift & training\\_classification\\_error & validation\\_rmse & validation\\_logloss & validation\\_r2 & validation\\_auc & validation\\_pr\\_auc & validation\\_lift & validation\\_classification\\_error\\\\\n",
       "\\hline\n",
       "\t 2022-03-01 03:33:59 &  0.000 sec          & NA                  &  0.000000           &   0                 &       0             &       NaN           &        NaN          &        NaN          &       NaN           &       NaN           &      NaN            &        NaN          &       NaN           &       NaN           &        NaN          &       NaN           &       NaN           &      NaN            &        NaN         \\\\\n",
       "\t 2022-03-01 03:34:04 & 33.609 sec          & 835 obs/sec         &  0.120295           &   1                 &    4241             & 0.4840328           & 0.65488762          & 0.04959215          & 0.6912100           & 0.7580462           & 1.788742            & 0.39354710          & 0.4830878           & 0.6542962           & 0.05799659          & 0.6854775           & 0.7440441           & 1.826422            & 0.42275281         \\\\\n",
       "\t 2022-03-01 03:38:52 &  5 min 35.307 sec   & 1154 obs/sec        &  8.643426           &  71                 &  304724             & 0.2710612           & 0.23369625          & 0.70194595          & 0.9672790           & 0.9760871           & 1.788742            & 0.10396335          & 0.3062471           & 0.2902133           & 0.62143160          & 0.9470697           & 0.9588434           & 1.826422            & 0.13389513         \\\\\n",
       "\t 2022-03-01 03:46:03 & 12 min 41.078 sec   & 1168 obs/sec        & 21.635257           & 178                 &  762751             & 0.2141162           & 0.14634441          & 0.81402296          & 0.9892969           & 0.9919739           & 1.788742            & 0.05596495          & 0.2967622           & 0.3145914           & 0.64451805          & 0.9588584           & 0.9675040           & 1.826422            & 0.10931648         \\\\\n",
       "\t 2022-03-01 03:52:16 & 18 min 45.230 sec   & 1187 obs/sec        & 33.304354           & 274                 & 1174145             & 0.1661420           & 0.09152773          & 0.88802541          & 0.9951258           & 0.9962958           & 1.788742            & 0.03604860          & 0.2923495           & 0.3642063           & 0.65501122          & 0.9553639           & 0.9629944           & 1.826422            & 0.11001873         \\\\\n",
       "\t 2022-03-01 03:57:01 & 23 min 19.457 sec   & 1197 obs/sec        & 42.291051           & 348                 & 1490971             & 0.1789403           & 0.10019758          & 0.87010969          & 0.9962978           & 0.9971541           & 1.788742            & 0.03395738          & 0.3106921           & 0.4686291           & 0.61036253          & 0.9524401           & 0.9574256           & 1.826422            & 0.11352996         \\\\\n",
       "\t 2022-03-01 04:00:01 & 26 min 31.101 sec   & 1207 obs/sec        & 48.219855           & 397                 & 1699991             & 0.1595414           & 0.08312587          & 0.89674587          & 0.9971944           & 0.9978485           & 1.788742            & 0.02559251          & 0.3062116           & 0.5120478           & 0.62151923          & 0.9504716           & 0.9595808           & 1.823485            & 0.11048689         \\\\\n",
       "\t 2022-03-01 04:04:56 & 31 min 51.361 sec   & 1199 obs/sec        & 56.954701           & 469                 & 2007938             & 0.1728149           & 0.09911113          & 0.87885022          & 0.9961422           & 0.9970843           & 1.788742            & 0.03365863          & 0.3144873           & 0.6463727           & 0.60078510          & 0.9434991           & 0.9562238           & 1.826422            & 0.11095506         \\\\\n",
       "\t 2022-03-01 04:14:00 & 40 min 27.676 sec   & 1186 obs/sec        & 72.824507           & 600                 & 2567428             & 0.1309894           & 0.05637288          & 0.93039624          & 0.9984808           & 0.9988185           & 1.788742            & 0.01832304          & 0.3014114           & 0.6450632           & 0.63329248          & 0.9457973           & 0.9473044           & 1.820524            & 0.10182584         \\\\\n",
       "\t 2022-03-01 04:18:27 & 44 min 59.018 sec   & 1175 obs/sec        & 80.112126           & 660                 & 2824353             & 0.1265325           & 0.05203944          & 0.93505223          & 0.9987741           & 0.9990539           & 1.788742            & 0.01702848          & 0.3007375           & 0.6604577           & 0.63493058          & 0.9461393           & 0.9472239           & 1.820784            & 0.09995318         \\\\\n",
       "\t 2022-03-01 04:23:46 & 50 min 17.556 sec   & 1172 obs/sec        & 89.470798           & 737                 & 3154293             & 0.1293722           & 0.05601912          & 0.93210429          & 0.9985975           & 0.9989171           & 1.788742            & 0.02051384          & 0.3064121           & 0.7113857           & 0.62102344          & 0.9461722           & 0.9439807           & 1.822959            & 0.10650749         \\\\\n",
       "\t 2022-03-01 04:28:52 & 55 min 16.777 sec   & 1170 obs/sec        & 98.456474           & 811                 & 3471083             & 0.1092305           & 0.04003740          & 0.95159968          & 0.9990901           & 0.9993001           & 1.788742            & 0.01503685          & 0.3029972           & 0.7295438           & 0.62942359          & 0.9422602           & 0.9389709           & 1.823042            & 0.10510300         \\\\\n",
       "\t 2022-03-01 04:29:18 & 55 min 47.154 sec   & 1169 obs/sec        & 98.456474           & 811                 & 3471083             & 0.2710612           & 0.23369625          & 0.70194595          & 0.9672790           & 0.9760871           & 1.788742            & 0.10396335          & 0.3062471           & 0.2902133           & 0.62143160          & 0.9470697           & 0.9588434           & 1.826422            & 0.13389513         \\\\\n",
       "\\end{tabular}\n"
      ],
      "text/markdown": [
       "\n",
       "| timestamp | duration | training_speed | epochs | iterations | samples | training_rmse | training_logloss | training_r2 | training_auc | training_pr_auc | training_lift | training_classification_error | validation_rmse | validation_logloss | validation_r2 | validation_auc | validation_pr_auc | validation_lift | validation_classification_error |\n",
       "|---|---|---|---|---|---|---|---|---|---|---|---|---|---|---|---|---|---|---|---|\n",
       "| 2022-03-01 03:33:59 |  0.000 sec          | NA                  |  0.000000           |   0                 |       0             |       NaN           |        NaN          |        NaN          |       NaN           |       NaN           |      NaN            |        NaN          |       NaN           |       NaN           |        NaN          |       NaN           |       NaN           |      NaN            |        NaN          |\n",
       "| 2022-03-01 03:34:04 | 33.609 sec          | 835 obs/sec         |  0.120295           |   1                 |    4241             | 0.4840328           | 0.65488762          | 0.04959215          | 0.6912100           | 0.7580462           | 1.788742            | 0.39354710          | 0.4830878           | 0.6542962           | 0.05799659          | 0.6854775           | 0.7440441           | 1.826422            | 0.42275281          |\n",
       "| 2022-03-01 03:38:52 |  5 min 35.307 sec   | 1154 obs/sec        |  8.643426           |  71                 |  304724             | 0.2710612           | 0.23369625          | 0.70194595          | 0.9672790           | 0.9760871           | 1.788742            | 0.10396335          | 0.3062471           | 0.2902133           | 0.62143160          | 0.9470697           | 0.9588434           | 1.826422            | 0.13389513          |\n",
       "| 2022-03-01 03:46:03 | 12 min 41.078 sec   | 1168 obs/sec        | 21.635257           | 178                 |  762751             | 0.2141162           | 0.14634441          | 0.81402296          | 0.9892969           | 0.9919739           | 1.788742            | 0.05596495          | 0.2967622           | 0.3145914           | 0.64451805          | 0.9588584           | 0.9675040           | 1.826422            | 0.10931648          |\n",
       "| 2022-03-01 03:52:16 | 18 min 45.230 sec   | 1187 obs/sec        | 33.304354           | 274                 | 1174145             | 0.1661420           | 0.09152773          | 0.88802541          | 0.9951258           | 0.9962958           | 1.788742            | 0.03604860          | 0.2923495           | 0.3642063           | 0.65501122          | 0.9553639           | 0.9629944           | 1.826422            | 0.11001873          |\n",
       "| 2022-03-01 03:57:01 | 23 min 19.457 sec   | 1197 obs/sec        | 42.291051           | 348                 | 1490971             | 0.1789403           | 0.10019758          | 0.87010969          | 0.9962978           | 0.9971541           | 1.788742            | 0.03395738          | 0.3106921           | 0.4686291           | 0.61036253          | 0.9524401           | 0.9574256           | 1.826422            | 0.11352996          |\n",
       "| 2022-03-01 04:00:01 | 26 min 31.101 sec   | 1207 obs/sec        | 48.219855           | 397                 | 1699991             | 0.1595414           | 0.08312587          | 0.89674587          | 0.9971944           | 0.9978485           | 1.788742            | 0.02559251          | 0.3062116           | 0.5120478           | 0.62151923          | 0.9504716           | 0.9595808           | 1.823485            | 0.11048689          |\n",
       "| 2022-03-01 04:04:56 | 31 min 51.361 sec   | 1199 obs/sec        | 56.954701           | 469                 | 2007938             | 0.1728149           | 0.09911113          | 0.87885022          | 0.9961422           | 0.9970843           | 1.788742            | 0.03365863          | 0.3144873           | 0.6463727           | 0.60078510          | 0.9434991           | 0.9562238           | 1.826422            | 0.11095506          |\n",
       "| 2022-03-01 04:14:00 | 40 min 27.676 sec   | 1186 obs/sec        | 72.824507           | 600                 | 2567428             | 0.1309894           | 0.05637288          | 0.93039624          | 0.9984808           | 0.9988185           | 1.788742            | 0.01832304          | 0.3014114           | 0.6450632           | 0.63329248          | 0.9457973           | 0.9473044           | 1.820524            | 0.10182584          |\n",
       "| 2022-03-01 04:18:27 | 44 min 59.018 sec   | 1175 obs/sec        | 80.112126           | 660                 | 2824353             | 0.1265325           | 0.05203944          | 0.93505223          | 0.9987741           | 0.9990539           | 1.788742            | 0.01702848          | 0.3007375           | 0.6604577           | 0.63493058          | 0.9461393           | 0.9472239           | 1.820784            | 0.09995318          |\n",
       "| 2022-03-01 04:23:46 | 50 min 17.556 sec   | 1172 obs/sec        | 89.470798           | 737                 | 3154293             | 0.1293722           | 0.05601912          | 0.93210429          | 0.9985975           | 0.9989171           | 1.788742            | 0.02051384          | 0.3064121           | 0.7113857           | 0.62102344          | 0.9461722           | 0.9439807           | 1.822959            | 0.10650749          |\n",
       "| 2022-03-01 04:28:52 | 55 min 16.777 sec   | 1170 obs/sec        | 98.456474           | 811                 | 3471083             | 0.1092305           | 0.04003740          | 0.95159968          | 0.9990901           | 0.9993001           | 1.788742            | 0.01503685          | 0.3029972           | 0.7295438           | 0.62942359          | 0.9422602           | 0.9389709           | 1.823042            | 0.10510300          |\n",
       "| 2022-03-01 04:29:18 | 55 min 47.154 sec   | 1169 obs/sec        | 98.456474           | 811                 | 3471083             | 0.2710612           | 0.23369625          | 0.70194595          | 0.9672790           | 0.9760871           | 1.788742            | 0.10396335          | 0.3062471           | 0.2902133           | 0.62143160          | 0.9470697           | 0.9588434           | 1.826422            | 0.13389513          |\n",
       "\n"
      ],
      "text/plain": [
       "   timestamp           duration          training_speed epochs    iterations\n",
       "1  2022-03-01 03:33:59  0.000 sec        NA              0.000000   0       \n",
       "2  2022-03-01 03:34:04 33.609 sec        835 obs/sec     0.120295   1       \n",
       "3  2022-03-01 03:38:52  5 min 35.307 sec 1154 obs/sec    8.643426  71       \n",
       "4  2022-03-01 03:46:03 12 min 41.078 sec 1168 obs/sec   21.635257 178       \n",
       "5  2022-03-01 03:52:16 18 min 45.230 sec 1187 obs/sec   33.304354 274       \n",
       "6  2022-03-01 03:57:01 23 min 19.457 sec 1197 obs/sec   42.291051 348       \n",
       "7  2022-03-01 04:00:01 26 min 31.101 sec 1207 obs/sec   48.219855 397       \n",
       "8  2022-03-01 04:04:56 31 min 51.361 sec 1199 obs/sec   56.954701 469       \n",
       "9  2022-03-01 04:14:00 40 min 27.676 sec 1186 obs/sec   72.824507 600       \n",
       "10 2022-03-01 04:18:27 44 min 59.018 sec 1175 obs/sec   80.112126 660       \n",
       "11 2022-03-01 04:23:46 50 min 17.556 sec 1172 obs/sec   89.470798 737       \n",
       "12 2022-03-01 04:28:52 55 min 16.777 sec 1170 obs/sec   98.456474 811       \n",
       "13 2022-03-01 04:29:18 55 min 47.154 sec 1169 obs/sec   98.456474 811       \n",
       "   samples training_rmse training_logloss training_r2 training_auc\n",
       "1        0       NaN            NaN              NaN        NaN   \n",
       "2     4241 0.4840328     0.65488762       0.04959215  0.6912100   \n",
       "3   304724 0.2710612     0.23369625       0.70194595  0.9672790   \n",
       "4   762751 0.2141162     0.14634441       0.81402296  0.9892969   \n",
       "5  1174145 0.1661420     0.09152773       0.88802541  0.9951258   \n",
       "6  1490971 0.1789403     0.10019758       0.87010969  0.9962978   \n",
       "7  1699991 0.1595414     0.08312587       0.89674587  0.9971944   \n",
       "8  2007938 0.1728149     0.09911113       0.87885022  0.9961422   \n",
       "9  2567428 0.1309894     0.05637288       0.93039624  0.9984808   \n",
       "10 2824353 0.1265325     0.05203944       0.93505223  0.9987741   \n",
       "11 3154293 0.1293722     0.05601912       0.93210429  0.9985975   \n",
       "12 3471083 0.1092305     0.04003740       0.95159968  0.9990901   \n",
       "13 3471083 0.2710612     0.23369625       0.70194595  0.9672790   \n",
       "   training_pr_auc training_lift training_classification_error validation_rmse\n",
       "1        NaN            NaN             NaN                          NaN      \n",
       "2  0.7580462       1.788742      0.39354710                    0.4830878      \n",
       "3  0.9760871       1.788742      0.10396335                    0.3062471      \n",
       "4  0.9919739       1.788742      0.05596495                    0.2967622      \n",
       "5  0.9962958       1.788742      0.03604860                    0.2923495      \n",
       "6  0.9971541       1.788742      0.03395738                    0.3106921      \n",
       "7  0.9978485       1.788742      0.02559251                    0.3062116      \n",
       "8  0.9970843       1.788742      0.03365863                    0.3144873      \n",
       "9  0.9988185       1.788742      0.01832304                    0.3014114      \n",
       "10 0.9990539       1.788742      0.01702848                    0.3007375      \n",
       "11 0.9989171       1.788742      0.02051384                    0.3064121      \n",
       "12 0.9993001       1.788742      0.01503685                    0.3029972      \n",
       "13 0.9760871       1.788742      0.10396335                    0.3062471      \n",
       "   validation_logloss validation_r2 validation_auc validation_pr_auc\n",
       "1        NaN                 NaN          NaN            NaN        \n",
       "2  0.6542962          0.05799659    0.6854775      0.7440441        \n",
       "3  0.2902133          0.62143160    0.9470697      0.9588434        \n",
       "4  0.3145914          0.64451805    0.9588584      0.9675040        \n",
       "5  0.3642063          0.65501122    0.9553639      0.9629944        \n",
       "6  0.4686291          0.61036253    0.9524401      0.9574256        \n",
       "7  0.5120478          0.62151923    0.9504716      0.9595808        \n",
       "8  0.6463727          0.60078510    0.9434991      0.9562238        \n",
       "9  0.6450632          0.63329248    0.9457973      0.9473044        \n",
       "10 0.6604577          0.63493058    0.9461393      0.9472239        \n",
       "11 0.7113857          0.62102344    0.9461722      0.9439807        \n",
       "12 0.7295438          0.62942359    0.9422602      0.9389709        \n",
       "13 0.2902133          0.62143160    0.9470697      0.9588434        \n",
       "   validation_lift validation_classification_error\n",
       "1       NaN               NaN                     \n",
       "2  1.826422        0.42275281                     \n",
       "3  1.826422        0.13389513                     \n",
       "4  1.826422        0.10931648                     \n",
       "5  1.826422        0.11001873                     \n",
       "6  1.826422        0.11352996                     \n",
       "7  1.823485        0.11048689                     \n",
       "8  1.826422        0.11095506                     \n",
       "9  1.820524        0.10182584                     \n",
       "10 1.820784        0.09995318                     \n",
       "11 1.822959        0.10650749                     \n",
       "12 1.823042        0.10510300                     \n",
       "13 1.826422        0.13389513                     "
      ]
     },
     "metadata": {},
     "output_type": "display_data"
    }
   ],
   "source": [
    "h2o.scoreHistory(m_200_epochs)"
   ]
  },
  {
   "cell_type": "code",
   "execution_count": null,
   "id": "b5b85bb8",
   "metadata": {},
   "outputs": [],
   "source": []
  },
  {
   "cell_type": "code",
   "execution_count": 20,
   "id": "b529908e",
   "metadata": {},
   "outputs": [
    {
     "name": "stdout",
     "output_type": "stream",
     "text": [
      "  |======================================================================| 100%\n"
     ]
    }
   ],
   "source": [
    "m_200x200x200 <- h2o.deeplearning(xAll, y, train, \n",
    "                                 validation_frame = valid,\n",
    "                                 epochs =200,\n",
    "                                 hidden = c(200,200,200))"
   ]
  },
  {
   "cell_type": "code",
   "execution_count": 22,
   "id": "e46b6c8e",
   "metadata": {},
   "outputs": [
    {
     "data": {
      "text/plain": [
       "H2OBinomialMetrics: deeplearning\n",
       "** Reported on validation data. **\n",
       "** Metrics reported on full validation frame **\n",
       "\n",
       "MSE:  0.111937\n",
       "RMSE:  0.3345699\n",
       "LogLoss:  0.3538605\n",
       "Mean Per-Class Error:  0.1533909\n",
       "AUC:  0.9303971\n",
       "AUCPR:  0.9460673\n",
       "Gini:  0.8607943\n",
       "\n",
       "Confusion Matrix (vertical: actual; across: predicted) for F1-optimal threshold:\n",
       "         NO  YES    Error       Rate\n",
       "NO     1578  355 0.183652  =355/1933\n",
       "YES     288 2051 0.123130  =288/2339\n",
       "Totals 1866 2406 0.150515  =643/4272\n",
       "\n",
       "Maximum Metrics: Maximum metrics at their respective thresholds\n",
       "                        metric threshold       value idx\n",
       "1                       max f1  0.575699    0.864489 180\n",
       "2                       max f2  0.236425    0.906912 305\n",
       "3                 max f0point5  0.822364    0.886689  90\n",
       "4                 max accuracy  0.704805    0.850890 132\n",
       "5                max precision  0.999343    0.997704   1\n",
       "6                   max recall  0.002552    1.000000 395\n",
       "7              max specificity  0.999969    0.998965   0\n",
       "8             max absolute_mcc  0.704805    0.705800 132\n",
       "9   max min_per_class_accuracy  0.625499    0.848653 160\n",
       "10 max mean_per_class_accuracy  0.704805    0.854492 132\n",
       "11                     max tns  0.999969 1931.000000   0\n",
       "12                     max fns  0.999969 1546.000000   0\n",
       "13                     max fps  0.000113 1933.000000 399\n",
       "14                     max tps  0.002552 2339.000000 395\n",
       "15                     max tnr  0.999969    0.998965   0\n",
       "16                     max fnr  0.999969    0.660966   0\n",
       "17                     max fpr  0.000113    1.000000 399\n",
       "18                     max tpr  0.002552    1.000000 395\n",
       "\n",
       "Gains/Lift Table: Extract with `h2o.gainsLift(<model>, <data>)` or `h2o.gainsLift(<model>, valid=<T/F>, xval=<T/F>)`"
      ]
     },
     "metadata": {},
     "output_type": "display_data"
    }
   ],
   "source": [
    "h2o.performance(m_200x200x200, valid = TRUE)"
   ]
  },
  {
   "cell_type": "code",
   "execution_count": 23,
   "id": "9644179a",
   "metadata": {},
   "outputs": [
    {
     "data": {
      "image/png": "[encoded data removed]",
      "text/plain": [
       "Plot with title \"Scoring History\""
      ]
     },
     "metadata": {},
     "output_type": "display_data"
    }
   ],
   "source": [
    "plot(m_200x200x200)"
   ]
  },
  {
   "cell_type": "code",
   "execution_count": 24,
   "id": "64b5970c",
   "metadata": {},
   "outputs": [
    {
     "data": {
      "text/html": [
       "<table>\n",
       "<thead><tr><th scope=col>timestamp</th><th scope=col>duration</th><th scope=col>training_speed</th><th scope=col>epochs</th><th scope=col>iterations</th><th scope=col>samples</th><th scope=col>training_rmse</th><th scope=col>training_logloss</th><th scope=col>training_r2</th><th scope=col>training_auc</th><th scope=col>training_pr_auc</th><th scope=col>training_lift</th><th scope=col>training_classification_error</th><th scope=col>validation_rmse</th><th scope=col>validation_logloss</th><th scope=col>validation_r2</th><th scope=col>validation_auc</th><th scope=col>validation_pr_auc</th><th scope=col>validation_lift</th><th scope=col>validation_classification_error</th></tr></thead>\n",
       "<tbody>\n",
       "\t<tr><td>2022-03-01 04:29:48</td><td> 0.000 sec         </td><td>NA                 </td><td> 0.000000          </td><td>  0                </td><td>      0            </td><td>      NaN          </td><td>       NaN         </td><td>       NaN         </td><td>      NaN          </td><td>      NaN          </td><td>     NaN           </td><td>       NaN         </td><td>      NaN          </td><td>      NaN          </td><td>       NaN         </td><td>      NaN          </td><td>      NaN          </td><td>     NaN           </td><td>      NaN          </td></tr>\n",
       "\t<tr><td>2022-03-01 04:29:54</td><td>25.964 sec         </td><td>735 obs/sec        </td><td> 0.114310          </td><td>  1                </td><td>   4030            </td><td>0.5315621          </td><td>0.76963694         </td><td>-0.1445265         </td><td>0.6601023          </td><td>0.7292631          </td><td>1.798961           </td><td>0.38446215         </td><td>0.5351626          </td><td>0.7795812          </td><td>-0.1560373         </td><td>0.6751640          </td><td>0.7336182          </td><td>1.826422           </td><td>0.3897472          </td></tr>\n",
       "\t<tr><td>2022-03-01 04:33:22</td><td> 3 min 56.198 sec  </td><td>851 obs/sec        </td><td> 4.667508          </td><td> 40                </td><td> 164553            </td><td>0.3490458          </td><td>0.36926666         </td><td> 0.5065051         </td><td>0.9256029          </td><td>0.9427838          </td><td>1.798961           </td><td>0.15627490         </td><td>0.3715220          </td><td>0.4162559          </td><td> 0.4428534         </td><td>0.9008308          </td><td>0.9233799          </td><td>1.826422           </td><td>0.1896067          </td></tr>\n",
       "\t<tr><td>2022-03-01 04:37:07</td><td> 7 min 39.426 sec  </td><td>875 obs/sec        </td><td> 9.834038          </td><td> 84                </td><td> 346699            </td><td>0.2792242          </td><td>0.24166519         </td><td> 0.6841914         </td><td>0.9687702          </td><td>0.9764424          </td><td>1.798961           </td><td>0.09960159         </td><td>0.3345699          </td><td>0.3538605          </td><td> 0.5481710         </td><td>0.9303971          </td><td>0.9460673          </td><td>1.826422           </td><td>0.1505150          </td></tr>\n",
       "\t<tr><td>2022-03-01 04:40:31</td><td>11 min  5.710 sec  </td><td>876 obs/sec        </td><td>14.409162          </td><td>123                </td><td> 507995            </td><td>0.2735222          </td><td>0.23035558         </td><td> 0.6969579         </td><td>0.9814368          </td><td>0.9856605          </td><td>1.798961           </td><td>0.07798805         </td><td>0.3508886          </td><td>0.4698366          </td><td> 0.5030200         </td><td>0.9356670          </td><td>0.9498506          </td><td>1.826422           </td><td>0.1402154          </td></tr>\n",
       "\t<tr><td>2022-03-01 04:44:17</td><td>14 min 51.734 sec  </td><td>891 obs/sec        </td><td>19.793419          </td><td>169                </td><td> 697817            </td><td>0.2040341          </td><td>0.13391592         </td><td> 0.8313744         </td><td>0.9899468          </td><td>0.9922399          </td><td>1.798961           </td><td>0.05278884         </td><td>0.3253389          </td><td>0.4584670          </td><td> 0.5727596         </td><td>0.9374173          </td><td>0.9494973          </td><td>1.826422           </td><td>0.1331929          </td></tr>\n",
       "\t<tr><td>2022-03-01 04:48:06</td><td>18 min 45.979 sec  </td><td>922 obs/sec        </td><td>25.874004          </td><td>221                </td><td> 912188            </td><td>0.1945939          </td><td>0.12096325         </td><td> 0.8466173         </td><td>0.9922959          </td><td>0.9941436          </td><td>1.798961           </td><td>0.04890438         </td><td>0.3275108          </td><td>0.5097751          </td><td> 0.5670361         </td><td>0.9358070          </td><td>0.9447642          </td><td>1.826422           </td><td>0.1282772          </td></tr>\n",
       "\t<tr><td>2022-03-01 07:39:22</td><td> 3:09:54.577       </td><td>90 obs/sec         </td><td>28.803007          </td><td>246                </td><td>1015450            </td><td>0.1842653          </td><td>0.10864351         </td><td> 0.8624676         </td><td>0.9929816          </td><td>0.9944700          </td><td>1.798961           </td><td>0.04511952         </td><td>0.3270659          </td><td>0.6344604          </td><td> 0.5682115         </td><td>0.9294107          </td><td>0.9259651          </td><td>1.826422           </td><td>0.1331929          </td></tr>\n",
       "\t<tr><td>2022-03-01 07:42:47</td><td> 3:14:14.324       </td><td>101 obs/sec        </td><td>33.012566          </td><td>282                </td><td>1163858            </td><td>0.1678970          </td><td>0.09158059         </td><td> 0.8858164         </td><td>0.9948523          </td><td>0.9958679          </td><td>1.798961           </td><td>0.04003984         </td><td>0.3295919          </td><td>0.6369306          </td><td> 0.5615163         </td><td>0.9311625          </td><td>0.9326235          </td><td>1.823408           </td><td>0.1303839          </td></tr>\n",
       "\t<tr><td>2022-03-01 07:55:21</td><td> 3:26:05.127       </td><td>145 obs/sec        </td><td>49.850858          </td><td>426                </td><td>1757492            </td><td>0.1683367          </td><td>0.09029520         </td><td> 0.8852175         </td><td>0.9955711          </td><td>0.9964792          </td><td>1.798961           </td><td>0.03605578         </td><td>0.3305723          </td><td>0.6734727          </td><td> 0.5589038         </td><td>0.9269623          </td><td>0.9267950          </td><td>1.823372           </td><td>0.1315543          </td></tr>\n",
       "\t<tr><td>2022-03-01 08:00:50</td><td> 3:31:22.850       </td><td>162 obs/sec        </td><td>57.102992          </td><td>488                </td><td>2013166            </td><td>0.1608359          </td><td>0.08611204         </td><td> 0.8952186         </td><td>0.9962019          </td><td>0.9970603          </td><td>1.798961           </td><td>0.03296813         </td><td>0.3261077          </td><td>0.6729104          </td><td> 0.5707380         </td><td>0.9314524          </td><td>0.9340825          </td><td>1.823457           </td><td>0.1259363          </td></tr>\n",
       "\t<tr><td>2022-03-01 08:04:22</td><td> 3:34:55.441       </td><td>173 obs/sec        </td><td>61.908495          </td><td>529                </td><td>2182584            </td><td>0.1688842          </td><td>0.09293254         </td><td> 0.8844696         </td><td>0.9958003          </td><td>0.9964024          </td><td>1.798961           </td><td>0.03436255         </td><td>0.3385423          </td><td>0.8836214          </td><td> 0.5373779         </td><td>0.9200378          </td><td>0.9116169          </td><td>1.823993           </td><td>0.1348315          </td></tr>\n",
       "\t<tr><td>2022-03-01 08:04:44</td><td> 3:35:26.898       </td><td>173 obs/sec        </td><td>61.908495          </td><td>529                </td><td>2182584            </td><td>0.2792242          </td><td>0.24166519         </td><td> 0.6841914         </td><td>0.9687702          </td><td>0.9764424          </td><td>1.798961           </td><td>0.09960159         </td><td>0.3345699          </td><td>0.3538605          </td><td> 0.5481710         </td><td>0.9303971          </td><td>0.9460673          </td><td>1.826422           </td><td>0.1505150          </td></tr>\n",
       "</tbody>\n",
       "</table>\n"
      ],
      "text/latex": [
       "\\begin{tabular}{r|llllllllllllllllllll}\n",
       " timestamp & duration & training\\_speed & epochs & iterations & samples & training\\_rmse & training\\_logloss & training\\_r2 & training\\_auc & training\\_pr\\_auc & training\\_lift & training\\_classification\\_error & validation\\_rmse & validation\\_logloss & validation\\_r2 & validation\\_auc & validation\\_pr\\_auc & validation\\_lift & validation\\_classification\\_error\\\\\n",
       "\\hline\n",
       "\t 2022-03-01 04:29:48 &  0.000 sec          & NA                  &  0.000000           &   0                 &       0             &       NaN           &        NaN          &        NaN          &       NaN           &       NaN           &      NaN            &        NaN          &       NaN           &       NaN           &        NaN          &       NaN           &       NaN           &      NaN            &       NaN          \\\\\n",
       "\t 2022-03-01 04:29:54 & 25.964 sec          & 735 obs/sec         &  0.114310           &   1                 &    4030             & 0.5315621           & 0.76963694          & -0.1445265          & 0.6601023           & 0.7292631           & 1.798961            & 0.38446215          & 0.5351626           & 0.7795812           & -0.1560373          & 0.6751640           & 0.7336182           & 1.826422            & 0.3897472          \\\\\n",
       "\t 2022-03-01 04:33:22 &  3 min 56.198 sec   & 851 obs/sec         &  4.667508           &  40                 &  164553             & 0.3490458           & 0.36926666          &  0.5065051          & 0.9256029           & 0.9427838           & 1.798961            & 0.15627490          & 0.3715220           & 0.4162559           &  0.4428534          & 0.9008308           & 0.9233799           & 1.826422            & 0.1896067          \\\\\n",
       "\t 2022-03-01 04:37:07 &  7 min 39.426 sec   & 875 obs/sec         &  9.834038           &  84                 &  346699             & 0.2792242           & 0.24166519          &  0.6841914          & 0.9687702           & 0.9764424           & 1.798961            & 0.09960159          & 0.3345699           & 0.3538605           &  0.5481710          & 0.9303971           & 0.9460673           & 1.826422            & 0.1505150          \\\\\n",
       "\t 2022-03-01 04:40:31 & 11 min  5.710 sec   & 876 obs/sec         & 14.409162           & 123                 &  507995             & 0.2735222           & 0.23035558          &  0.6969579          & 0.9814368           & 0.9856605           & 1.798961            & 0.07798805          & 0.3508886           & 0.4698366           &  0.5030200          & 0.9356670           & 0.9498506           & 1.826422            & 0.1402154          \\\\\n",
       "\t 2022-03-01 04:44:17 & 14 min 51.734 sec   & 891 obs/sec         & 19.793419           & 169                 &  697817             & 0.2040341           & 0.13391592          &  0.8313744          & 0.9899468           & 0.9922399           & 1.798961            & 0.05278884          & 0.3253389           & 0.4584670           &  0.5727596          & 0.9374173           & 0.9494973           & 1.826422            & 0.1331929          \\\\\n",
       "\t 2022-03-01 04:48:06 & 18 min 45.979 sec   & 922 obs/sec         & 25.874004           & 221                 &  912188             & 0.1945939           & 0.12096325          &  0.8466173          & 0.9922959           & 0.9941436           & 1.798961            & 0.04890438          & 0.3275108           & 0.5097751           &  0.5670361          & 0.9358070           & 0.9447642           & 1.826422            & 0.1282772          \\\\\n",
       "\t 2022-03-01 07:39:22 &  3:09:54.577        & 90 obs/sec          & 28.803007           & 246                 & 1015450             & 0.1842653           & 0.10864351          &  0.8624676          & 0.9929816           & 0.9944700           & 1.798961            & 0.04511952          & 0.3270659           & 0.6344604           &  0.5682115          & 0.9294107           & 0.9259651           & 1.826422            & 0.1331929          \\\\\n",
       "\t 2022-03-01 07:42:47 &  3:14:14.324        & 101 obs/sec         & 33.012566           & 282                 & 1163858             & 0.1678970           & 0.09158059          &  0.8858164          & 0.9948523           & 0.9958679           & 1.798961            & 0.04003984          & 0.3295919           & 0.6369306           &  0.5615163          & 0.9311625           & 0.9326235           & 1.823408            & 0.1303839          \\\\\n",
       "\t 2022-03-01 07:55:21 &  3:26:05.127        & 145 obs/sec         & 49.850858           & 426                 & 1757492             & 0.1683367           & 0.09029520          &  0.8852175          & 0.9955711           & 0.9964792           & 1.798961            & 0.03605578          & 0.3305723           & 0.6734727           &  0.5589038          & 0.9269623           & 0.9267950           & 1.823372            & 0.1315543          \\\\\n",
       "\t 2022-03-01 08:00:50 &  3:31:22.850        & 162 obs/sec         & 57.102992           & 488                 & 2013166             & 0.1608359           & 0.08611204          &  0.8952186          & 0.9962019           & 0.9970603           & 1.798961            & 0.03296813          & 0.3261077           & 0.6729104           &  0.5707380          & 0.9314524           & 0.9340825           & 1.823457            & 0.1259363          \\\\\n",
       "\t 2022-03-01 08:04:22 &  3:34:55.441        & 173 obs/sec         & 61.908495           & 529                 & 2182584             & 0.1688842           & 0.09293254          &  0.8844696          & 0.9958003           & 0.9964024           & 1.798961            & 0.03436255          & 0.3385423           & 0.8836214           &  0.5373779          & 0.9200378           & 0.9116169           & 1.823993            & 0.1348315          \\\\\n",
       "\t 2022-03-01 08:04:44 &  3:35:26.898        & 173 obs/sec         & 61.908495           & 529                 & 2182584             & 0.2792242           & 0.24166519          &  0.6841914          & 0.9687702           & 0.9764424           & 1.798961            & 0.09960159          & 0.3345699           & 0.3538605           &  0.5481710          & 0.9303971           & 0.9460673           & 1.826422            & 0.1505150          \\\\\n",
       "\\end{tabular}\n"
      ],
      "text/markdown": [
       "\n",
       "| timestamp | duration | training_speed | epochs | iterations | samples | training_rmse | training_logloss | training_r2 | training_auc | training_pr_auc | training_lift | training_classification_error | validation_rmse | validation_logloss | validation_r2 | validation_auc | validation_pr_auc | validation_lift | validation_classification_error |\n",
       "|---|---|---|---|---|---|---|---|---|---|---|---|---|---|---|---|---|---|---|---|\n",
       "| 2022-03-01 04:29:48 |  0.000 sec          | NA                  |  0.000000           |   0                 |       0             |       NaN           |        NaN          |        NaN          |       NaN           |       NaN           |      NaN            |        NaN          |       NaN           |       NaN           |        NaN          |       NaN           |       NaN           |      NaN            |       NaN           |\n",
       "| 2022-03-01 04:29:54 | 25.964 sec          | 735 obs/sec         |  0.114310           |   1                 |    4030             | 0.5315621           | 0.76963694          | -0.1445265          | 0.6601023           | 0.7292631           | 1.798961            | 0.38446215          | 0.5351626           | 0.7795812           | -0.1560373          | 0.6751640           | 0.7336182           | 1.826422            | 0.3897472           |\n",
       "| 2022-03-01 04:33:22 |  3 min 56.198 sec   | 851 obs/sec         |  4.667508           |  40                 |  164553             | 0.3490458           | 0.36926666          |  0.5065051          | 0.9256029           | 0.9427838           | 1.798961            | 0.15627490          | 0.3715220           | 0.4162559           |  0.4428534          | 0.9008308           | 0.9233799           | 1.826422            | 0.1896067           |\n",
       "| 2022-03-01 04:37:07 |  7 min 39.426 sec   | 875 obs/sec         |  9.834038           |  84                 |  346699             | 0.2792242           | 0.24166519          |  0.6841914          | 0.9687702           | 0.9764424           | 1.798961            | 0.09960159          | 0.3345699           | 0.3538605           |  0.5481710          | 0.9303971           | 0.9460673           | 1.826422            | 0.1505150           |\n",
       "| 2022-03-01 04:40:31 | 11 min  5.710 sec   | 876 obs/sec         | 14.409162           | 123                 |  507995             | 0.2735222           | 0.23035558          |  0.6969579          | 0.9814368           | 0.9856605           | 1.798961            | 0.07798805          | 0.3508886           | 0.4698366           |  0.5030200          | 0.9356670           | 0.9498506           | 1.826422            | 0.1402154           |\n",
       "| 2022-03-01 04:44:17 | 14 min 51.734 sec   | 891 obs/sec         | 19.793419           | 169                 |  697817             | 0.2040341           | 0.13391592          |  0.8313744          | 0.9899468           | 0.9922399           | 1.798961            | 0.05278884          | 0.3253389           | 0.4584670           |  0.5727596          | 0.9374173           | 0.9494973           | 1.826422            | 0.1331929           |\n",
       "| 2022-03-01 04:48:06 | 18 min 45.979 sec   | 922 obs/sec         | 25.874004           | 221                 |  912188             | 0.1945939           | 0.12096325          |  0.8466173          | 0.9922959           | 0.9941436           | 1.798961            | 0.04890438          | 0.3275108           | 0.5097751           |  0.5670361          | 0.9358070           | 0.9447642           | 1.826422            | 0.1282772           |\n",
       "| 2022-03-01 07:39:22 |  3:09:54.577        | 90 obs/sec          | 28.803007           | 246                 | 1015450             | 0.1842653           | 0.10864351          |  0.8624676          | 0.9929816           | 0.9944700           | 1.798961            | 0.04511952          | 0.3270659           | 0.6344604           |  0.5682115          | 0.9294107           | 0.9259651           | 1.826422            | 0.1331929           |\n",
       "| 2022-03-01 07:42:47 |  3:14:14.324        | 101 obs/sec         | 33.012566           | 282                 | 1163858             | 0.1678970           | 0.09158059          |  0.8858164          | 0.9948523           | 0.9958679           | 1.798961            | 0.04003984          | 0.3295919           | 0.6369306           |  0.5615163          | 0.9311625           | 0.9326235           | 1.823408            | 0.1303839           |\n",
       "| 2022-03-01 07:55:21 |  3:26:05.127        | 145 obs/sec         | 49.850858           | 426                 | 1757492             | 0.1683367           | 0.09029520          |  0.8852175          | 0.9955711           | 0.9964792           | 1.798961            | 0.03605578          | 0.3305723           | 0.6734727           |  0.5589038          | 0.9269623           | 0.9267950           | 1.823372            | 0.1315543           |\n",
       "| 2022-03-01 08:00:50 |  3:31:22.850        | 162 obs/sec         | 57.102992           | 488                 | 2013166             | 0.1608359           | 0.08611204          |  0.8952186          | 0.9962019           | 0.9970603           | 1.798961            | 0.03296813          | 0.3261077           | 0.6729104           |  0.5707380          | 0.9314524           | 0.9340825           | 1.823457            | 0.1259363           |\n",
       "| 2022-03-01 08:04:22 |  3:34:55.441        | 173 obs/sec         | 61.908495           | 529                 | 2182584             | 0.1688842           | 0.09293254          |  0.8844696          | 0.9958003           | 0.9964024           | 1.798961            | 0.03436255          | 0.3385423           | 0.8836214           |  0.5373779          | 0.9200378           | 0.9116169           | 1.823993            | 0.1348315           |\n",
       "| 2022-03-01 08:04:44 |  3:35:26.898        | 173 obs/sec         | 61.908495           | 529                 | 2182584             | 0.2792242           | 0.24166519          |  0.6841914          | 0.9687702           | 0.9764424           | 1.798961            | 0.09960159          | 0.3345699           | 0.3538605           |  0.5481710          | 0.9303971           | 0.9460673           | 1.826422            | 0.1505150           |\n",
       "\n"
      ],
      "text/plain": [
       "   timestamp           duration          training_speed epochs    iterations\n",
       "1  2022-03-01 04:29:48  0.000 sec        NA              0.000000   0       \n",
       "2  2022-03-01 04:29:54 25.964 sec        735 obs/sec     0.114310   1       \n",
       "3  2022-03-01 04:33:22  3 min 56.198 sec 851 obs/sec     4.667508  40       \n",
       "4  2022-03-01 04:37:07  7 min 39.426 sec 875 obs/sec     9.834038  84       \n",
       "5  2022-03-01 04:40:31 11 min  5.710 sec 876 obs/sec    14.409162 123       \n",
       "6  2022-03-01 04:44:17 14 min 51.734 sec 891 obs/sec    19.793419 169       \n",
       "7  2022-03-01 04:48:06 18 min 45.979 sec 922 obs/sec    25.874004 221       \n",
       "8  2022-03-01 07:39:22  3:09:54.577      90 obs/sec     28.803007 246       \n",
       "9  2022-03-01 07:42:47  3:14:14.324      101 obs/sec    33.012566 282       \n",
       "10 2022-03-01 07:55:21  3:26:05.127      145 obs/sec    49.850858 426       \n",
       "11 2022-03-01 08:00:50  3:31:22.850      162 obs/sec    57.102992 488       \n",
       "12 2022-03-01 08:04:22  3:34:55.441      173 obs/sec    61.908495 529       \n",
       "13 2022-03-01 08:04:44  3:35:26.898      173 obs/sec    61.908495 529       \n",
       "   samples training_rmse training_logloss training_r2 training_auc\n",
       "1        0       NaN            NaN              NaN        NaN   \n",
       "2     4030 0.5315621     0.76963694       -0.1445265  0.6601023   \n",
       "3   164553 0.3490458     0.36926666        0.5065051  0.9256029   \n",
       "4   346699 0.2792242     0.24166519        0.6841914  0.9687702   \n",
       "5   507995 0.2735222     0.23035558        0.6969579  0.9814368   \n",
       "6   697817 0.2040341     0.13391592        0.8313744  0.9899468   \n",
       "7   912188 0.1945939     0.12096325        0.8466173  0.9922959   \n",
       "8  1015450 0.1842653     0.10864351        0.8624676  0.9929816   \n",
       "9  1163858 0.1678970     0.09158059        0.8858164  0.9948523   \n",
       "10 1757492 0.1683367     0.09029520        0.8852175  0.9955711   \n",
       "11 2013166 0.1608359     0.08611204        0.8952186  0.9962019   \n",
       "12 2182584 0.1688842     0.09293254        0.8844696  0.9958003   \n",
       "13 2182584 0.2792242     0.24166519        0.6841914  0.9687702   \n",
       "   training_pr_auc training_lift training_classification_error validation_rmse\n",
       "1        NaN            NaN             NaN                          NaN      \n",
       "2  0.7292631       1.798961      0.38446215                    0.5351626      \n",
       "3  0.9427838       1.798961      0.15627490                    0.3715220      \n",
       "4  0.9764424       1.798961      0.09960159                    0.3345699      \n",
       "5  0.9856605       1.798961      0.07798805                    0.3508886      \n",
       "6  0.9922399       1.798961      0.05278884                    0.3253389      \n",
       "7  0.9941436       1.798961      0.04890438                    0.3275108      \n",
       "8  0.9944700       1.798961      0.04511952                    0.3270659      \n",
       "9  0.9958679       1.798961      0.04003984                    0.3295919      \n",
       "10 0.9964792       1.798961      0.03605578                    0.3305723      \n",
       "11 0.9970603       1.798961      0.03296813                    0.3261077      \n",
       "12 0.9964024       1.798961      0.03436255                    0.3385423      \n",
       "13 0.9764424       1.798961      0.09960159                    0.3345699      \n",
       "   validation_logloss validation_r2 validation_auc validation_pr_auc\n",
       "1        NaN                 NaN          NaN            NaN        \n",
       "2  0.7795812          -0.1560373    0.6751640      0.7336182        \n",
       "3  0.4162559           0.4428534    0.9008308      0.9233799        \n",
       "4  0.3538605           0.5481710    0.9303971      0.9460673        \n",
       "5  0.4698366           0.5030200    0.9356670      0.9498506        \n",
       "6  0.4584670           0.5727596    0.9374173      0.9494973        \n",
       "7  0.5097751           0.5670361    0.9358070      0.9447642        \n",
       "8  0.6344604           0.5682115    0.9294107      0.9259651        \n",
       "9  0.6369306           0.5615163    0.9311625      0.9326235        \n",
       "10 0.6734727           0.5589038    0.9269623      0.9267950        \n",
       "11 0.6729104           0.5707380    0.9314524      0.9340825        \n",
       "12 0.8836214           0.5373779    0.9200378      0.9116169        \n",
       "13 0.3538605           0.5481710    0.9303971      0.9460673        \n",
       "   validation_lift validation_classification_error\n",
       "1       NaN              NaN                      \n",
       "2  1.826422        0.3897472                      \n",
       "3  1.826422        0.1896067                      \n",
       "4  1.826422        0.1505150                      \n",
       "5  1.826422        0.1402154                      \n",
       "6  1.826422        0.1331929                      \n",
       "7  1.826422        0.1282772                      \n",
       "8  1.826422        0.1331929                      \n",
       "9  1.823408        0.1303839                      \n",
       "10 1.823372        0.1315543                      \n",
       "11 1.823457        0.1259363                      \n",
       "12 1.823993        0.1348315                      \n",
       "13 1.826422        0.1505150                      "
      ]
     },
     "metadata": {},
     "output_type": "display_data"
    }
   ],
   "source": [
    "h2o.scoreHistory(m_200x200x200)"
   ]
  },
  {
   "cell_type": "code",
   "execution_count": null,
   "id": "96616468",
   "metadata": {},
   "outputs": [
    {
     "name": "stdout",
     "output_type": "stream",
     "text": [
      "  |=======                                                               |  11%"
     ]
    }
   ],
   "source": [
    "m_200x200x200 <- h2o.deeplearning(xAll, y, train, \n",
    "                                 validation_frame = valid,\n",
    "                                 epochs =200,\n",
    "                                 hidden = c(400,400))"
   ]
  },
  {
   "cell_type": "code",
   "execution_count": null,
   "id": "9908a11f",
   "metadata": {},
   "outputs": [],
   "source": []
  }
 ],
 "metadata": {
  "kernelspec": {
   "display_name": "R",
   "language": "R",
   "name": "ir"
  },
  "language_info": {
   "codemirror_mode": "r",
   "file_extension": ".r",
   "mimetype": "text/x-r-source",
   "name": "R",
   "pygments_lexer": "r",
   "version": "3.6.1"
  }
 },
 "nbformat": 4,
 "nbformat_minor": 5
}
