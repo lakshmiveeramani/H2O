{
 "cells": [
  {
   "cell_type": "code",
   "execution_count": 3,
   "id": "7e3cd818",
   "metadata": {},
   "outputs": [
    {
     "name": "stdout",
     "output_type": "stream",
     "text": [
      " Connection successful!\n",
      "\n",
      "R is connected to the H2O cluster: \n",
      "    H2O cluster uptime:         2 minutes 56 seconds \n",
      "    H2O cluster timezone:       America/New_York \n",
      "    H2O data parsing timezone:  UTC \n",
      "    H2O cluster version:        3.36.0.3 \n",
      "    H2O cluster version age:    11 days  \n",
      "    H2O cluster name:           H2O_from_python_laksh_wiagtg \n",
      "    H2O cluster total nodes:    1 \n",
      "    H2O cluster total memory:   0.08 GB \n",
      "    H2O cluster total cores:    4 \n",
      "    H2O cluster allowed cores:  4 \n",
      "    H2O cluster healthy:        TRUE \n",
      "    H2O Connection ip:          localhost \n",
      "    H2O Connection port:        54321 \n",
      "    H2O Connection proxy:       NA \n",
      "    H2O Internal Security:      FALSE \n",
      "    R Version:                  R version 3.6.1 (2019-07-05) \n",
      "\n",
      "  |======================================================================| 100%\n"
     ]
    },
    {
     "name": "stderr",
     "output_type": "stream",
     "text": [
      "Warning message in summary.H2OFrame(data):\n",
      "\"Approximated quantiles computed! If you are interested in exact quantiles, please pass the `exact_quantiles=TRUE` parameter.\""
     ]
    },
    {
     "data": {
      "text/plain": [
       " Year           Month            DayofMonth     DayOfWeek      \n",
       " Min.   :1987   Min.   : 1.000   Min.   : 1.0   Min.   :1.000  \n",
       " 1st Qu.:1992   1st Qu.: 1.000   1st Qu.: 6.0   1st Qu.:2.000  \n",
       " Median :1998   Median : 1.000   Median :14.0   Median :4.000  \n",
       " Mean   :1998   Mean   : 1.409   Mean   :14.6   Mean   :3.821  \n",
       " 3rd Qu.:2003   3rd Qu.: 1.000   3rd Qu.:23.0   3rd Qu.:5.000  \n",
       " Max.   :2008   Max.   :10.000   Max.   :31.0   Max.   :7.000  \n",
       "                                                               \n",
       " DepTime          CRSDepTime       ArrTime        CRSArrTime     UniqueCarrier\n",
       " Min.   :   1.0   Min.   :   0.0   Min.   :   1   Min.   :   0   US:18729     \n",
       " 1st Qu.: 927.4   1st Qu.: 908.6   1st Qu.:1117   1st Qu.:1107   UA: 9434     \n",
       " Median :1328.2   Median :1319.2   Median :1525   Median :1515   WN: 6170     \n",
       " Mean   :1345.8   Mean   :1313.2   Mean   :1505   Mean   :1485   HP: 3451     \n",
       " 3rd Qu.:1733.8   3rd Qu.:1718.1   3rd Qu.:1916   3rd Qu.:1902   PS: 3212     \n",
       " Max.   :2400.0   Max.   :2359.0   Max.   :2400   Max.   :2359   DL:  935     \n",
       " NA's   :1086                      NA's   :1195                               \n",
       " FlightNum        TailNum                 ActualElapsedTime CRSElapsedTime\n",
       " Min.   :   1.0   UNKNOW          :  179  Min.   : 16.0     Min.   : 17   \n",
       " 1st Qu.: 202.4   000000          :  124  1st Qu.: 71.0     1st Qu.: 71   \n",
       " Median : 553.9   <0xE4>NKNO<0xE6>:  114  Median :101.0     Median :102   \n",
       " Mean   : 818.8   0               :   66  Mean   :124.8     Mean   :125   \n",
       " 3rd Qu.:1241.0   N912UA          :   59  3rd Qu.:151.0     3rd Qu.:151   \n",
       " Max.   :3949.0   N316AW          :   56  Max.   :475.0     Max.   :437   \n",
       "                  NA              :16024  NA's   :1195      NA's   :13    \n",
       " AirTime         ArrDelay          DepDelay         Origin    Dest     \n",
       " Min.   : 14.0   Min.   :-63.000   Min.   :-16.00   DEN:3558  PHX:9317 \n",
       " 1st Qu.: 61.0   1st Qu.: -6.000   1st Qu.: -2.00   PIT:3241  PHL:4482 \n",
       " Median : 91.0   Median :  2.000   Median :  1.00   ORD:2246  PIT:3020 \n",
       " Mean   :114.3   Mean   :  9.317   Mean   : 10.01   BUR:2021  ORD:2103 \n",
       " 3rd Qu.:140.0   3rd Qu.: 14.000   3rd Qu.: 10.00   CLT:1781  CLT:1542 \n",
       " Max.   :402.0   Max.   :475.000   Max.   :473.00   PHL:1632  DEN:1470 \n",
       " NA's   :16649   NA's   :1195      NA's   :1086                        \n",
       " Distance         TaxiIn            TaxiOut          Cancelled        \n",
       " Min.   :  11.0   Min.   :  0.000   Min.   :  0.00   Min.   :0.00000  \n",
       " 1st Qu.: 323.0   1st Qu.:  3.000   1st Qu.:  9.00   1st Qu.:0.00000  \n",
       " Median : 537.7   Median :  5.000   Median : 12.00   Median :0.00000  \n",
       " Mean   : 730.2   Mean   :  5.381   Mean   : 14.17   Mean   :0.02469  \n",
       " 3rd Qu.: 916.9   3rd Qu.:  6.000   3rd Qu.: 16.00   3rd Qu.:0.00000  \n",
       " Max.   :3365.0   Max.   :128.000   Max.   :254.00   Max.   :1.00000  \n",
       " NA's   :35       NA's   :16026     NA's   :16024                     \n",
       " CancellationCode Diverted           CarrierDelay      WeatherDelay      \n",
       " B :   93         Min.   :0.000000   Min.   :  0.000   Min.   :  0.0000  \n",
       " A :   81         1st Qu.:0.000000   1st Qu.:  0.000   1st Qu.:  0.0000  \n",
       " C :   47         Median :0.000000   Median :  0.000   Median :  0.0000  \n",
       " NA:43757         Mean   :0.002479   Mean   :  4.048   Mean   :  0.2894  \n",
       "                  3rd Qu.:0.000000   3rd Qu.:  0.000   3rd Qu.:  0.0000  \n",
       "                  Max.   :1.000000   Max.   :369.000   Max.   :201.0000  \n",
       "                                     NA's   :35045     NA's   :35045     \n",
       " NASDelay          SecurityDelay      LateAircraftDelay IsArrDelayed\n",
       " Min.   :  0.000   Min.   : 0.00000   Min.   :  0.00    YES:24441   \n",
       " 1st Qu.:  0.000   1st Qu.: 0.00000   1st Qu.:  0.00    NO :19537   \n",
       " Median :  0.000   Median : 0.00000   Median :  0.00                \n",
       " Mean   :  4.855   Mean   : 0.01702   Mean   :  7.62                \n",
       " 3rd Qu.:  0.000   3rd Qu.: 0.00000   3rd Qu.:  0.00                \n",
       " Max.   :323.000   Max.   :14.00000   Max.   :373.00                \n",
       " NA's   :35045     NA's   :35045      NA's   :35045                 \n",
       " IsDepDelayed\n",
       " YES:23091   \n",
       " NO :20887   \n",
       "             \n",
       "             \n",
       "             \n",
       "             \n",
       "             "
      ]
     },
     "metadata": {},
     "output_type": "display_data"
    },
    {
     "data": {
      "text/html": [
       "NaN"
      ],
      "text/latex": [
       "NaN"
      ],
      "text/markdown": [
       "NaN"
      ],
      "text/plain": [
       "[1] NaN"
      ]
     },
     "metadata": {},
     "output_type": "display_data"
    },
    {
     "data": {
      "text/html": [
       "114.316111090782"
      ],
      "text/latex": [
       "114.316111090782"
      ],
      "text/markdown": [
       "114.316111090782"
      ],
      "text/plain": [
       "[1] 114.3161"
      ]
     },
     "metadata": {},
     "output_type": "display_data"
    },
    {
     "data": {
      "text/html": [
       "114.316111090782"
      ],
      "text/latex": [
       "114.316111090782"
      ],
      "text/markdown": [
       "114.316111090782"
      ],
      "text/plain": [
       "[1] 114.3161"
      ]
     },
     "metadata": {},
     "output_type": "display_data"
    },
    {
     "data": {
      "text/html": [
       "<ol class=list-inline>\n",
       "\t<li>14</li>\n",
       "\t<li>402</li>\n",
       "</ol>\n"
      ],
      "text/latex": [
       "\\begin{enumerate*}\n",
       "\\item 14\n",
       "\\item 402\n",
       "\\end{enumerate*}\n"
      ],
      "text/markdown": [
       "1. 14\n",
       "2. 402\n",
       "\n",
       "\n"
      ],
      "text/plain": [
       "[1]  14 402"
      ]
     },
     "metadata": {},
     "output_type": "display_data"
    },
    {
     "data": {
      "image/png": "[encoded data removed]",
      "text/plain": [
       "Plot with title \"Histogram of data[, \"AirTime\"]\""
      ]
     },
     "metadata": {},
     "output_type": "display_data"
    }
   ],
   "source": [
    "library(h2o)\n",
    "\n",
    "h2o.init()\n",
    "url <- \"http://h2o-public-test-data.s3.amazonaws.com/smalldata/airlines/allyears2k_headers.zip\"  \n",
    "data <- h2o.importFile(url)\n",
    "\n",
    "\n",
    "summary(data)\n",
    "#column type conversions\n",
    "# data[, \"columnname\"] <- as.numeric(data[, \"columnname\"])\n",
    "\n",
    "\n",
    "mean(data[,\"AirTime\"])\n",
    " \n",
    "\n",
    "mean(data[,\"AirTime\"], na.rm = TRUE)\n",
    "\n",
    "\n",
    "h2o.mean(data[,\"AirTime\"], na.rm = TRUE)\n",
    "\n",
    "\n",
    "range(data[,\"AirTime\"], na.rm = TRUE)\n",
    " \n",
    "\n",
    "h2o.hist(data[,\"AirTime\"])"
   ]
  },
  {
   "cell_type": "code",
   "execution_count": 4,
   "id": "57cb69c1",
   "metadata": {},
   "outputs": [
    {
     "data": {
      "text/html": [
       "<ol class=list-inline>\n",
       "\t<li>9.31711193698431</li>\n",
       "\t<li>10.0073906556001</li>\n",
       "</ol>\n"
      ],
      "text/latex": [
       "\\begin{enumerate*}\n",
       "\\item 9.31711193698431\n",
       "\\item 10.0073906556001\n",
       "\\end{enumerate*}\n"
      ],
      "text/markdown": [
       "1. 9.31711193698431\n",
       "2. 10.0073906556001\n",
       "\n",
       "\n"
      ],
      "text/plain": [
       "[1]  9.317112 10.007391"
      ]
     },
     "metadata": {},
     "output_type": "display_data"
    }
   ],
   "source": [
    "mean(data[,c(\"ArrDelay\", \"DepDelay\")], na.rm = TRUE)\n"
   ]
  },
  {
   "cell_type": "code",
   "execution_count": 5,
   "id": "e5e49077",
   "metadata": {},
   "outputs": [
    {
     "data": {
      "text/html": [
       "1"
      ],
      "text/latex": [
       "1"
      ],
      "text/markdown": [
       "1"
      ],
      "text/plain": [
       "[1] 1"
      ]
     },
     "metadata": {},
     "output_type": "display_data"
    }
   ],
   "source": [
    "h2o.any(data[,\"ArrDelay\"] > 360)"
   ]
  },
  {
   "cell_type": "code",
   "execution_count": 6,
   "id": "09858de9",
   "metadata": {},
   "outputs": [
    {
     "data": {
      "text/html": [
       "FALSE"
      ],
      "text/latex": [
       "FALSE"
      ],
      "text/markdown": [
       "FALSE"
      ],
      "text/plain": [
       "[1] FALSE"
      ]
     },
     "metadata": {},
     "output_type": "display_data"
    }
   ],
   "source": [
    "h2o.all(data[,\"ArrDelay\"] < 480)"
   ]
  },
  {
   "cell_type": "code",
   "execution_count": 7,
   "id": "49e3afc1",
   "metadata": {},
   "outputs": [
    {
     "data": {
      "text/html": [
       "TRUE"
      ],
      "text/latex": [
       "TRUE"
      ],
      "text/markdown": [
       "TRUE"
      ],
      "text/plain": [
       "[1] TRUE"
      ]
     },
     "metadata": {},
     "output_type": "display_data"
    }
   ],
   "source": [
    "h2o.all(h2o.na_omit(data[, \"ArrDelay\"]) < 480)"
   ]
  },
  {
   "cell_type": "code",
   "execution_count": 8,
   "id": "e50bf5c1",
   "metadata": {},
   "outputs": [
    {
     "data": {
      "text/plain": [
       "  C1\n",
       "1 23\n",
       "2 37\n",
       "3 66\n",
       "4 64\n",
       "5 97\n",
       "6 96\n",
       "\n",
       "[43978 rows x 1 column] "
      ]
     },
     "metadata": {},
     "output_type": "display_data"
    }
   ],
   "source": [
    "h2o.cumsum(data[,\"ArrDelay\"], axis = 0)"
   ]
  },
  {
   "cell_type": "code",
   "execution_count": 10,
   "id": "8483bf1d",
   "metadata": {},
   "outputs": [
    {
     "data": {
      "text/html": [
       "NaN"
      ],
      "text/latex": [
       "NaN"
      ],
      "text/markdown": [
       "NaN"
      ],
      "text/plain": [
       "[1] NaN"
      ]
     },
     "metadata": {},
     "output_type": "display_data"
    }
   ],
   "source": [
    "h2o.cor(data[,\"ArrDelay\"],data[,\"DepDelay\"])"
   ]
  },
  {
   "cell_type": "code",
   "execution_count": 11,
   "id": "aa80f4fe",
   "metadata": {},
   "outputs": [
    {
     "data": {
      "text/html": [
       "0.897569032309524"
      ],
      "text/latex": [
       "0.897569032309524"
      ],
      "text/markdown": [
       "0.897569032309524"
      ],
      "text/plain": [
       "[1] 0.897569"
      ]
     },
     "metadata": {},
     "output_type": "display_data"
    }
   ],
   "source": [
    "h2o.cor(data[,\"ArrDelay\"],data[,\"DepDelay\"], na.rm = T)"
   ]
  },
  {
   "cell_type": "code",
   "execution_count": null,
   "id": "53373aa1",
   "metadata": {},
   "outputs": [],
   "source": []
  }
 ],
 "metadata": {
  "kernelspec": {
   "display_name": "R",
   "language": "R",
   "name": "ir"
  },
  "language_info": {
   "codemirror_mode": "r",
   "file_extension": ".r",
   "mimetype": "text/x-r-source",
   "name": "R",
   "pygments_lexer": "r",
   "version": "3.6.1"
  }
 },
 "nbformat": 4,
 "nbformat_minor": 5
}
