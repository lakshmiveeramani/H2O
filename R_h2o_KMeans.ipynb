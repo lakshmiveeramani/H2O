{
 "cells": [
  {
   "cell_type": "code",
   "execution_count": 1,
   "id": "b8ca96bb",
   "metadata": {},
   "outputs": [
    {
     "name": "stderr",
     "output_type": "stream",
     "text": [
      "\n",
      "----------------------------------------------------------------------\n",
      "\n",
      "Your next step is to start H2O:\n",
      "    > h2o.init()\n",
      "\n",
      "For H2O package documentation, ask for help:\n",
      "    > ??h2o\n",
      "\n",
      "After starting H2O, you can use the Web UI at http://localhost:54321\n",
      "For more information visit https://docs.h2o.ai\n",
      "\n",
      "----------------------------------------------------------------------\n",
      "\n",
      "\n",
      "Attaching package: 'h2o'\n",
      "\n",
      "The following objects are masked from 'package:stats':\n",
      "\n",
      "    cor, sd, var\n",
      "\n",
      "The following objects are masked from 'package:base':\n",
      "\n",
      "    %*%, %in%, &&, ||, apply, as.factor, as.numeric, colnames,\n",
      "    colnames<-, ifelse, is.character, is.factor, is.numeric, log,\n",
      "    log10, log1p, log2, round, signif, trunc\n",
      "\n"
     ]
    },
    {
     "name": "stdout",
     "output_type": "stream",
     "text": [
      " Connection successful!\n",
      "\n",
      "R is connected to the H2O cluster: \n",
      "    H2O cluster uptime:         6 hours 27 minutes \n",
      "    H2O cluster timezone:       America/New_York \n",
      "    H2O data parsing timezone:  UTC \n",
      "    H2O cluster version:        3.36.0.3 \n",
      "    H2O cluster version age:    13 days  \n",
      "    H2O cluster name:           H2O_from_python_laksh_aa32wb \n",
      "    H2O cluster total nodes:    1 \n",
      "    H2O cluster total memory:   1.71 GB \n",
      "    H2O cluster total cores:    4 \n",
      "    H2O cluster allowed cores:  4 \n",
      "    H2O cluster healthy:        TRUE \n",
      "    H2O Connection ip:          localhost \n",
      "    H2O Connection port:        54321 \n",
      "    H2O Connection proxy:       NA \n",
      "    H2O Internal Security:      FALSE \n",
      "    R Version:                  R version 3.6.1 (2019-07-05) \n",
      "\n"
     ]
    },
    {
     "data": {
      "text/html": [
       "'http://h2o-public-test-data.s3.amazonaws.com/smalldata/iris/iris_wheader.csv'"
      ],
      "text/latex": [
       "'http://h2o-public-test-data.s3.amazonaws.com/smalldata/iris/iris\\_wheader.csv'"
      ],
      "text/markdown": [
       "'http://h2o-public-test-data.s3.amazonaws.com/smalldata/iris/iris_wheader.csv'"
      ],
      "text/plain": [
       "[1] \"http://h2o-public-test-data.s3.amazonaws.com/smalldata/iris/iris_wheader.csv\""
      ]
     },
     "metadata": {},
     "output_type": "display_data"
    },
    {
     "name": "stdout",
     "output_type": "stream",
     "text": [
      "  |======================================================================| 100%\n"
     ]
    }
   ],
   "source": [
    "library(h2o)\n",
    "\n",
    "h2o.init()\n",
    "\n",
    "url <- \"http://h2o-public-test-data.s3.amazonaws.com/smalldata/iris/iris_wheader.csv\"\n",
    "\n",
    "url\n",
    "\n",
    "iris <- h2o.importFile(url)\n",
    "\n",
    "parts <- h2o.splitFrame(iris, 0.8)\n",
    "\n",
    "train <- parts[[1]]\n",
    "\n",
    "test <- parts[[2]]"
   ]
  },
  {
   "cell_type": "code",
   "execution_count": 2,
   "id": "8155c5a2",
   "metadata": {},
   "outputs": [
    {
     "name": "stdout",
     "output_type": "stream",
     "text": [
      "  |======================================================================| 100%\n"
     ]
    }
   ],
   "source": [
    "m <- h2o.kmeans(train, x=1:4, k=5)"
   ]
  },
  {
   "cell_type": "code",
   "execution_count": 3,
   "id": "e804914f",
   "metadata": {},
   "outputs": [
    {
     "name": "stdout",
     "output_type": "stream",
     "text": [
      "  |======================================================================| 100%\n"
     ]
    }
   ],
   "source": [
    "p <- h2o.predict(m, train)"
   ]
  },
  {
   "cell_type": "code",
   "execution_count": 4,
   "id": "92d87784",
   "metadata": {},
   "outputs": [
    {
     "name": "stdout",
     "output_type": "stream",
     "text": [
      " Connection successful!\n",
      "\n",
      "R is connected to the H2O cluster: \n",
      "    H2O cluster uptime:         6 hours 29 minutes \n",
      "    H2O cluster timezone:       America/New_York \n",
      "    H2O data parsing timezone:  UTC \n",
      "    H2O cluster version:        3.36.0.3 \n",
      "    H2O cluster version age:    13 days  \n",
      "    H2O cluster name:           H2O_from_python_laksh_aa32wb \n",
      "    H2O cluster total nodes:    1 \n",
      "    H2O cluster total memory:   1.71 GB \n",
      "    H2O cluster total cores:    4 \n",
      "    H2O cluster allowed cores:  4 \n",
      "    H2O cluster healthy:        TRUE \n",
      "    H2O Connection ip:          localhost \n",
      "    H2O Connection port:        54321 \n",
      "    H2O Connection proxy:       NA \n",
      "    H2O Internal Security:      FALSE \n",
      "    R Version:                  R version 3.6.1 (2019-07-05) \n",
      "\n",
      "  |======================================================================| 100%\n",
      "  |======================================================================| 100%\n",
      "  |======================================================================| 100%\n"
     ]
    }
   ],
   "source": [
    "library(h2o)\n",
    "h2o.init()\n",
    "\n",
    "# Import the iris dataset into H2O:\n",
    "iris <- h2o.importFile(\"http://h2o-public-test-data.s3.amazonaws.com/smalldata/iris/iris_wheader.csv\")\n",
    "\n",
    "# Set the predictors:\n",
    "predictors <- c(\"sepal_len\", \"sepal_wid\", \"petal_len\", \"petal_wid\")\n",
    "\n",
    "# Split the dataset into a train and valid set:\n",
    "iris_split <- h2o.splitFrame(data = iris, ratios = 0.8, seed = 1234)\n",
    "train <- iris_split[[1]]\n",
    "valid <- iris_split[[2]]\n",
    "\n",
    "# Build and train the model:\n",
    "iris_kmeans <- h2o.kmeans(k = 10,\n",
    "                          estimate_k = TRUE,\n",
    "                          standardize = FALSE,\n",
    "                          seed = 1234,\n",
    "                          x = predictors,\n",
    "                          training_frame = train,\n",
    "                          validation_frame = valid)\n",
    "\n",
    "# Eval performance:\n",
    "perf <- h2o.performance(iris_kmeans)\n",
    "\n",
    "# Generate predictions on a validation set (if necessary):\n",
    "pred <- h2o.predict(iris_kmeans, newdata = valid)"
   ]
  },
  {
   "cell_type": "code",
   "execution_count": 6,
   "id": "b5d78841",
   "metadata": {},
   "outputs": [
    {
     "data": {
      "text/plain": [
       "  predict\n",
       "1       0\n",
       "2       0\n",
       "3       0\n",
       "4       0\n",
       "5       0\n",
       "6       0\n",
       "\n",
       "[27 rows x 1 column] "
      ]
     },
     "metadata": {},
     "output_type": "display_data"
    }
   ],
   "source": [
    "pred"
   ]
  },
  {
   "cell_type": "code",
   "execution_count": 7,
   "id": "b8494112",
   "metadata": {},
   "outputs": [
    {
     "data": {
      "text/plain": [
       "H2OClusteringMetrics: kmeans\n",
       "** Reported on training data. **\n",
       "\n",
       "\n",
       "Total Within SS:  63.09516\n",
       "Between SS:  483.8141\n",
       "Total SS:  546.9092 \n",
       "Centroid Statistics: \n",
       "  centroid     size within_cluster_sum_of_squares\n",
       "1        1 36.00000                      11.08750\n",
       "2        2 51.00000                      30.78627\n",
       "3        3 36.00000                      21.22139"
      ]
     },
     "metadata": {},
     "output_type": "display_data"
    }
   ],
   "source": [
    "perf"
   ]
  },
  {
   "cell_type": "code",
   "execution_count": null,
   "id": "8220fee4",
   "metadata": {},
   "outputs": [],
   "source": []
  }
 ],
 "metadata": {
  "kernelspec": {
   "display_name": "R",
   "language": "R",
   "name": "ir"
  },
  "language_info": {
   "codemirror_mode": "r",
   "file_extension": ".r",
   "mimetype": "text/x-r-source",
   "name": "R",
   "pygments_lexer": "r",
   "version": "3.6.1"
  }
 },
 "nbformat": 4,
 "nbformat_minor": 5
}
