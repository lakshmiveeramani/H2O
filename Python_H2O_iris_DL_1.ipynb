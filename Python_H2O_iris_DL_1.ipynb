{
 "cells": [
  {
   "cell_type": "code",
   "execution_count": 10,
   "id": "ad6923c2",
   "metadata": {},
   "outputs": [],
   "source": [
    "import h2o"
   ]
  },
  {
   "cell_type": "code",
   "execution_count": 11,
   "id": "53bfe427",
   "metadata": {},
   "outputs": [
    {
     "name": "stdout",
     "output_type": "stream",
     "text": [
      "Checking whether there is an H2O instance running at http://localhost:54321 . connected.\n"
     ]
    },
    {
     "data": {
      "text/html": [
       "<div style=\"overflow:auto\"><table style=\"width:50%\"><tr><td>H2O_cluster_uptime:</td>\n",
       "<td>3 mins 06 secs</td></tr>\n",
       "<tr><td>H2O_cluster_timezone:</td>\n",
       "<td>America/New_York</td></tr>\n",
       "<tr><td>H2O_data_parsing_timezone:</td>\n",
       "<td>UTC</td></tr>\n",
       "<tr><td>H2O_cluster_version:</td>\n",
       "<td>3.36.0.3</td></tr>\n",
       "<tr><td>H2O_cluster_version_age:</td>\n",
       "<td>8 days </td></tr>\n",
       "<tr><td>H2O_cluster_name:</td>\n",
       "<td>H2O_started_from_R_laksh_rlm019</td></tr>\n",
       "<tr><td>H2O_cluster_total_nodes:</td>\n",
       "<td>1</td></tr>\n",
       "<tr><td>H2O_cluster_free_memory:</td>\n",
       "<td>829 Mb</td></tr>\n",
       "<tr><td>H2O_cluster_total_cores:</td>\n",
       "<td>4</td></tr>\n",
       "<tr><td>H2O_cluster_allowed_cores:</td>\n",
       "<td>4</td></tr>\n",
       "<tr><td>H2O_cluster_status:</td>\n",
       "<td>locked, healthy</td></tr>\n",
       "<tr><td>H2O_connection_url:</td>\n",
       "<td>http://localhost:54321</td></tr>\n",
       "<tr><td>H2O_connection_proxy:</td>\n",
       "<td>{\"http\": null, \"https\": null}</td></tr>\n",
       "<tr><td>H2O_internal_security:</td>\n",
       "<td>False</td></tr>\n",
       "<tr><td>Python_version:</td>\n",
       "<td>3.8.8 final</td></tr></table></div>"
      ],
      "text/plain": [
       "--------------------------  -------------------------------\n",
       "H2O_cluster_uptime:         3 mins 06 secs\n",
       "H2O_cluster_timezone:       America/New_York\n",
       "H2O_data_parsing_timezone:  UTC\n",
       "H2O_cluster_version:        3.36.0.3\n",
       "H2O_cluster_version_age:    8 days\n",
       "H2O_cluster_name:           H2O_started_from_R_laksh_rlm019\n",
       "H2O_cluster_total_nodes:    1\n",
       "H2O_cluster_free_memory:    829 Mb\n",
       "H2O_cluster_total_cores:    4\n",
       "H2O_cluster_allowed_cores:  4\n",
       "H2O_cluster_status:         locked, healthy\n",
       "H2O_connection_url:         http://localhost:54321\n",
       "H2O_connection_proxy:       {\"http\": null, \"https\": null}\n",
       "H2O_internal_security:      False\n",
       "Python_version:             3.8.8 final\n",
       "--------------------------  -------------------------------"
      ]
     },
     "metadata": {},
     "output_type": "display_data"
    }
   ],
   "source": [
    "h2o.init()"
   ]
  },
  {
   "cell_type": "code",
   "execution_count": 12,
   "id": "b78a27ad",
   "metadata": {},
   "outputs": [],
   "source": [
    "url = \"http://h2o-public-test-data.s3.amazonaws.com/smalldata/iris/iris_wheader.csv\""
   ]
  },
  {
   "cell_type": "code",
   "execution_count": 13,
   "id": "98dd4626",
   "metadata": {},
   "outputs": [
    {
     "name": "stdout",
     "output_type": "stream",
     "text": [
      "Parse progress: |████████████████████████████████████████████████████████████████| (done) 100%\n"
     ]
    }
   ],
   "source": [
    "iris = h2o.import_file(url)"
   ]
  },
  {
   "cell_type": "code",
   "execution_count": 14,
   "id": "3d722016",
   "metadata": {},
   "outputs": [],
   "source": [
    "train, test =iris.split_frame([0.8])"
   ]
  },
  {
   "cell_type": "code",
   "execution_count": 15,
   "id": "ea5785dc",
   "metadata": {},
   "outputs": [
    {
     "data": {
      "text/html": [
       "<table>\n",
       "<thead>\n",
       "<tr><th>       </th><th>sepal_len         </th><th>sepal_wid         </th><th>petal_len         </th><th>petal_wid         </th><th>class      </th></tr>\n",
       "</thead>\n",
       "<tbody>\n",
       "<tr><td>type   </td><td>real              </td><td>real              </td><td>real              </td><td>real              </td><td>enum       </td></tr>\n",
       "<tr><td>mins   </td><td>4.3               </td><td>2.2               </td><td>1.0               </td><td>0.1               </td><td>           </td></tr>\n",
       "<tr><td>mean   </td><td>5.849999999999998 </td><td>3.0524193548387095</td><td>3.8040322580645167</td><td>1.2112903225806453</td><td>           </td></tr>\n",
       "<tr><td>maxs   </td><td>7.9               </td><td>4.4               </td><td>6.9               </td><td>2.5               </td><td>           </td></tr>\n",
       "<tr><td>sigma  </td><td>0.8448312478823067</td><td>0.4216621600088394</td><td>1.759914964388276 </td><td>0.7676603328114934</td><td>           </td></tr>\n",
       "<tr><td>zeros  </td><td>0                 </td><td>0                 </td><td>0                 </td><td>0                 </td><td>           </td></tr>\n",
       "<tr><td>missing</td><td>0                 </td><td>0                 </td><td>0                 </td><td>0                 </td><td>0          </td></tr>\n",
       "<tr><td>0      </td><td>5.1               </td><td>3.5               </td><td>1.4               </td><td>0.2               </td><td>Iris-setosa</td></tr>\n",
       "<tr><td>1      </td><td>4.7               </td><td>3.2               </td><td>1.3               </td><td>0.2               </td><td>Iris-setosa</td></tr>\n",
       "<tr><td>2      </td><td>5.4               </td><td>3.9               </td><td>1.7               </td><td>0.4               </td><td>Iris-setosa</td></tr>\n",
       "<tr><td>3      </td><td>4.6               </td><td>3.4               </td><td>1.4               </td><td>0.3               </td><td>Iris-setosa</td></tr>\n",
       "<tr><td>4      </td><td>5.0               </td><td>3.4               </td><td>1.5               </td><td>0.2               </td><td>Iris-setosa</td></tr>\n",
       "<tr><td>5      </td><td>4.4               </td><td>2.9               </td><td>1.4               </td><td>0.2               </td><td>Iris-setosa</td></tr>\n",
       "<tr><td>6      </td><td>4.9               </td><td>3.1               </td><td>1.5               </td><td>0.1               </td><td>Iris-setosa</td></tr>\n",
       "<tr><td>7      </td><td>4.8               </td><td>3.4               </td><td>1.6               </td><td>0.2               </td><td>Iris-setosa</td></tr>\n",
       "<tr><td>8      </td><td>4.8               </td><td>3.0               </td><td>1.4               </td><td>0.1               </td><td>Iris-setosa</td></tr>\n",
       "<tr><td>9      </td><td>4.3               </td><td>3.0               </td><td>1.1               </td><td>0.1               </td><td>Iris-setosa</td></tr>\n",
       "</tbody>\n",
       "</table>"
      ]
     },
     "metadata": {},
     "output_type": "display_data"
    }
   ],
   "source": [
    "train.summary()"
   ]
  },
  {
   "cell_type": "code",
   "execution_count": 16,
   "id": "60c2348a",
   "metadata": {},
   "outputs": [
    {
     "data": {
      "text/plain": [
       "124"
      ]
     },
     "execution_count": 16,
     "metadata": {},
     "output_type": "execute_result"
    }
   ],
   "source": [
    "train.nrows"
   ]
  },
  {
   "cell_type": "code",
   "execution_count": 17,
   "id": "50b83276",
   "metadata": {},
   "outputs": [
    {
     "data": {
      "text/plain": [
       "26"
      ]
     },
     "execution_count": 17,
     "metadata": {},
     "output_type": "execute_result"
    }
   ],
   "source": [
    "test.nrows"
   ]
  },
  {
   "cell_type": "code",
   "execution_count": 24,
   "id": "80251532",
   "metadata": {},
   "outputs": [
    {
     "data": {
      "text/plain": [
       "['sepal_len', 'sepal_wid', 'petal_len', 'petal_wid', 'class']"
      ]
     },
     "execution_count": 24,
     "metadata": {},
     "output_type": "execute_result"
    }
   ],
   "source": [
    "train.columns"
   ]
  },
  {
   "cell_type": "code",
   "execution_count": 22,
   "id": "c04d8ff2",
   "metadata": {},
   "outputs": [],
   "source": [
    "from h2o.estimators.deeplearning import H2ODeepLearningEstimator"
   ]
  },
  {
   "cell_type": "code",
   "execution_count": 23,
   "id": "ae76cc07",
   "metadata": {},
   "outputs": [],
   "source": [
    "mDL =H2ODeepLearningEstimator()"
   ]
  },
  {
   "cell_type": "code",
   "execution_count": 25,
   "id": "68324a50",
   "metadata": {},
   "outputs": [
    {
     "name": "stdout",
     "output_type": "stream",
     "text": [
      "deeplearning Model Build progress: |█████████████████████████████████████████████| (done) 100%\n",
      "Model Details\n",
      "=============\n",
      "H2ODeepLearningEstimator :  Deep Learning\n",
      "Model Key:  DeepLearning_model_python_1645782701179_2\n",
      "\n",
      "\n",
      "Status of Neuron Layers: predicting class, 3-class classification, multinomial distribution, CrossEntropy loss, 41,803 weights/biases, 498.2 KB, 1,240 training samples, mini-batch size 1\n"
     ]
    },
    {
     "data": {
      "text/html": [
       "<div style=\"overflow:auto\"><table style=\"width:50%\"><tr><td><b></b></td>\n",
       "<td><b>layer</b></td>\n",
       "<td><b>units</b></td>\n",
       "<td><b>type</b></td>\n",
       "<td><b>dropout</b></td>\n",
       "<td><b>l1</b></td>\n",
       "<td><b>l2</b></td>\n",
       "<td><b>mean_rate</b></td>\n",
       "<td><b>rate_rms</b></td>\n",
       "<td><b>momentum</b></td>\n",
       "<td><b>mean_weight</b></td>\n",
       "<td><b>weight_rms</b></td>\n",
       "<td><b>mean_bias</b></td>\n",
       "<td><b>bias_rms</b></td></tr>\n",
       "<tr><td></td>\n",
       "<td>1</td>\n",
       "<td>4</td>\n",
       "<td>Input</td>\n",
       "<td>0.0</td>\n",
       "<td></td>\n",
       "<td></td>\n",
       "<td></td>\n",
       "<td></td>\n",
       "<td></td>\n",
       "<td></td>\n",
       "<td></td>\n",
       "<td></td>\n",
       "<td></td></tr>\n",
       "<tr><td></td>\n",
       "<td>2</td>\n",
       "<td>200</td>\n",
       "<td>Rectifier</td>\n",
       "<td>0.0</td>\n",
       "<td>0.0</td>\n",
       "<td>0.0</td>\n",
       "<td>0.0047112</td>\n",
       "<td>0.0039144</td>\n",
       "<td>0.0</td>\n",
       "<td>-0.0033580</td>\n",
       "<td>0.1064790</td>\n",
       "<td>0.4868866</td>\n",
       "<td>0.0091979</td></tr>\n",
       "<tr><td></td>\n",
       "<td>3</td>\n",
       "<td>200</td>\n",
       "<td>Rectifier</td>\n",
       "<td>0.0</td>\n",
       "<td>0.0</td>\n",
       "<td>0.0</td>\n",
       "<td>0.0107431</td>\n",
       "<td>0.0165925</td>\n",
       "<td>0.0</td>\n",
       "<td>0.0000983</td>\n",
       "<td>0.0700109</td>\n",
       "<td>0.9993405</td>\n",
       "<td>0.0028752</td></tr>\n",
       "<tr><td></td>\n",
       "<td>4</td>\n",
       "<td>3</td>\n",
       "<td>Softmax</td>\n",
       "<td></td>\n",
       "<td>0.0</td>\n",
       "<td>0.0</td>\n",
       "<td>0.0075618</td>\n",
       "<td>0.0572708</td>\n",
       "<td>0.0</td>\n",
       "<td>-0.0232991</td>\n",
       "<td>0.3914212</td>\n",
       "<td>-0.0007993</td>\n",
       "<td>0.0004095</td></tr></table></div>"
      ],
      "text/plain": [
       "    layer    units    type       dropout    l1    l2    mean_rate             rate_rms             momentum    mean_weight            weight_rms           mean_bias               bias_rms\n",
       "--  -------  -------  ---------  ---------  ----  ----  --------------------  -------------------  ----------  ---------------------  -------------------  ----------------------  ---------------------\n",
       "    1        4        Input      0.0\n",
       "    2        200      Rectifier  0.0        0.0   0.0   0.004711221218749415  0.00391441211104393  0.0         -0.003358015758115016  0.10647895932197571  0.4868865853612219      0.009197935461997986\n",
       "    3        200      Rectifier  0.0        0.0   0.0   0.010743120644445298  0.01659248024225235  0.0         9.829551530181675e-05  0.07001090049743652  0.9993404719849976      0.0028752442449331284\n",
       "    4        3        Softmax               0.0   0.0   0.007561763007834088  0.05727079510688782  0.0         -0.023299107678722068  0.39142119884490967  -0.0007992841425377506  0.0004095205804333091"
      ]
     },
     "metadata": {},
     "output_type": "display_data"
    },
    {
     "name": "stdout",
     "output_type": "stream",
     "text": [
      "\n",
      "\n",
      "ModelMetricsMultinomial: deeplearning\n",
      "** Reported on train data. **\n",
      "\n",
      "MSE: 0.10384517354125541\n",
      "RMSE: 0.3222501722904976\n",
      "LogLoss: 0.4682909916403536\n",
      "Mean Per-Class Error: 0.1349206349206349\n",
      "AUC: NaN\n",
      "AUCPR: NaN\n",
      "Multinomial auc values: Table is not computed because it is disabled (model parameter 'auc_type' is set to AUTO or NONE) or due to domain size (maximum is 50 domains).\n",
      "Multinomial auc_pr values: Table is not computed because it is disabled (model parameter 'auc_type' is set to AUTO or NONE) or due to domain size (maximum is 50 domains).\n",
      "\n",
      "Confusion Matrix: Row labels: Actual class; Column labels: Predicted class\n"
     ]
    },
    {
     "data": {
      "text/html": [
       "<div style=\"overflow:auto\"><table style=\"width:50%\"><tr><td><b>Iris-setosa</b></td>\n",
       "<td><b>Iris-versicolor</b></td>\n",
       "<td><b>Iris-virginica</b></td>\n",
       "<td><b>Error</b></td>\n",
       "<td><b>Rate</b></td></tr>\n",
       "<tr><td>40.0</td>\n",
       "<td>0.0</td>\n",
       "<td>0.0</td>\n",
       "<td>0.0</td>\n",
       "<td>0 / 40</td></tr>\n",
       "<tr><td>0.0</td>\n",
       "<td>42.0</td>\n",
       "<td>0.0</td>\n",
       "<td>0.0</td>\n",
       "<td>0 / 42</td></tr>\n",
       "<tr><td>0.0</td>\n",
       "<td>17.0</td>\n",
       "<td>25.0</td>\n",
       "<td>0.4047619</td>\n",
       "<td>17 / 42</td></tr>\n",
       "<tr><td>40.0</td>\n",
       "<td>59.0</td>\n",
       "<td>25.0</td>\n",
       "<td>0.1370968</td>\n",
       "<td>17 / 124</td></tr></table></div>"
      ],
      "text/plain": [
       "Iris-setosa    Iris-versicolor    Iris-virginica    Error     Rate\n",
       "-------------  -----------------  ----------------  --------  --------\n",
       "40             0                  0                 0         0 / 40\n",
       "0              42                 0                 0         0 / 42\n",
       "0              17                 25                0.404762  17 / 42\n",
       "40             59                 25                0.137097  17 / 124"
      ]
     },
     "metadata": {},
     "output_type": "display_data"
    },
    {
     "name": "stdout",
     "output_type": "stream",
     "text": [
      "\n",
      "Top-3 Hit Ratios: \n"
     ]
    },
    {
     "data": {
      "text/html": [
       "<div style=\"overflow:auto\"><table style=\"width:50%\"><tr><td><b>k</b></td>\n",
       "<td><b>hit_ratio</b></td></tr>\n",
       "<tr><td>1</td>\n",
       "<td>0.8629032</td></tr>\n",
       "<tr><td>2</td>\n",
       "<td>1.0</td></tr>\n",
       "<tr><td>3</td>\n",
       "<td>1.0</td></tr></table></div>"
      ],
      "text/plain": [
       "k    hit_ratio\n",
       "---  -----------\n",
       "1    0.862903\n",
       "2    1\n",
       "3    1"
      ]
     },
     "metadata": {},
     "output_type": "display_data"
    },
    {
     "name": "stdout",
     "output_type": "stream",
     "text": [
      "\n",
      "Scoring History: \n"
     ]
    },
    {
     "data": {
      "text/html": [
       "<div style=\"overflow:auto\"><table style=\"width:50%\"><tr><td><b></b></td>\n",
       "<td><b>timestamp</b></td>\n",
       "<td><b>duration</b></td>\n",
       "<td><b>training_speed</b></td>\n",
       "<td><b>epochs</b></td>\n",
       "<td><b>iterations</b></td>\n",
       "<td><b>samples</b></td>\n",
       "<td><b>training_rmse</b></td>\n",
       "<td><b>training_logloss</b></td>\n",
       "<td><b>training_r2</b></td>\n",
       "<td><b>training_classification_error</b></td>\n",
       "<td><b>training_auc</b></td>\n",
       "<td><b>training_pr_auc</b></td></tr>\n",
       "<tr><td></td>\n",
       "<td>2022-02-25 05:08:49</td>\n",
       "<td> 0.000 sec</td>\n",
       "<td>None</td>\n",
       "<td>0.0</td>\n",
       "<td>0</td>\n",
       "<td>0.0</td>\n",
       "<td>nan</td>\n",
       "<td>nan</td>\n",
       "<td>nan</td>\n",
       "<td>nan</td>\n",
       "<td>nan</td>\n",
       "<td>nan</td></tr>\n",
       "<tr><td></td>\n",
       "<td>2022-02-25 05:08:49</td>\n",
       "<td> 0.134 sec</td>\n",
       "<td>1425 obs/sec</td>\n",
       "<td>1.0</td>\n",
       "<td>1</td>\n",
       "<td>124.0</td>\n",
       "<td>0.5816584</td>\n",
       "<td>3.0522474</td>\n",
       "<td>0.4881829</td>\n",
       "<td>0.3387097</td>\n",
       "<td>nan</td>\n",
       "<td>nan</td></tr>\n",
       "<tr><td></td>\n",
       "<td>2022-02-25 05:08:50</td>\n",
       "<td> 0.902 sec</td>\n",
       "<td>1476 obs/sec</td>\n",
       "<td>10.0</td>\n",
       "<td>10</td>\n",
       "<td>1240.0</td>\n",
       "<td>0.3222502</td>\n",
       "<td>0.4682910</td>\n",
       "<td>0.8429040</td>\n",
       "<td>0.1370968</td>\n",
       "<td>nan</td>\n",
       "<td>nan</td></tr></table></div>"
      ],
      "text/plain": [
       "    timestamp            duration    training_speed    epochs    iterations    samples    training_rmse    training_logloss    training_r2    training_classification_error    training_auc    training_pr_auc\n",
       "--  -------------------  ----------  ----------------  --------  ------------  ---------  ---------------  ------------------  -------------  -------------------------------  --------------  -----------------\n",
       "    2022-02-25 05:08:49  0.000 sec                     0         0             0          nan              nan                 nan            nan                              nan             nan\n",
       "    2022-02-25 05:08:49  0.134 sec   1425 obs/sec      1         1             124        0.581658         3.05225             0.488183       0.33871                          nan             nan\n",
       "    2022-02-25 05:08:50  0.902 sec   1476 obs/sec      10        10            1240       0.32225          0.468291            0.842904       0.137097                         nan             nan"
      ]
     },
     "metadata": {},
     "output_type": "display_data"
    },
    {
     "name": "stdout",
     "output_type": "stream",
     "text": [
      "\n",
      "Variable Importances: \n"
     ]
    },
    {
     "data": {
      "text/html": [
       "<div style=\"overflow:auto\"><table style=\"width:50%\"><tr><td><b>variable</b></td>\n",
       "<td><b>relative_importance</b></td>\n",
       "<td><b>scaled_importance</b></td>\n",
       "<td><b>percentage</b></td></tr>\n",
       "<tr><td>petal_wid</td>\n",
       "<td>1.0</td>\n",
       "<td>1.0</td>\n",
       "<td>0.2718724</td></tr>\n",
       "<tr><td>petal_len</td>\n",
       "<td>0.9292129</td>\n",
       "<td>0.9292129</td>\n",
       "<td>0.2526274</td></tr>\n",
       "<tr><td>sepal_len</td>\n",
       "<td>0.8925354</td>\n",
       "<td>0.8925354</td>\n",
       "<td>0.2426558</td></tr>\n",
       "<tr><td>sepal_wid</td>\n",
       "<td>0.8564472</td>\n",
       "<td>0.8564472</td>\n",
       "<td>0.2328444</td></tr></table></div>"
      ],
      "text/plain": [
       "variable    relative_importance    scaled_importance    percentage\n",
       "----------  ---------------------  -------------------  ------------\n",
       "petal_wid   1                      1                    0.271872\n",
       "petal_len   0.929213               0.929213             0.252627\n",
       "sepal_len   0.892535               0.892535             0.242656\n",
       "sepal_wid   0.856447               0.856447             0.232844"
      ]
     },
     "metadata": {},
     "output_type": "display_data"
    },
    {
     "data": {
      "text/plain": []
     },
     "execution_count": 25,
     "metadata": {},
     "output_type": "execute_result"
    }
   ],
   "source": [
    "mDL.train(['sepal_len', 'sepal_wid', 'petal_len', 'petal_wid'],'class', train)"
   ]
  },
  {
   "cell_type": "code",
   "execution_count": 26,
   "id": "c219935d",
   "metadata": {},
   "outputs": [
    {
     "name": "stdout",
     "output_type": "stream",
     "text": [
      "Model Details\n",
      "=============\n",
      "H2ODeepLearningEstimator :  Deep Learning\n",
      "Model Key:  DeepLearning_model_python_1645782701179_2\n",
      "\n",
      "\n",
      "Status of Neuron Layers: predicting class, 3-class classification, multinomial distribution, CrossEntropy loss, 41,803 weights/biases, 498.2 KB, 1,240 training samples, mini-batch size 1\n"
     ]
    },
    {
     "data": {
      "text/html": [
       "<div style=\"overflow:auto\"><table style=\"width:50%\"><tr><td><b></b></td>\n",
       "<td><b>layer</b></td>\n",
       "<td><b>units</b></td>\n",
       "<td><b>type</b></td>\n",
       "<td><b>dropout</b></td>\n",
       "<td><b>l1</b></td>\n",
       "<td><b>l2</b></td>\n",
       "<td><b>mean_rate</b></td>\n",
       "<td><b>rate_rms</b></td>\n",
       "<td><b>momentum</b></td>\n",
       "<td><b>mean_weight</b></td>\n",
       "<td><b>weight_rms</b></td>\n",
       "<td><b>mean_bias</b></td>\n",
       "<td><b>bias_rms</b></td></tr>\n",
       "<tr><td></td>\n",
       "<td>1</td>\n",
       "<td>4</td>\n",
       "<td>Input</td>\n",
       "<td>0.0</td>\n",
       "<td></td>\n",
       "<td></td>\n",
       "<td></td>\n",
       "<td></td>\n",
       "<td></td>\n",
       "<td></td>\n",
       "<td></td>\n",
       "<td></td>\n",
       "<td></td></tr>\n",
       "<tr><td></td>\n",
       "<td>2</td>\n",
       "<td>200</td>\n",
       "<td>Rectifier</td>\n",
       "<td>0.0</td>\n",
       "<td>0.0</td>\n",
       "<td>0.0</td>\n",
       "<td>0.0047112</td>\n",
       "<td>0.0039144</td>\n",
       "<td>0.0</td>\n",
       "<td>-0.0033580</td>\n",
       "<td>0.1064790</td>\n",
       "<td>0.4868866</td>\n",
       "<td>0.0091979</td></tr>\n",
       "<tr><td></td>\n",
       "<td>3</td>\n",
       "<td>200</td>\n",
       "<td>Rectifier</td>\n",
       "<td>0.0</td>\n",
       "<td>0.0</td>\n",
       "<td>0.0</td>\n",
       "<td>0.0107431</td>\n",
       "<td>0.0165925</td>\n",
       "<td>0.0</td>\n",
       "<td>0.0000983</td>\n",
       "<td>0.0700109</td>\n",
       "<td>0.9993405</td>\n",
       "<td>0.0028752</td></tr>\n",
       "<tr><td></td>\n",
       "<td>4</td>\n",
       "<td>3</td>\n",
       "<td>Softmax</td>\n",
       "<td></td>\n",
       "<td>0.0</td>\n",
       "<td>0.0</td>\n",
       "<td>0.0075618</td>\n",
       "<td>0.0572708</td>\n",
       "<td>0.0</td>\n",
       "<td>-0.0232991</td>\n",
       "<td>0.3914212</td>\n",
       "<td>-0.0007993</td>\n",
       "<td>0.0004095</td></tr></table></div>"
      ],
      "text/plain": [
       "    layer    units    type       dropout    l1    l2    mean_rate             rate_rms             momentum    mean_weight            weight_rms           mean_bias               bias_rms\n",
       "--  -------  -------  ---------  ---------  ----  ----  --------------------  -------------------  ----------  ---------------------  -------------------  ----------------------  ---------------------\n",
       "    1        4        Input      0.0\n",
       "    2        200      Rectifier  0.0        0.0   0.0   0.004711221218749415  0.00391441211104393  0.0         -0.003358015758115016  0.10647895932197571  0.4868865853612219      0.009197935461997986\n",
       "    3        200      Rectifier  0.0        0.0   0.0   0.010743120644445298  0.01659248024225235  0.0         9.829551530181675e-05  0.07001090049743652  0.9993404719849976      0.0028752442449331284\n",
       "    4        3        Softmax               0.0   0.0   0.007561763007834088  0.05727079510688782  0.0         -0.023299107678722068  0.39142119884490967  -0.0007992841425377506  0.0004095205804333091"
      ]
     },
     "metadata": {},
     "output_type": "display_data"
    },
    {
     "name": "stdout",
     "output_type": "stream",
     "text": [
      "\n",
      "\n",
      "ModelMetricsMultinomial: deeplearning\n",
      "** Reported on train data. **\n",
      "\n",
      "MSE: 0.10384517354125541\n",
      "RMSE: 0.3222501722904976\n",
      "LogLoss: 0.4682909916403536\n",
      "Mean Per-Class Error: 0.1349206349206349\n",
      "AUC: NaN\n",
      "AUCPR: NaN\n",
      "Multinomial auc values: Table is not computed because it is disabled (model parameter 'auc_type' is set to AUTO or NONE) or due to domain size (maximum is 50 domains).\n",
      "Multinomial auc_pr values: Table is not computed because it is disabled (model parameter 'auc_type' is set to AUTO or NONE) or due to domain size (maximum is 50 domains).\n",
      "\n",
      "Confusion Matrix: Row labels: Actual class; Column labels: Predicted class\n"
     ]
    },
    {
     "data": {
      "text/html": [
       "<div style=\"overflow:auto\"><table style=\"width:50%\"><tr><td><b>Iris-setosa</b></td>\n",
       "<td><b>Iris-versicolor</b></td>\n",
       "<td><b>Iris-virginica</b></td>\n",
       "<td><b>Error</b></td>\n",
       "<td><b>Rate</b></td></tr>\n",
       "<tr><td>40.0</td>\n",
       "<td>0.0</td>\n",
       "<td>0.0</td>\n",
       "<td>0.0</td>\n",
       "<td>0 / 40</td></tr>\n",
       "<tr><td>0.0</td>\n",
       "<td>42.0</td>\n",
       "<td>0.0</td>\n",
       "<td>0.0</td>\n",
       "<td>0 / 42</td></tr>\n",
       "<tr><td>0.0</td>\n",
       "<td>17.0</td>\n",
       "<td>25.0</td>\n",
       "<td>0.4047619</td>\n",
       "<td>17 / 42</td></tr>\n",
       "<tr><td>40.0</td>\n",
       "<td>59.0</td>\n",
       "<td>25.0</td>\n",
       "<td>0.1370968</td>\n",
       "<td>17 / 124</td></tr></table></div>"
      ],
      "text/plain": [
       "Iris-setosa    Iris-versicolor    Iris-virginica    Error     Rate\n",
       "-------------  -----------------  ----------------  --------  --------\n",
       "40             0                  0                 0         0 / 40\n",
       "0              42                 0                 0         0 / 42\n",
       "0              17                 25                0.404762  17 / 42\n",
       "40             59                 25                0.137097  17 / 124"
      ]
     },
     "metadata": {},
     "output_type": "display_data"
    },
    {
     "name": "stdout",
     "output_type": "stream",
     "text": [
      "\n",
      "Top-3 Hit Ratios: \n"
     ]
    },
    {
     "data": {
      "text/html": [
       "<div style=\"overflow:auto\"><table style=\"width:50%\"><tr><td><b>k</b></td>\n",
       "<td><b>hit_ratio</b></td></tr>\n",
       "<tr><td>1</td>\n",
       "<td>0.8629032</td></tr>\n",
       "<tr><td>2</td>\n",
       "<td>1.0</td></tr>\n",
       "<tr><td>3</td>\n",
       "<td>1.0</td></tr></table></div>"
      ],
      "text/plain": [
       "k    hit_ratio\n",
       "---  -----------\n",
       "1    0.862903\n",
       "2    1\n",
       "3    1"
      ]
     },
     "metadata": {},
     "output_type": "display_data"
    },
    {
     "name": "stdout",
     "output_type": "stream",
     "text": [
      "\n",
      "Scoring History: \n"
     ]
    },
    {
     "data": {
      "text/html": [
       "<div style=\"overflow:auto\"><table style=\"width:50%\"><tr><td><b></b></td>\n",
       "<td><b>timestamp</b></td>\n",
       "<td><b>duration</b></td>\n",
       "<td><b>training_speed</b></td>\n",
       "<td><b>epochs</b></td>\n",
       "<td><b>iterations</b></td>\n",
       "<td><b>samples</b></td>\n",
       "<td><b>training_rmse</b></td>\n",
       "<td><b>training_logloss</b></td>\n",
       "<td><b>training_r2</b></td>\n",
       "<td><b>training_classification_error</b></td>\n",
       "<td><b>training_auc</b></td>\n",
       "<td><b>training_pr_auc</b></td></tr>\n",
       "<tr><td></td>\n",
       "<td>2022-02-25 05:08:49</td>\n",
       "<td> 0.000 sec</td>\n",
       "<td>None</td>\n",
       "<td>0.0</td>\n",
       "<td>0</td>\n",
       "<td>0.0</td>\n",
       "<td>nan</td>\n",
       "<td>nan</td>\n",
       "<td>nan</td>\n",
       "<td>nan</td>\n",
       "<td>nan</td>\n",
       "<td>nan</td></tr>\n",
       "<tr><td></td>\n",
       "<td>2022-02-25 05:08:49</td>\n",
       "<td> 0.134 sec</td>\n",
       "<td>1425 obs/sec</td>\n",
       "<td>1.0</td>\n",
       "<td>1</td>\n",
       "<td>124.0</td>\n",
       "<td>0.5816584</td>\n",
       "<td>3.0522474</td>\n",
       "<td>0.4881829</td>\n",
       "<td>0.3387097</td>\n",
       "<td>nan</td>\n",
       "<td>nan</td></tr>\n",
       "<tr><td></td>\n",
       "<td>2022-02-25 05:08:50</td>\n",
       "<td> 0.902 sec</td>\n",
       "<td>1476 obs/sec</td>\n",
       "<td>10.0</td>\n",
       "<td>10</td>\n",
       "<td>1240.0</td>\n",
       "<td>0.3222502</td>\n",
       "<td>0.4682910</td>\n",
       "<td>0.8429040</td>\n",
       "<td>0.1370968</td>\n",
       "<td>nan</td>\n",
       "<td>nan</td></tr></table></div>"
      ],
      "text/plain": [
       "    timestamp            duration    training_speed    epochs    iterations    samples    training_rmse    training_logloss    training_r2    training_classification_error    training_auc    training_pr_auc\n",
       "--  -------------------  ----------  ----------------  --------  ------------  ---------  ---------------  ------------------  -------------  -------------------------------  --------------  -----------------\n",
       "    2022-02-25 05:08:49  0.000 sec                     0         0             0          nan              nan                 nan            nan                              nan             nan\n",
       "    2022-02-25 05:08:49  0.134 sec   1425 obs/sec      1         1             124        0.581658         3.05225             0.488183       0.33871                          nan             nan\n",
       "    2022-02-25 05:08:50  0.902 sec   1476 obs/sec      10        10            1240       0.32225          0.468291            0.842904       0.137097                         nan             nan"
      ]
     },
     "metadata": {},
     "output_type": "display_data"
    },
    {
     "name": "stdout",
     "output_type": "stream",
     "text": [
      "\n",
      "Variable Importances: \n"
     ]
    },
    {
     "data": {
      "text/html": [
       "<div style=\"overflow:auto\"><table style=\"width:50%\"><tr><td><b>variable</b></td>\n",
       "<td><b>relative_importance</b></td>\n",
       "<td><b>scaled_importance</b></td>\n",
       "<td><b>percentage</b></td></tr>\n",
       "<tr><td>petal_wid</td>\n",
       "<td>1.0</td>\n",
       "<td>1.0</td>\n",
       "<td>0.2718724</td></tr>\n",
       "<tr><td>petal_len</td>\n",
       "<td>0.9292129</td>\n",
       "<td>0.9292129</td>\n",
       "<td>0.2526274</td></tr>\n",
       "<tr><td>sepal_len</td>\n",
       "<td>0.8925354</td>\n",
       "<td>0.8925354</td>\n",
       "<td>0.2426558</td></tr>\n",
       "<tr><td>sepal_wid</td>\n",
       "<td>0.8564472</td>\n",
       "<td>0.8564472</td>\n",
       "<td>0.2328444</td></tr></table></div>"
      ],
      "text/plain": [
       "variable    relative_importance    scaled_importance    percentage\n",
       "----------  ---------------------  -------------------  ------------\n",
       "petal_wid   1                      1                    0.271872\n",
       "petal_len   0.929213               0.929213             0.252627\n",
       "sepal_len   0.892535               0.892535             0.242656\n",
       "sepal_wid   0.856447               0.856447             0.232844"
      ]
     },
     "metadata": {},
     "output_type": "display_data"
    },
    {
     "data": {
      "text/plain": []
     },
     "execution_count": 26,
     "metadata": {},
     "output_type": "execute_result"
    }
   ],
   "source": [
    "mDL"
   ]
  },
  {
   "cell_type": "code",
   "execution_count": 27,
   "id": "ceabbfe9",
   "metadata": {},
   "outputs": [
    {
     "name": "stdout",
     "output_type": "stream",
     "text": [
      "deeplearning prediction progress: |██████████████████████████████████████████████| (done) 100%\n"
     ]
    },
    {
     "data": {
      "text/html": [
       "<table>\n",
       "<thead>\n",
       "<tr><th>predict        </th><th style=\"text-align: right;\">  Iris-setosa</th><th style=\"text-align: right;\">  Iris-versicolor</th><th style=\"text-align: right;\">  Iris-virginica</th></tr>\n",
       "</thead>\n",
       "<tbody>\n",
       "<tr><td>Iris-setosa    </td><td style=\"text-align: right;\">    0.966051 </td><td style=\"text-align: right;\">      0.0339488  </td><td style=\"text-align: right;\">     1.08087e-20</td></tr>\n",
       "<tr><td>Iris-setosa    </td><td style=\"text-align: right;\">    0.997683 </td><td style=\"text-align: right;\">      0.00231667 </td><td style=\"text-align: right;\">     2.08145e-21</td></tr>\n",
       "<tr><td>Iris-setosa    </td><td style=\"text-align: right;\">    0.999917 </td><td style=\"text-align: right;\">      8.34635e-05</td><td style=\"text-align: right;\">     3.98443e-23</td></tr>\n",
       "<tr><td>Iris-setosa    </td><td style=\"text-align: right;\">    0.999732 </td><td style=\"text-align: right;\">      0.000268223</td><td style=\"text-align: right;\">     1.09646e-22</td></tr>\n",
       "<tr><td>Iris-setosa    </td><td style=\"text-align: right;\">    0.999896 </td><td style=\"text-align: right;\">      0.000104015</td><td style=\"text-align: right;\">     1.1474e-23 </td></tr>\n",
       "<tr><td>Iris-setosa    </td><td style=\"text-align: right;\">    0.999963 </td><td style=\"text-align: right;\">      3.71256e-05</td><td style=\"text-align: right;\">     1.02712e-22</td></tr>\n",
       "<tr><td>Iris-setosa    </td><td style=\"text-align: right;\">    0.990836 </td><td style=\"text-align: right;\">      0.00916378 </td><td style=\"text-align: right;\">     3.71764e-19</td></tr>\n",
       "<tr><td>Iris-setosa    </td><td style=\"text-align: right;\">    0.989907 </td><td style=\"text-align: right;\">      0.0100933  </td><td style=\"text-align: right;\">     2.99345e-20</td></tr>\n",
       "<tr><td>Iris-setosa    </td><td style=\"text-align: right;\">    0.999783 </td><td style=\"text-align: right;\">      0.000216986</td><td style=\"text-align: right;\">     1.95268e-22</td></tr>\n",
       "<tr><td>Iris-versicolor</td><td style=\"text-align: right;\">    0.0605945</td><td style=\"text-align: right;\">      0.939405   </td><td style=\"text-align: right;\">     2.9907e-18 </td></tr>\n",
       "</tbody>\n",
       "</table>"
      ]
     },
     "metadata": {},
     "output_type": "display_data"
    },
    {
     "data": {
      "text/plain": []
     },
     "execution_count": 27,
     "metadata": {},
     "output_type": "execute_result"
    }
   ],
   "source": [
    "mDL.predict(test)"
   ]
  },
  {
   "cell_type": "code",
   "execution_count": 28,
   "id": "cf29bc6b",
   "metadata": {},
   "outputs": [
    {
     "name": "stdout",
     "output_type": "stream",
     "text": [
      "\n",
      "ModelMetricsMultinomial: deeplearning\n",
      "** Reported on test data. **\n",
      "\n",
      "MSE: 0.14626480942325973\n",
      "RMSE: 0.3824458254750073\n",
      "LogLoss: 0.4373717083515227\n",
      "Mean Per-Class Error: 0.19999999999999998\n",
      "AUC: NaN\n",
      "AUCPR: NaN\n",
      "Multinomial auc values: Table is not computed because it is disabled (model parameter 'auc_type' is set to AUTO or NONE) or due to domain size (maximum is 50 domains).\n",
      "Multinomial auc_pr values: Table is not computed because it is disabled (model parameter 'auc_type' is set to AUTO or NONE) or due to domain size (maximum is 50 domains).\n",
      "\n",
      "Confusion Matrix: Row labels: Actual class; Column labels: Predicted class\n"
     ]
    },
    {
     "data": {
      "text/html": [
       "<div style=\"overflow:auto\"><table style=\"width:50%\"><tr><td><b>Iris-setosa</b></td>\n",
       "<td><b>Iris-versicolor</b></td>\n",
       "<td><b>Iris-virginica</b></td>\n",
       "<td><b>Error</b></td>\n",
       "<td><b>Rate</b></td></tr>\n",
       "<tr><td>9.0</td>\n",
       "<td>1.0</td>\n",
       "<td>0.0</td>\n",
       "<td>0.1</td>\n",
       "<td>1 / 10</td></tr>\n",
       "<tr><td>0.0</td>\n",
       "<td>8.0</td>\n",
       "<td>0.0</td>\n",
       "<td>0.0</td>\n",
       "<td>0 / 8</td></tr>\n",
       "<tr><td>0.0</td>\n",
       "<td>4.0</td>\n",
       "<td>4.0</td>\n",
       "<td>0.5</td>\n",
       "<td>4 / 8</td></tr>\n",
       "<tr><td>9.0</td>\n",
       "<td>13.0</td>\n",
       "<td>4.0</td>\n",
       "<td>0.1923077</td>\n",
       "<td>5 / 26</td></tr></table></div>"
      ],
      "text/plain": [
       "Iris-setosa    Iris-versicolor    Iris-virginica    Error     Rate\n",
       "-------------  -----------------  ----------------  --------  ------\n",
       "9              1                  0                 0.1       1 / 10\n",
       "0              8                  0                 0         0 / 8\n",
       "0              4                  4                 0.5       4 / 8\n",
       "9              13                 4                 0.192308  5 / 26"
      ]
     },
     "metadata": {},
     "output_type": "display_data"
    },
    {
     "name": "stdout",
     "output_type": "stream",
     "text": [
      "\n",
      "Top-3 Hit Ratios: \n"
     ]
    },
    {
     "data": {
      "text/html": [
       "<div style=\"overflow:auto\"><table style=\"width:50%\"><tr><td><b>k</b></td>\n",
       "<td><b>hit_ratio</b></td></tr>\n",
       "<tr><td>1</td>\n",
       "<td>0.8076923</td></tr>\n",
       "<tr><td>2</td>\n",
       "<td>1.0</td></tr>\n",
       "<tr><td>3</td>\n",
       "<td>1.0</td></tr></table></div>"
      ],
      "text/plain": [
       "k    hit_ratio\n",
       "---  -----------\n",
       "1    0.807692\n",
       "2    1\n",
       "3    1"
      ]
     },
     "metadata": {},
     "output_type": "display_data"
    },
    {
     "data": {
      "text/plain": []
     },
     "execution_count": 28,
     "metadata": {},
     "output_type": "execute_result"
    }
   ],
   "source": [
    "mDL.model_performance(test)"
   ]
  },
  {
   "cell_type": "code",
   "execution_count": null,
   "id": "358c93cc",
   "metadata": {},
   "outputs": [],
   "source": []
  }
 ],
 "metadata": {
  "kernelspec": {
   "display_name": "Python 3",
   "language": "python",
   "name": "python3"
  },
  "language_info": {
   "codemirror_mode": {
    "name": "ipython",
    "version": 3
   },
   "file_extension": ".py",
   "mimetype": "text/x-python",
   "name": "python",
   "nbconvert_exporter": "python",
   "pygments_lexer": "ipython3",
   "version": "3.8.8"
  }
 },
 "nbformat": 4,
 "nbformat_minor": 5
}
