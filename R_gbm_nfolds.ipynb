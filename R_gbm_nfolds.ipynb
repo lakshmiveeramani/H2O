{
 "cells": [
  {
   "cell_type": "code",
   "execution_count": 98,
   "id": "4e1c40e7",
   "metadata": {},
   "outputs": [],
   "source": [
    "library(h2o)"
   ]
  },
  {
   "cell_type": "code",
   "execution_count": 99,
   "id": "b21af77e",
   "metadata": {},
   "outputs": [
    {
     "name": "stdout",
     "output_type": "stream",
     "text": [
      " Connection successful!\n",
      "\n",
      "R is connected to the H2O cluster: \n",
      "    H2O cluster uptime:         3 hours 1 minutes \n",
      "    H2O cluster timezone:       America/New_York \n",
      "    H2O data parsing timezone:  UTC \n",
      "    H2O cluster version:        3.36.0.3 \n",
      "    H2O cluster version age:    9 days  \n",
      "    H2O cluster name:           H2O_started_from_R_laksh_fdd511 \n",
      "    H2O cluster total nodes:    1 \n",
      "    H2O cluster total memory:   0.79 GB \n",
      "    H2O cluster total cores:    4 \n",
      "    H2O cluster allowed cores:  4 \n",
      "    H2O cluster healthy:        TRUE \n",
      "    H2O Connection ip:          localhost \n",
      "    H2O Connection port:        54321 \n",
      "    H2O Connection proxy:       NA \n",
      "    H2O Internal Security:      FALSE \n",
      "    R Version:                  R version 3.6.1 (2019-07-05) \n",
      "\n"
     ]
    }
   ],
   "source": [
    "h2o.init()"
   ]
  },
  {
   "cell_type": "code",
   "execution_count": 100,
   "id": "e1c43ba0",
   "metadata": {},
   "outputs": [],
   "source": [
    "people = h2o.getFrame(\"people\")"
   ]
  },
  {
   "cell_type": "code",
   "execution_count": 101,
   "id": "957e6fda",
   "metadata": {},
   "outputs": [],
   "source": [
    "parts <- h2o.splitFrame(people, ratios = 0.897,\n",
    "                        destination_frames = c(\"ptrain\",\"ptest\"),\n",
    "                        seed = 123)"
   ]
  },
  {
   "cell_type": "code",
   "execution_count": 102,
   "id": "e5ef2bd2",
   "metadata": {},
   "outputs": [
    {
     "data": {
      "text/html": [
       "<ol class=list-inline>\n",
       "\t<li>900</li>\n",
       "\t<li>100</li>\n",
       "</ol>\n"
      ],
      "text/latex": [
       "\\begin{enumerate*}\n",
       "\\item 900\n",
       "\\item 100\n",
       "\\end{enumerate*}\n"
      ],
      "text/markdown": [
       "1. 900\n",
       "2. 100\n",
       "\n",
       "\n"
      ],
      "text/plain": [
       "[1] 900 100"
      ]
     },
     "metadata": {},
     "output_type": "display_data"
    }
   ],
   "source": [
    "sapply(parts, nrow)"
   ]
  },
  {
   "cell_type": "code",
   "execution_count": 103,
   "id": "10fcc71f",
   "metadata": {},
   "outputs": [],
   "source": [
    "train <- h2o.getFrame(\"ptrain\")"
   ]
  },
  {
   "cell_type": "code",
   "execution_count": 104,
   "id": "2df07eef",
   "metadata": {},
   "outputs": [],
   "source": [
    "test <- h2o.getFrame(\"ptest\")"
   ]
  },
  {
   "cell_type": "code",
   "execution_count": 105,
   "id": "7155a59c",
   "metadata": {},
   "outputs": [],
   "source": [
    "y <- \"income\""
   ]
  },
  {
   "cell_type": "code",
   "execution_count": 106,
   "id": "66ddf623",
   "metadata": {},
   "outputs": [],
   "source": [
    "x <- setdiff(names(train), c(\"id\", y))"
   ]
  },
  {
   "cell_type": "code",
   "execution_count": 107,
   "id": "b38c9915",
   "metadata": {},
   "outputs": [
    {
     "name": "stdout",
     "output_type": "stream",
     "text": [
      "  |======================================================================| 100%\n"
     ]
    }
   ],
   "source": [
    "m3 <- h2o.gbm(x, y, train, model_id = \"def9folds_r\", nfolds = 9)"
   ]
  },
  {
   "cell_type": "code",
   "execution_count": 108,
   "id": "9cd04109",
   "metadata": {},
   "outputs": [
    {
     "data": {
      "text/plain": [
       "H2ORegressionMetrics: gbm\n",
       "** Reported on training data. **\n",
       "\n",
       "MSE:  1276927\n",
       "RMSE:  1130.012\n",
       "MAE:  955.3263\n",
       "RMSLE:  0.03146328\n",
       "Mean Residual Deviance :  1276927\n"
      ]
     },
     "metadata": {},
     "output_type": "display_data"
    }
   ],
   "source": [
    "h2o.performance(m3, train = TRUE)"
   ]
  },
  {
   "cell_type": "code",
   "execution_count": 109,
   "id": "835fa490",
   "metadata": {},
   "outputs": [
    {
     "data": {
      "text/plain": [
       "H2ORegressionMetrics: gbm\n",
       "** Reported on cross-validation data. **\n",
       "** 9-fold cross-validation on training data (Metrics computed for combined holdout predictions) **\n",
       "\n",
       "MSE:  2409719\n",
       "RMSE:  1552.327\n",
       "MAE:  1304.116\n",
       "RMSLE:  0.04209846\n",
       "Mean Residual Deviance :  2409719\n"
      ]
     },
     "metadata": {},
     "output_type": "display_data"
    }
   ],
   "source": [
    "h2o.performance(m3, xval = TRUE)"
   ]
  },
  {
   "cell_type": "code",
   "execution_count": 110,
   "id": "51e7a17f",
   "metadata": {},
   "outputs": [
    {
     "data": {
      "text/plain": [
       "H2ORegressionMetrics: gbm\n",
       "\n",
       "MSE:  2360788\n",
       "RMSE:  1536.486\n",
       "MAE:  1320.839\n",
       "RMSLE:  0.0415663\n",
       "Mean Residual Deviance :  2360788\n"
      ]
     },
     "metadata": {},
     "output_type": "display_data"
    }
   ],
   "source": [
    "h2o.performance(m3, test)"
   ]
  },
  {
   "cell_type": "code",
   "execution_count": 111,
   "id": "e9ed954c",
   "metadata": {},
   "outputs": [
    {
     "name": "stdout",
     "output_type": "stream",
     "text": [
      "  |======================================================================| 100%\n"
     ]
    }
   ],
   "source": [
    "m4 <- h2o.gbm(x, y, train, model_id = \"overfit9folds_r\", nfolds = 9, ntrees = 1000, max_depth = 10)"
   ]
  },
  {
   "cell_type": "code",
   "execution_count": null,
   "id": "ef5f7fe0",
   "metadata": {},
   "outputs": [],
   "source": []
  }
 ],
 "metadata": {
  "kernelspec": {
   "display_name": "R",
   "language": "R",
   "name": "ir"
  },
  "language_info": {
   "codemirror_mode": "r",
   "file_extension": ".r",
   "mimetype": "text/x-r-source",
   "name": "R",
   "pygments_lexer": "r",
   "version": "3.6.1"
  }
 },
 "nbformat": 4,
 "nbformat_minor": 5
}
